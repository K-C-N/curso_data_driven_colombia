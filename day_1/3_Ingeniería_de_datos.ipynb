{
  "nbformat": 4,
  "nbformat_minor": 0,
  "metadata": {
    "colab": {
      "provenance": [],
      "machine_shape": "hm"
    },
    "kernelspec": {
      "name": "python3",
      "display_name": "Python 3"
    },
    "language_info": {
      "name": "python"
    },
    "widgets": {
      "application/vnd.jupyter.widget-state+json": {
        "eb09feee4b8b45958072f6f527526347": {
          "model_module": "@jupyter-widgets/controls",
          "model_name": "ButtonModel",
          "model_module_version": "1.5.0",
          "state": {
            "_dom_classes": [],
            "_model_module": "@jupyter-widgets/controls",
            "_model_module_version": "1.5.0",
            "_model_name": "ButtonModel",
            "_view_count": null,
            "_view_module": "@jupyter-widgets/controls",
            "_view_module_version": "1.5.0",
            "_view_name": "ButtonView",
            "button_style": "",
            "description": "Click Me!",
            "disabled": false,
            "icon": "",
            "layout": "IPY_MODEL_8bde91c4992840a6ab958dab6898f0fb",
            "style": "IPY_MODEL_8bcdef7f3c5849108313fc401f9cbf61",
            "tooltip": ""
          }
        },
        "8bde91c4992840a6ab958dab6898f0fb": {
          "model_module": "@jupyter-widgets/base",
          "model_name": "LayoutModel",
          "model_module_version": "1.2.0",
          "state": {
            "_model_module": "@jupyter-widgets/base",
            "_model_module_version": "1.2.0",
            "_model_name": "LayoutModel",
            "_view_count": null,
            "_view_module": "@jupyter-widgets/base",
            "_view_module_version": "1.2.0",
            "_view_name": "LayoutView",
            "align_content": null,
            "align_items": null,
            "align_self": null,
            "border": null,
            "bottom": null,
            "display": null,
            "flex": null,
            "flex_flow": null,
            "grid_area": null,
            "grid_auto_columns": null,
            "grid_auto_flow": null,
            "grid_auto_rows": null,
            "grid_column": null,
            "grid_gap": null,
            "grid_row": null,
            "grid_template_areas": null,
            "grid_template_columns": null,
            "grid_template_rows": null,
            "height": null,
            "justify_content": null,
            "justify_items": null,
            "left": null,
            "margin": null,
            "max_height": null,
            "max_width": null,
            "min_height": null,
            "min_width": null,
            "object_fit": null,
            "object_position": null,
            "order": null,
            "overflow": null,
            "overflow_x": null,
            "overflow_y": null,
            "padding": null,
            "right": null,
            "top": null,
            "visibility": null,
            "width": null
          }
        },
        "8bcdef7f3c5849108313fc401f9cbf61": {
          "model_module": "@jupyter-widgets/controls",
          "model_name": "ButtonStyleModel",
          "model_module_version": "1.5.0",
          "state": {
            "_model_module": "@jupyter-widgets/controls",
            "_model_module_version": "1.5.0",
            "_model_name": "ButtonStyleModel",
            "_view_count": null,
            "_view_module": "@jupyter-widgets/base",
            "_view_module_version": "1.2.0",
            "_view_name": "StyleView",
            "button_color": null,
            "font_weight": ""
          }
        },
        "ac9ec181ef654ca781f529a108c49d78": {
          "model_module": "@jupyter-widgets/output",
          "model_name": "OutputModel",
          "model_module_version": "1.0.0",
          "state": {
            "_dom_classes": [],
            "_model_module": "@jupyter-widgets/output",
            "_model_module_version": "1.0.0",
            "_model_name": "OutputModel",
            "_view_count": null,
            "_view_module": "@jupyter-widgets/output",
            "_view_module_version": "1.0.0",
            "_view_name": "OutputView",
            "layout": "IPY_MODEL_4426edaab75e44169a49b45b7a1bb61f",
            "msg_id": "",
            "outputs": [
              {
                "output_type": "stream",
                "name": "stdout",
                "text": [
                  "Button clicked.\n"
                ]
              }
            ]
          }
        },
        "4426edaab75e44169a49b45b7a1bb61f": {
          "model_module": "@jupyter-widgets/base",
          "model_name": "LayoutModel",
          "model_module_version": "1.2.0",
          "state": {
            "_model_module": "@jupyter-widgets/base",
            "_model_module_version": "1.2.0",
            "_model_name": "LayoutModel",
            "_view_count": null,
            "_view_module": "@jupyter-widgets/base",
            "_view_module_version": "1.2.0",
            "_view_name": "LayoutView",
            "align_content": null,
            "align_items": null,
            "align_self": null,
            "border": null,
            "bottom": null,
            "display": null,
            "flex": null,
            "flex_flow": null,
            "grid_area": null,
            "grid_auto_columns": null,
            "grid_auto_flow": null,
            "grid_auto_rows": null,
            "grid_column": null,
            "grid_gap": null,
            "grid_row": null,
            "grid_template_areas": null,
            "grid_template_columns": null,
            "grid_template_rows": null,
            "height": null,
            "justify_content": null,
            "justify_items": null,
            "left": null,
            "margin": null,
            "max_height": null,
            "max_width": null,
            "min_height": null,
            "min_width": null,
            "object_fit": null,
            "object_position": null,
            "order": null,
            "overflow": null,
            "overflow_x": null,
            "overflow_y": null,
            "padding": null,
            "right": null,
            "top": null,
            "visibility": null,
            "width": null
          }
        },
        "0d21bdde78be49329c31e41fef99e048": {
          "model_module": "@jupyter-widgets/controls",
          "model_name": "IntSliderModel",
          "model_module_version": "1.5.0",
          "state": {
            "_dom_classes": [],
            "_model_module": "@jupyter-widgets/controls",
            "_model_module_version": "1.5.0",
            "_model_name": "IntSliderModel",
            "_view_count": null,
            "_view_module": "@jupyter-widgets/controls",
            "_view_module_version": "1.5.0",
            "_view_name": "IntSliderView",
            "continuous_update": true,
            "description": "",
            "description_tooltip": null,
            "disabled": false,
            "layout": "IPY_MODEL_79965d7ada15431f82edf440dc1b4279",
            "max": 10,
            "min": 0,
            "orientation": "horizontal",
            "readout": true,
            "readout_format": "d",
            "step": 1,
            "style": "IPY_MODEL_87267ef4d2f44aad824ae997f2bd84eb",
            "value": 8
          }
        },
        "79965d7ada15431f82edf440dc1b4279": {
          "model_module": "@jupyter-widgets/base",
          "model_name": "LayoutModel",
          "model_module_version": "1.2.0",
          "state": {
            "_model_module": "@jupyter-widgets/base",
            "_model_module_version": "1.2.0",
            "_model_name": "LayoutModel",
            "_view_count": null,
            "_view_module": "@jupyter-widgets/base",
            "_view_module_version": "1.2.0",
            "_view_name": "LayoutView",
            "align_content": null,
            "align_items": null,
            "align_self": null,
            "border": null,
            "bottom": null,
            "display": null,
            "flex": null,
            "flex_flow": null,
            "grid_area": null,
            "grid_auto_columns": null,
            "grid_auto_flow": null,
            "grid_auto_rows": null,
            "grid_column": null,
            "grid_gap": null,
            "grid_row": null,
            "grid_template_areas": null,
            "grid_template_columns": null,
            "grid_template_rows": null,
            "height": null,
            "justify_content": null,
            "justify_items": null,
            "left": null,
            "margin": null,
            "max_height": null,
            "max_width": null,
            "min_height": null,
            "min_width": null,
            "object_fit": null,
            "object_position": null,
            "order": null,
            "overflow": null,
            "overflow_x": null,
            "overflow_y": null,
            "padding": null,
            "right": null,
            "top": null,
            "visibility": null,
            "width": null
          }
        },
        "87267ef4d2f44aad824ae997f2bd84eb": {
          "model_module": "@jupyter-widgets/controls",
          "model_name": "SliderStyleModel",
          "model_module_version": "1.5.0",
          "state": {
            "_model_module": "@jupyter-widgets/controls",
            "_model_module_version": "1.5.0",
            "_model_name": "SliderStyleModel",
            "_view_count": null,
            "_view_module": "@jupyter-widgets/base",
            "_view_module_version": "1.2.0",
            "_view_name": "StyleView",
            "description_width": "",
            "handle_color": null
          }
        }
      }
    }
  },
  "cells": [
    {
      "cell_type": "markdown",
      "source": [
        "![Colab logo](https://ciencias.cayetano.edu.pe/wp-content/uploads/sites/28/2024/04/ivencuentro-1024x375.jpg)"
      ],
      "metadata": {
        "id": "W4le3971dp05"
      }
    },
    {
      "cell_type": "markdown",
      "source": [
        "# **Introducción a Data Driven**\n",
        "\n",
        "## **Instructor**\n",
        "\n",
        "> Dr. Pastor E Pérez Estigarribia\n",
        "\n",
        "\n",
        "- [scholar.google](https://bit.ly/352EvtP)\n",
        "\n",
        "- [researchgate](https://bit.ly/3tJ6TLD)\n",
        "\n",
        "---\n",
        "> `—> \"Pastor is a biologist with a PhD in computer science and a doctoral\n",
        "thesis on theoretical mathematical models for epidemic control. During the COVID-19 pandemic, he has assisted the Paraguayan Ministry of Public Health with forecasts based on mathematical models. He has published articles on mathematical modelling for epidemic control, research on the use of models for forecasting and the development of computer systems for epidemiological surveillance. He has worked as an International Consultant, providing regional training on health emergency data analysis.\"`\n",
        "\n",
        "---\n",
        "\n",
        "**Professional Experience**\n",
        "\n",
        "`—> 2022-current. Postgraduate Professor at the Polytechnic School, National University of Asunción (FPUNA). Professor in the Master and Specialization in Information and Communication Technologies. Professor in the master's and doctoral program in computer science. %>%\t2023. Professor of the diploma course in Machine Learning. MITIC-FPUNA %>% 2023. Instructor in Macrotraining in Artificial Intelligence (MeIA) challenges. UNAM. Mexico  %>% 2023. Professor of the diploma course in Artificial Intelligence. MITIC-FPUNA  %>% \t2023. International PAHO Consultant, Health Emergencies Department (PHE) of the Pan American Health Organization (PAHO/WHO) %>%\t2022. Professor in the diploma course \"Introduction to Health Data Analysis\". FPUNA %>%\t2022. Coordinator and professor of the diploma course \"Statistical Computing and Data Analysis\". FPUNA %>%\t2021-2022. Epidemiological data analyst. Ministry of Public Health and Social Welfare. Paraguay %>%\t2020-2021. Assistance in the National PAHO, Paraguay, for the management and analysis of data from the emergence of the COVID-19 pandemic %>% \t2021. Development of a surveillance system for the identification of probable cases of COVID-19 (CONACYT: PINV20-129) %>%\t2021. Simulation of epidemiological models for prediction and contingency of COVID-19 (CONACYT: PINV20-40)`\n"
      ],
      "metadata": {
        "id": "2JUvn1NVd2Yj"
      }
    },
    {
      "cell_type": "markdown",
      "source": [
        "# [**Agenda de hoy**](https://colab.research.google.com/drive/12Dej0Q6M-XGM3VIFhuqTNFbnyqgXNlUV?usp=sharing)\n",
        "\n",
        "1. [Data Driven](https://colab.research.google.com/drive/1VXo-8FxheqRjodT-bN_QJT6ldKydRlt6?usp=sharing)\n",
        "\n",
        "    1.1. ¿Qué es Data Driven?\n",
        "\n",
        "    1.2. Modelado y aprendizaje basados en datos en ciencia e ingeniería\n",
        "\n",
        "    1.3. Ventajas del Toma de Decisiones Basada en Datos (DDDM)\n",
        "\n",
        "    1.4. Proceso de DDDM\n",
        "\n",
        "    1.5. Ejemplos de DDDM: de supuestos a presupuestos\n",
        "\n",
        "    1.6. Review en data-driven science\n",
        "\n",
        "2. [La Ciencia y Ciencia de Datos](https://colab.research.google.com/drive/1wQdq0qgMyEGNXZqQaWenv6X6wrA4kEfH?usp=sharing)\n",
        "\n",
        "    2.1. El método científico\n",
        "\n",
        "    2.2. Modelos para simular la realidad\n",
        "\n",
        "    2.3. La Ciencia y sus teorías de decisión ¿Cuál es el mejor modelo?\n",
        "\n",
        "    2.4. Agregar valor a los datos y grados de evidencia\n",
        "\n",
        "3. [Ingeniería de datos (Teoría y Práctica)](https://colab.research.google.com/drive/1JCHoXNnb_v7vvBUi2m7c5fSbDYEEbeSE?usp=sharing)\n",
        "\n",
        "    3.1. Data Engineer\n",
        "\n",
        "    3.2. Arquitectura de canalización de datos\n",
        "\n",
        "    3.3. Formularios electrónicos\n",
        "\n",
        "    3.4. Extract, Transform, Load (ETL)\n",
        "\n",
        "    3.5. Clean & Tidy data\n",
        "\n",
        "    3.6. Ingeniería de atributos\n",
        "\n",
        "4. [Analítica de datos (Teoría y Práctica)](https://colab.research.google.com/drive/1pdle5OrgiES8mkta_jJpPFzVvxoK2m-I?usp=sharing)\n",
        "\n",
        "    4.1. Analítica descriptiva (EDA)\n",
        "\n",
        "    4.2. Analítica de diagnóstico (Pruebas de hipótesis)\n",
        "\n",
        "    4.3. Analítica predicativa (Inferencia e IA)\n",
        "\n",
        "    4.4. Analítica prescriptiva\n",
        "\n",
        "5. [Software para DDDM](https://colab.research.google.com/drive/1LayE9WUWA1vxS_v8Z3VQ1m9UR9zvUudB?usp=sharing) ([Dashboard](https://en.wikipedia.org/wiki/Dashboard_(computing) [web app](https://en.wikipedia.org/wiki/Web_application) Ejemplo en salud pública)\n",
        "\n",
        "    5.1. [EpyGraph](http://epygraph-demo.uaa.edu.py/es/)\n",
        "\n",
        "    5.3. [Riesgo de reborte](https://dgvs.mspbs.gov.py/riesgo-de-rebrote-covid-19/)  \n",
        "\n",
        "    5.2. [EpyModel 1.0](http://epymodel.uaa.edu.py/)\n",
        "\n",
        "    5.2. [EpyModel 1.1](http://epymodel.uaa.edu.py:3000/)\n",
        "    \n",
        "  \n",
        "\n"
      ],
      "metadata": {
        "id": "zf_cvvGeeCHJ"
      }
    },
    {
      "cell_type": "markdown",
      "source": [
        "# 3. [Ingeniería de datos (Teoría y Práctica)](https://colab.research.google.com/drive/1JCHoXNnb_v7vvBUi2m7c5fSbDYEEbeSE?usp=sharing)"
      ],
      "metadata": {
        "id": "BhmAFLF_e-J5"
      }
    },
    {
      "cell_type": "markdown",
      "source": [
        "##       3.1. Data Engineer\n",
        "\n",
        ">  El ingeniero de datos (o Data Engineer) se encarga de construir y mantener las estructuras de datos y las arquitecturas tecnológicas necesarias para la ingestión, procesamiento e implementación a gran escala de aplicaciones que utilizan datos de forma intensiva\n",
        "\n",
        "Algunas de las tareas más comunes que realiza un ingeniero de datos incluyen:\n",
        "\n",
        "- Adquisición de conjuntos de datos: Se busca y obtiene conjuntos de datos que se ajusten a las necesidades del negocio.\n",
        "\n",
        "- Desarrollo de algoritmos: Se crean algoritmos para transformar los datos en información útil y procesable.\n",
        "\n",
        "- Construcción y mantenimiento de arquitecturas de canalización de bases de datos: Se diseñan sistemas para gestionar y canalizar los datos.\n",
        "\n",
        "\n",
        "- Creación de métodos de validación de datos y herramientas de análisis: Se garantiza la calidad y utilidad de los datos.\n",
        "\n",
        "- Cumplimiento de políticas de seguridad y gobernanza de datos: Se asegura que los datos estén protegidos y se sigan las normativas\n",
        "\n",
        "Fuentes:\n",
        "\n",
        "- https://datademia.es/blog/que-es-la-ingenieria-de-datos\n",
        "\n",
        "- https://www.coursera.org/mx/articles/what-does-a-data-engineer-do-and-how-do-i-become-one\n",
        "\n"
      ],
      "metadata": {
        "id": "ZjBhgIfefE0H"
      }
    },
    {
      "cell_type": "markdown",
      "source": [
        "\n",
        " ##         3.2. Arquitectura de canalización de datos\n",
        "\n",
        "\n",
        "> La arquitectura de canalización de datos es como un sistema organizado e interconectado que toma datos sin procesar, los refina, los almacena, los analiza y luego comparte los valiosos resultados, todo de forma sistemática y automatizada.\n",
        "\n",
        "\n",
        "`El objetivo principal es proporcionar a las aplicaciones posteriores y a los usuarios finales un flujo constante de datos limpios y coherentes.`\n",
        "\n",
        "\n",
        "Diferencia entre ETL y la arquitectura de canalización de datos:\n",
        "\n",
        "- A diferencia de un oleoducto ETL (Extraer, Transformar, Cargar) que implica extraer datos de una fuente, transformarlos y luego cargarlos en un sistema de destino, una canalización de datos es una terminología más amplia.\n",
        "\n",
        "- La clave está en que la arquitectura de canalización de datos utiliza herramientas de procesamiento para mover datos de un sistema a otro, independientemente de si los datos se transforman o no.\n",
        "\n",
        "\n",
        "Componentes de la arquitectura de canalización de datos:\n",
        "\n",
        "\n",
        "- Fuentes de datos: El canal de datos comienza desde las fuentes de datos, donde se generan los datos. Estas fuentes pueden ser bases de datos, archivos de registro o API externas que proporcionan flujos de datos en tiempo real.\n",
        "\n",
        "- Procesamiento y transformación: Los datos se procesan y transforman en esta etapa para que sean útiles y coherentes.\n",
        "\n",
        "- Destino de datos: Finalmente, los datos se envían al destino, como un almacén de datos o una aplicación de análisis.\n",
        "\n",
        "Fuentes:\n",
        "\n",
        "- https://webscrapingsite.com/es/resources/data-pipeline-architecture/\n",
        "\n",
        "**Ejemplo de proyecto de arquitectura de canalización de datos**\n",
        "\n",
        "[A worldwide epidemiological database for COVID-19 at fine-grained spatial resolution](https://www.nature.com/articles/s41597-022-01245-1)\n",
        "\n",
        "\n",
        "\n",
        "\n",
        "\n"
      ],
      "metadata": {
        "id": "q7EwCGWwfM72"
      }
    },
    {
      "cell_type": "code",
      "source": [
        "# prompt: instalar pacman en R\n",
        "\n",
        "install.packages('pacman')\n"
      ],
      "metadata": {
        "colab": {
          "base_uri": "https://localhost:8080/"
        },
        "id": "QRdmtwHJBPBX",
        "outputId": "fc71b24d-3872-4ada-811c-a030b7efba4d"
      },
      "execution_count": null,
      "outputs": [
        {
          "output_type": "stream",
          "name": "stderr",
          "text": [
            "Installing package into ‘/usr/local/lib/R/site-library’\n",
            "(as ‘lib’ is unspecified)\n",
            "\n"
          ]
        }
      ]
    },
    {
      "cell_type": "code",
      "source": [
        "require(\"pacman\")\n",
        "\n",
        "pacman::p_load(COVID19)\n",
        "\n",
        "\n",
        "df = covid19(\n",
        "  country = \"Paraguay\",\n",
        "  level = 1,\n",
        "  start = \"2020-01-01\",\n",
        "  end = \"2022-01-01\",\n",
        "  vintage = NULL,\n",
        "  wb = NULL,\n",
        "  gmr = NULL,\n",
        "  amr = NULL,\n",
        "  dir = tempdir(),\n",
        "  verbose = TRUE,\n",
        ")\n",
        "\n",
        "head(df)"
      ],
      "metadata": {
        "colab": {
          "base_uri": "https://localhost:8080/",
          "height": 688
        },
        "id": "HbIWlBquBBP1",
        "outputId": "83995921-5639-43b6-a30c-6c6027b95c5f"
      },
      "execution_count": null,
      "outputs": [
        {
          "output_type": "stream",
          "name": "stdout",
          "text": [
            "We have invested a lot of time and effort in creating COVID-19 Data\n",
            "Hub, please cite the following when using it:\n",
            "\n",
            "  Guidotti, E., Ardia, D., (2020), \"COVID-19 Data Hub\", Journal of Open\n",
            "  Source Software 5(51):2376, doi: 10.21105/joss.02376\n",
            "\n",
            "The implementation details and the latest version of the data are\n",
            "described in:\n",
            "\n",
            "  Guidotti, E., (2022), \"A worldwide epidemiological database for\n",
            "  COVID-19 at fine-grained spatial resolution\", Sci Data 9(1):112, doi:\n",
            "  10.1038/s41597-022-01245-1\n",
            "To print citations in BibTeX format use:\n",
            " > print(citation('COVID19'), bibtex=TRUE)\n",
            "\n",
            "To hide this message use 'verbose = FALSE'.\n"
          ]
        },
        {
          "output_type": "display_data",
          "data": {
            "text/html": [
              "<table class=\"dataframe\">\n",
              "<caption>A data.frame: 6 × 47</caption>\n",
              "<thead>\n",
              "\t<tr><th></th><th scope=col>id</th><th scope=col>date</th><th scope=col>confirmed</th><th scope=col>deaths</th><th scope=col>recovered</th><th scope=col>tests</th><th scope=col>vaccines</th><th scope=col>people_vaccinated</th><th scope=col>people_fully_vaccinated</th><th scope=col>hosp</th><th scope=col>⋯</th><th scope=col>iso_alpha_3</th><th scope=col>iso_alpha_2</th><th scope=col>iso_numeric</th><th scope=col>iso_currency</th><th scope=col>key_local</th><th scope=col>key_google_mobility</th><th scope=col>key_apple_mobility</th><th scope=col>key_jhu_csse</th><th scope=col>key_nuts</th><th scope=col>key_gadm</th></tr>\n",
              "\t<tr><th></th><th scope=col>&lt;chr&gt;</th><th scope=col>&lt;date&gt;</th><th scope=col>&lt;int&gt;</th><th scope=col>&lt;int&gt;</th><th scope=col>&lt;int&gt;</th><th scope=col>&lt;int64&gt;</th><th scope=col>&lt;int64&gt;</th><th scope=col>&lt;int&gt;</th><th scope=col>&lt;int&gt;</th><th scope=col>&lt;int&gt;</th><th scope=col>⋯</th><th scope=col>&lt;chr&gt;</th><th scope=col>&lt;chr&gt;</th><th scope=col>&lt;int&gt;</th><th scope=col>&lt;chr&gt;</th><th scope=col>&lt;lgl&gt;</th><th scope=col>&lt;chr&gt;</th><th scope=col>&lt;chr&gt;</th><th scope=col>&lt;chr&gt;</th><th scope=col>&lt;lgl&gt;</th><th scope=col>&lt;chr&gt;</th></tr>\n",
              "</thead>\n",
              "<tbody>\n",
              "\t<tr><th scope=row>1</th><td>551d5717</td><td>2020-01-03</td><td>NA</td><td>NA</td><td>NA</td><td>NA</td><td>NA</td><td>NA</td><td>NA</td><td>NA</td><td>⋯</td><td>PRY</td><td>PY</td><td>600</td><td>PYG</td><td>NA</td><td>ChIJYz3xkDQIXJQR8y5YHWH_-rM</td><td>NA</td><td>PY</td><td>NA</td><td>PRY</td></tr>\n",
              "\t<tr><th scope=row>2</th><td>551d5717</td><td>2020-01-04</td><td>NA</td><td>NA</td><td>NA</td><td>NA</td><td>NA</td><td>NA</td><td>NA</td><td>NA</td><td>⋯</td><td>PRY</td><td>PY</td><td>600</td><td>PYG</td><td>NA</td><td>ChIJYz3xkDQIXJQR8y5YHWH_-rM</td><td>NA</td><td>PY</td><td>NA</td><td>PRY</td></tr>\n",
              "\t<tr><th scope=row>3</th><td>551d5717</td><td>2020-01-05</td><td>NA</td><td>NA</td><td>NA</td><td>NA</td><td>NA</td><td>NA</td><td>NA</td><td>NA</td><td>⋯</td><td>PRY</td><td>PY</td><td>600</td><td>PYG</td><td>NA</td><td>ChIJYz3xkDQIXJQR8y5YHWH_-rM</td><td>NA</td><td>PY</td><td>NA</td><td>PRY</td></tr>\n",
              "\t<tr><th scope=row>4</th><td>551d5717</td><td>2020-01-06</td><td>NA</td><td>NA</td><td>NA</td><td>NA</td><td>NA</td><td>NA</td><td>NA</td><td>NA</td><td>⋯</td><td>PRY</td><td>PY</td><td>600</td><td>PYG</td><td>NA</td><td>ChIJYz3xkDQIXJQR8y5YHWH_-rM</td><td>NA</td><td>PY</td><td>NA</td><td>PRY</td></tr>\n",
              "\t<tr><th scope=row>5</th><td>551d5717</td><td>2020-01-07</td><td>NA</td><td>NA</td><td>NA</td><td>NA</td><td>NA</td><td>NA</td><td>NA</td><td>NA</td><td>⋯</td><td>PRY</td><td>PY</td><td>600</td><td>PYG</td><td>NA</td><td>ChIJYz3xkDQIXJQR8y5YHWH_-rM</td><td>NA</td><td>PY</td><td>NA</td><td>PRY</td></tr>\n",
              "\t<tr><th scope=row>6</th><td>551d5717</td><td>2020-01-08</td><td>NA</td><td>NA</td><td>NA</td><td>NA</td><td>NA</td><td>NA</td><td>NA</td><td>NA</td><td>⋯</td><td>PRY</td><td>PY</td><td>600</td><td>PYG</td><td>NA</td><td>ChIJYz3xkDQIXJQR8y5YHWH_-rM</td><td>NA</td><td>PY</td><td>NA</td><td>PRY</td></tr>\n",
              "</tbody>\n",
              "</table>\n"
            ],
            "text/markdown": "\nA data.frame: 6 × 47\n\n| <!--/--> | id &lt;chr&gt; | date &lt;date&gt; | confirmed &lt;int&gt; | deaths &lt;int&gt; | recovered &lt;int&gt; | tests &lt;int64&gt; | vaccines &lt;int64&gt; | people_vaccinated &lt;int&gt; | people_fully_vaccinated &lt;int&gt; | hosp &lt;int&gt; | ⋯ ⋯ | iso_alpha_3 &lt;chr&gt; | iso_alpha_2 &lt;chr&gt; | iso_numeric &lt;int&gt; | iso_currency &lt;chr&gt; | key_local &lt;lgl&gt; | key_google_mobility &lt;chr&gt; | key_apple_mobility &lt;chr&gt; | key_jhu_csse &lt;chr&gt; | key_nuts &lt;lgl&gt; | key_gadm &lt;chr&gt; |\n|---|---|---|---|---|---|---|---|---|---|---|---|---|---|---|---|---|---|---|---|---|---|\n| 1 | 551d5717 | 2020-01-03 | NA | NA | NA | NA | NA | NA | NA | NA | ⋯ | PRY | PY | 600 | PYG | NA | ChIJYz3xkDQIXJQR8y5YHWH_-rM | NA | PY | NA | PRY |\n| 2 | 551d5717 | 2020-01-04 | NA | NA | NA | NA | NA | NA | NA | NA | ⋯ | PRY | PY | 600 | PYG | NA | ChIJYz3xkDQIXJQR8y5YHWH_-rM | NA | PY | NA | PRY |\n| 3 | 551d5717 | 2020-01-05 | NA | NA | NA | NA | NA | NA | NA | NA | ⋯ | PRY | PY | 600 | PYG | NA | ChIJYz3xkDQIXJQR8y5YHWH_-rM | NA | PY | NA | PRY |\n| 4 | 551d5717 | 2020-01-06 | NA | NA | NA | NA | NA | NA | NA | NA | ⋯ | PRY | PY | 600 | PYG | NA | ChIJYz3xkDQIXJQR8y5YHWH_-rM | NA | PY | NA | PRY |\n| 5 | 551d5717 | 2020-01-07 | NA | NA | NA | NA | NA | NA | NA | NA | ⋯ | PRY | PY | 600 | PYG | NA | ChIJYz3xkDQIXJQR8y5YHWH_-rM | NA | PY | NA | PRY |\n| 6 | 551d5717 | 2020-01-08 | NA | NA | NA | NA | NA | NA | NA | NA | ⋯ | PRY | PY | 600 | PYG | NA | ChIJYz3xkDQIXJQR8y5YHWH_-rM | NA | PY | NA | PRY |\n\n",
            "text/latex": "A data.frame: 6 × 47\n\\begin{tabular}{r|lllllllllllllllllllll}\n  & id & date & confirmed & deaths & recovered & tests & vaccines & people\\_vaccinated & people\\_fully\\_vaccinated & hosp & ⋯ & iso\\_alpha\\_3 & iso\\_alpha\\_2 & iso\\_numeric & iso\\_currency & key\\_local & key\\_google\\_mobility & key\\_apple\\_mobility & key\\_jhu\\_csse & key\\_nuts & key\\_gadm\\\\\n  & <chr> & <date> & <int> & <int> & <int> & <int64> & <int64> & <int> & <int> & <int> & ⋯ & <chr> & <chr> & <int> & <chr> & <lgl> & <chr> & <chr> & <chr> & <lgl> & <chr>\\\\\n\\hline\n\t1 & 551d5717 & 2020-01-03 & NA & NA & NA & NA & NA & NA & NA & NA & ⋯ & PRY & PY & 600 & PYG & NA & ChIJYz3xkDQIXJQR8y5YHWH\\_-rM & NA & PY & NA & PRY\\\\\n\t2 & 551d5717 & 2020-01-04 & NA & NA & NA & NA & NA & NA & NA & NA & ⋯ & PRY & PY & 600 & PYG & NA & ChIJYz3xkDQIXJQR8y5YHWH\\_-rM & NA & PY & NA & PRY\\\\\n\t3 & 551d5717 & 2020-01-05 & NA & NA & NA & NA & NA & NA & NA & NA & ⋯ & PRY & PY & 600 & PYG & NA & ChIJYz3xkDQIXJQR8y5YHWH\\_-rM & NA & PY & NA & PRY\\\\\n\t4 & 551d5717 & 2020-01-06 & NA & NA & NA & NA & NA & NA & NA & NA & ⋯ & PRY & PY & 600 & PYG & NA & ChIJYz3xkDQIXJQR8y5YHWH\\_-rM & NA & PY & NA & PRY\\\\\n\t5 & 551d5717 & 2020-01-07 & NA & NA & NA & NA & NA & NA & NA & NA & ⋯ & PRY & PY & 600 & PYG & NA & ChIJYz3xkDQIXJQR8y5YHWH\\_-rM & NA & PY & NA & PRY\\\\\n\t6 & 551d5717 & 2020-01-08 & NA & NA & NA & NA & NA & NA & NA & NA & ⋯ & PRY & PY & 600 & PYG & NA & ChIJYz3xkDQIXJQR8y5YHWH\\_-rM & NA & PY & NA & PRY\\\\\n\\end{tabular}\n",
            "text/plain": [
              "  id       date       confirmed deaths recovered tests vaccines\n",
              "1 551d5717 2020-01-03 NA        NA     NA        NA    NA      \n",
              "2 551d5717 2020-01-04 NA        NA     NA        NA    NA      \n",
              "3 551d5717 2020-01-05 NA        NA     NA        NA    NA      \n",
              "4 551d5717 2020-01-06 NA        NA     NA        NA    NA      \n",
              "5 551d5717 2020-01-07 NA        NA     NA        NA    NA      \n",
              "6 551d5717 2020-01-08 NA        NA     NA        NA    NA      \n",
              "  people_vaccinated people_fully_vaccinated hosp ⋯ iso_alpha_3 iso_alpha_2\n",
              "1 NA                NA                      NA   ⋯ PRY         PY         \n",
              "2 NA                NA                      NA   ⋯ PRY         PY         \n",
              "3 NA                NA                      NA   ⋯ PRY         PY         \n",
              "4 NA                NA                      NA   ⋯ PRY         PY         \n",
              "5 NA                NA                      NA   ⋯ PRY         PY         \n",
              "6 NA                NA                      NA   ⋯ PRY         PY         \n",
              "  iso_numeric iso_currency key_local key_google_mobility        \n",
              "1 600         PYG          NA        ChIJYz3xkDQIXJQR8y5YHWH_-rM\n",
              "2 600         PYG          NA        ChIJYz3xkDQIXJQR8y5YHWH_-rM\n",
              "3 600         PYG          NA        ChIJYz3xkDQIXJQR8y5YHWH_-rM\n",
              "4 600         PYG          NA        ChIJYz3xkDQIXJQR8y5YHWH_-rM\n",
              "5 600         PYG          NA        ChIJYz3xkDQIXJQR8y5YHWH_-rM\n",
              "6 600         PYG          NA        ChIJYz3xkDQIXJQR8y5YHWH_-rM\n",
              "  key_apple_mobility key_jhu_csse key_nuts key_gadm\n",
              "1 NA                 PY           NA       PRY     \n",
              "2 NA                 PY           NA       PRY     \n",
              "3 NA                 PY           NA       PRY     \n",
              "4 NA                 PY           NA       PRY     \n",
              "5 NA                 PY           NA       PRY     \n",
              "6 NA                 PY           NA       PRY     "
            ]
          },
          "metadata": {}
        }
      ]
    },
    {
      "cell_type": "code",
      "source": [
        "# prompt: guardar dataframe como csv en R\n",
        "\n",
        "write.csv(df, \"covid19_paraguay.csv\", row.names = FALSE)\n"
      ],
      "metadata": {
        "id": "hujhck-PCCIO"
      },
      "execution_count": null,
      "outputs": []
    },
    {
      "cell_type": "markdown",
      "source": [
        "##   3.3. Formularios electrónicos"
      ],
      "metadata": {
        "id": "BaPDYIWbDNwi"
      }
    },
    {
      "cell_type": "markdown",
      "source": [
        "Forms\n",
        "\n",
        "Los formularios ofrecen una forma sencilla de parametrizar el código. Desde una celda de código, seleccione Insertar → Añadir campo de formulario. Cuando cambie el valor en un formulario, cambiará el valor correspondiente en el código.\n"
      ],
      "metadata": {
        "id": "wUYufDHIE88E"
      }
    },
    {
      "cell_type": "code",
      "source": [
        "# @title String fields\n",
        "\n",
        "text = '5' # @param {type:\"string\"}\n",
        "dropdown = '3rd option' # @param [\"1st option\", \"2nd option\", \"3rd option\"]\n",
        "text_and_dropdown = '1st option' # @param [\"1st option\", \"2nd option\", \"3rd option\"] {allow-input: true}\n",
        "\n",
        "print(text)\n",
        "print(dropdown)\n",
        "print(text_and_dropdown)"
      ],
      "metadata": {
        "id": "lgttGy5kFMPj"
      },
      "execution_count": null,
      "outputs": []
    },
    {
      "cell_type": "code",
      "source": [
        "# @title Raw fields\n",
        "\n",
        "raw_input = None # @param {type:\"raw\"}\n",
        "raw_dropdown = 1 # @param [1, \"raw_input\", \"False\", \"'string'\"] {type:\"raw\"}\n",
        "\n",
        "print(raw_input)\n",
        "print(raw_dropdown)"
      ],
      "metadata": {
        "id": "-DjOXLrAFtGF"
      },
      "execution_count": null,
      "outputs": []
    },
    {
      "cell_type": "code",
      "source": [
        "# @title Number fields\n",
        "number_input = 10.0 # @param {type:\"number\"}\n",
        "number_slider = 0.5 # @param {type:\"slider\", min:-1, max:1, step:0.1}\n",
        "\n",
        "integer_input = 10 # @param {type:\"integer\"}\n",
        "integer_slider = 57 # @param {type:\"slider\", min:0, max:100, step:1}\n",
        "\n",
        "print(number_input)\n",
        "print(number_slider)\n",
        "\n",
        "print(integer_input)\n",
        "print(integer_slider)"
      ],
      "metadata": {
        "id": "B4Al-kAfGPAx"
      },
      "execution_count": null,
      "outputs": []
    },
    {
      "cell_type": "code",
      "source": [
        "# @title Boolean fields\n",
        "boolean_checkbox = True # @param {type:\"boolean\"}\n",
        "boolean_dropdown = True # @param [\"False\", \"True\"] {type:\"raw\"}\n",
        "\n",
        "print(boolean_checkbox)\n",
        "print(boolean_dropdown)"
      ],
      "metadata": {
        "id": "4FoNkK3yGSwY"
      },
      "execution_count": null,
      "outputs": []
    },
    {
      "cell_type": "code",
      "source": [
        "# @title ## Markdown\n",
        "# @markdown You can also include Markdown in forms.\n",
        "\n",
        "# @markdown ---\n",
        "# @markdown ### Enter a file path:\n",
        "file_path = \"\" # @param {type:\"string\"}\n",
        "# @markdown ---\n",
        "\n"
      ],
      "metadata": {
        "id": "WwzOvt6cGW5_"
      },
      "execution_count": null,
      "outputs": []
    },
    {
      "cell_type": "code",
      "source": [
        "# @title Date fields\n",
        "date_input = '2018-03-22' # @param {type:\"date\"}\n",
        "\n",
        "print(date_input)"
      ],
      "metadata": {
        "id": "4VvXVQlyGLrB"
      },
      "execution_count": null,
      "outputs": []
    },
    {
      "cell_type": "markdown",
      "source": [
        "Puede cambiar la vista del formulario seleccionando **Ver → Mostrar/ocultar código** o utilizando la barra de herramientas situada encima de la celda de código seleccionada. Puede ver tanto el código como el formulario, sólo el formulario o sólo el código."
      ],
      "metadata": {
        "id": "8ai_nvZiG2wO"
      }
    },
    {
      "cell_type": "code",
      "source": [
        "# @title Click `Show code` in the code cell. { display-mode: \"form\" }\n",
        "\n",
        "option1 = 'A' # @param [\"A\", \"B\", \"C\"]\n",
        "print('You selected', option1)"
      ],
      "metadata": {
        "id": "cMyumx4xGz4y"
      },
      "execution_count": null,
      "outputs": []
    },
    {
      "cell_type": "code",
      "source": [
        "# @title After running this cell manually, it will auto-run if you change the selected value. { run: \"auto\" }\n",
        "\n",
        "option2 = \"A\" # @param [\"A\", \"B\", \"C\"]\n",
        "print('You selected', option2)\n"
      ],
      "metadata": {
        "id": "ly0ksp1sHMhV"
      },
      "execution_count": null,
      "outputs": []
    },
    {
      "cell_type": "markdown",
      "source": [
        "# Uso de Widgets Jupyter para interactividad\n",
        "\n",
        "Colab soporta el conjunto básico de Widgets Jupyter para proporcionar interacciones entre Python y el navegador.\n",
        "\n",
        "Consulte la página oficial [Jupyter Widgets documentation](https://ipywidgets.readthedocs.io/en/latest/examples/Widget%20Basics.html)."
      ],
      "metadata": {
        "id": "O7lceSdhHwEw"
      }
    },
    {
      "cell_type": "code",
      "source": [
        "import ipywidgets as widgets\n",
        "from IPython.display import display\n",
        "button = widgets.Button(description=\"Click Me!\")\n",
        "output = widgets.Output()\n",
        "\n",
        "def on_button_clicked(b):\n",
        "  # Display the message within the output widget.\n",
        "  with output:\n",
        "    print(\"Button clicked.\")\n",
        "\n",
        "button.on_click(on_button_clicked)\n",
        "display(button, output)"
      ],
      "metadata": {
        "id": "pNgnaWqYHcEA",
        "colab": {
          "base_uri": "https://localhost:8080/",
          "height": 66,
          "referenced_widgets": [
            "eb09feee4b8b45958072f6f527526347",
            "8bde91c4992840a6ab958dab6898f0fb",
            "8bcdef7f3c5849108313fc401f9cbf61",
            "ac9ec181ef654ca781f529a108c49d78",
            "4426edaab75e44169a49b45b7a1bb61f"
          ]
        },
        "outputId": "3db4066e-8068-499a-c7d3-240687b5f101"
      },
      "execution_count": null,
      "outputs": [
        {
          "output_type": "display_data",
          "data": {
            "text/plain": [
              "Button(description='Click Me!', style=ButtonStyle())"
            ],
            "application/vnd.jupyter.widget-view+json": {
              "version_major": 2,
              "version_minor": 0,
              "model_id": "eb09feee4b8b45958072f6f527526347"
            }
          },
          "metadata": {}
        },
        {
          "output_type": "display_data",
          "data": {
            "text/plain": [
              "Output()"
            ],
            "application/vnd.jupyter.widget-view+json": {
              "version_major": 2,
              "version_minor": 0,
              "model_id": "ac9ec181ef654ca781f529a108c49d78"
            }
          },
          "metadata": {}
        }
      ]
    },
    {
      "cell_type": "markdown",
      "source": [
        "### Uso de los controles deslizantes de Jupyter Widgets"
      ],
      "metadata": {
        "id": "0ynm_GeBIPVX"
      }
    },
    {
      "cell_type": "code",
      "source": [
        "import ipywidgets as widgets\n",
        "slider = widgets.IntSlider(value=5, max=10)\n",
        "display(slider)"
      ],
      "metadata": {
        "id": "mcyu6s0JITA2",
        "colab": {
          "base_uri": "https://localhost:8080/",
          "height": 49,
          "referenced_widgets": [
            "0d21bdde78be49329c31e41fef99e048",
            "79965d7ada15431f82edf440dc1b4279",
            "87267ef4d2f44aad824ae997f2bd84eb"
          ]
        },
        "outputId": "718b4f5b-7879-42a3-c097-725cea9b1878"
      },
      "execution_count": null,
      "outputs": [
        {
          "output_type": "display_data",
          "data": {
            "text/plain": [
              "IntSlider(value=5, max=10)"
            ],
            "application/vnd.jupyter.widget-view+json": {
              "version_major": 2,
              "version_minor": 0,
              "model_id": "0d21bdde78be49329c31e41fef99e048"
            }
          },
          "metadata": {}
        }
      ]
    },
    {
      "cell_type": "code",
      "source": [
        "# The current value of the slider\n",
        "slider.value"
      ],
      "metadata": {
        "id": "u2IU1-kbIVol",
        "colab": {
          "base_uri": "https://localhost:8080/"
        },
        "outputId": "5a42df5a-d303-458d-9d9b-2bd423e63ca4"
      },
      "execution_count": null,
      "outputs": [
        {
          "output_type": "execute_result",
          "data": {
            "text/plain": [
              "8"
            ]
          },
          "metadata": {},
          "execution_count": 3
        }
      ]
    },
    {
      "cell_type": "markdown",
      "source": [
        " ##          3.4. Extract, Transform, Load (ETL)\n",
        "\n",
        " ![](https://miro.medium.com/v2/resize:fit:720/format:webp/1*j4wYX3Zcpx1PAmReXsbqRg.jpeg)\n",
        "\n",
        "\n",
        "\n",
        "\n",
        "\n",
        "\n"
      ],
      "metadata": {
        "id": "k-3DMChpfSNZ"
      }
    },
    {
      "cell_type": "markdown",
      "source": [
        "Usaremos Python para realizar ETL en dos conjuntos de datos del repositorio de aprendizaje automático de UCI: el conjunto de datos Wine y el conjunto de datos Wine Quality. Usaremos las bibliotecas Pandas y NumPy para la manipulación de datos.\n",
        "\n",
        "Ver más detalles: https://medium.com/@jesus.cantu217/a-beginners-guide-to-etl-with-python-74d8063d7266"
      ],
      "metadata": {
        "id": "m9huDz4gKBJB"
      }
    },
    {
      "cell_type": "code",
      "source": [
        "# Required Libraries\n",
        "import pandas as pd\n",
        "import numpy as np\n",
        "\n",
        "# Extraction\n",
        "wine_url = \"https://archive.ics.uci.edu/ml/machine-learning-databases/wine/wine.data\"\n",
        "wine_data = pd.read_csv(wine_url, header=None)\n",
        "\n",
        "wine_quality_url = \"https://archive.ics.uci.edu/ml/machine-learning-databases/wine-quality/winequality-red.csv\"\n",
        "wine_quality_data = pd.read_csv(wine_quality_url, sep=\";\")\n",
        "\n",
        "# Initial look at the data\n",
        "print(wine_data.head())\n",
        "print(wine_quality_data.head())\n"
      ],
      "metadata": {
        "id": "39QoH29MJnMF",
        "colab": {
          "base_uri": "https://localhost:8080/"
        },
        "outputId": "142e3c7b-3746-49f7-805c-70dabd8f35a8"
      },
      "execution_count": null,
      "outputs": [
        {
          "output_type": "stream",
          "name": "stdout",
          "text": [
            "   0      1     2     3     4    5     6     7     8     9     10    11    12  \\\n",
            "0   1  14.23  1.71  2.43  15.6  127  2.80  3.06  0.28  2.29  5.64  1.04  3.92   \n",
            "1   1  13.20  1.78  2.14  11.2  100  2.65  2.76  0.26  1.28  4.38  1.05  3.40   \n",
            "2   1  13.16  2.36  2.67  18.6  101  2.80  3.24  0.30  2.81  5.68  1.03  3.17   \n",
            "3   1  14.37  1.95  2.50  16.8  113  3.85  3.49  0.24  2.18  7.80  0.86  3.45   \n",
            "4   1  13.24  2.59  2.87  21.0  118  2.80  2.69  0.39  1.82  4.32  1.04  2.93   \n",
            "\n",
            "     13  \n",
            "0  1065  \n",
            "1  1050  \n",
            "2  1185  \n",
            "3  1480  \n",
            "4   735  \n",
            "   fixed acidity  volatile acidity  citric acid  residual sugar  chlorides  \\\n",
            "0            7.4              0.70         0.00             1.9      0.076   \n",
            "1            7.8              0.88         0.00             2.6      0.098   \n",
            "2            7.8              0.76         0.04             2.3      0.092   \n",
            "3           11.2              0.28         0.56             1.9      0.075   \n",
            "4            7.4              0.70         0.00             1.9      0.076   \n",
            "\n",
            "   free sulfur dioxide  total sulfur dioxide  density    pH  sulphates  \\\n",
            "0                 11.0                  34.0   0.9978  3.51       0.56   \n",
            "1                 25.0                  67.0   0.9968  3.20       0.68   \n",
            "2                 15.0                  54.0   0.9970  3.26       0.65   \n",
            "3                 17.0                  60.0   0.9980  3.16       0.58   \n",
            "4                 11.0                  34.0   0.9978  3.51       0.56   \n",
            "\n",
            "   alcohol  quality  \n",
            "0      9.4        5  \n",
            "1      9.8        5  \n",
            "2      9.8        5  \n",
            "3      9.8        6  \n",
            "4      9.4        5  \n"
          ]
        }
      ]
    },
    {
      "cell_type": "code",
      "source": [
        "# Transformation\n",
        "# Assigning meaningful column names\n",
        "wine_data.columns = ['class', 'alcohol', 'malic acid', 'ash',\n",
        "                     'alcalinity of ash', 'magnesium', 'total phenols',\n",
        "                     'flavonoids', 'nonflavonoid phenols', 'proanthocyanidins',\n",
        "                     'color intensity', 'hue', 'OD280/OD315 of diluted wines',\n",
        "                     'proline']\n",
        "\n",
        "# Converting Class column into categorical datatype\n",
        "wine_data['class'] = wine_data['class'].astype('category')\n",
        "\n",
        "# Checking for any missing values in both datasets\n",
        "print(wine_data.isnull().sum())\n",
        "print(wine_quality_data.isnull().sum())"
      ],
      "metadata": {
        "colab": {
          "base_uri": "https://localhost:8080/"
        },
        "id": "tCgBxTnFN01-",
        "outputId": "466a2d0d-ac2f-4c05-b3ed-43abd6092631"
      },
      "execution_count": null,
      "outputs": [
        {
          "output_type": "stream",
          "name": "stdout",
          "text": [
            "class                           0\n",
            "alcohol                         0\n",
            "malic acid                      0\n",
            "ash                             0\n",
            "alcalinity of ash               0\n",
            "magnesium                       0\n",
            "total phenols                   0\n",
            "flavonoids                      0\n",
            "nonflavonoid phenols            0\n",
            "proanthocyanidins               0\n",
            "color intensity                 0\n",
            "hue                             0\n",
            "OD280/OD315 of diluted wines    0\n",
            "proline                         0\n",
            "dtype: int64\n",
            "fixed acidity           0\n",
            "volatile acidity        0\n",
            "citric acid             0\n",
            "residual sugar          0\n",
            "chlorides               0\n",
            "free sulfur dioxide     0\n",
            "total sulfur dioxide    0\n",
            "density                 0\n",
            "pH                      0\n",
            "sulphates               0\n",
            "alcohol                 0\n",
            "quality                 0\n",
            "dtype: int64\n"
          ]
        }
      ]
    },
    {
      "cell_type": "code",
      "source": [
        "# Normalizing 'alcohol' column in the wine_data using Min-Max normalization\n",
        "wine_data['alcohol'] = (wine_data['alcohol'] - wine_data['alcohol'].min()) / (wine_data['alcohol'].max() - wine_data['alcohol'].min())\n",
        "\n",
        "# Creating an average quality column in wine_quality_data\n",
        "wine_quality_data['average_quality'] = wine_quality_data[['fixed acidity', 'volatile acidity', 'citric acid',\n",
        "                                                          'residual sugar', 'chlorides', 'free sulfur dioxide',\n",
        "                                                          'total sulfur dioxide', 'density', 'pH', 'sulphates',\n",
        "                                                          'alcohol']].mean(axis = 1)\n",
        "\n",
        "# Creating a 'quality_label' column based on 'average_quality'\n",
        "wine_quality_data['quality_label'] = pd.cut(wine_quality_data['average_quality'], bins=[0, 5, 7, np.inf],\n",
        "                                            labels = ['low', 'medium', 'high'])\n",
        "\n",
        "# Loading\n",
        "# Saving the transformed data as a csv file\n",
        "wine_data.to_csv('wine_dataset.csv', index = False)\n",
        "wine_quality_data.to_csv('wine_quality_dataset.csv', index = False)"
      ],
      "metadata": {
        "id": "8XO3eVXGN6hc"
      },
      "execution_count": null,
      "outputs": []
    },
    {
      "cell_type": "markdown",
      "source": [
        "Un ejemplo sencillo que utiliza Seaborn y Matplotlib para crear y trazar una matriz de correlación:"
      ],
      "metadata": {
        "id": "aDnuLOrBMssD"
      }
    },
    {
      "cell_type": "code",
      "source": [
        "import seaborn as sns\n",
        "import matplotlib.pyplot as plt\n",
        "\n",
        "# Correlation Matrix\n",
        "corr = wine_quality_data.corr(numeric_only = True)\n",
        "\n",
        "# Plot heatmap\n",
        "plt.figure(figsize = (12, 10))\n",
        "sns.heatmap(corr, annot = True, cmap = 'coolwarm')\n",
        "plt.title('Correlation Matrix of Wine Quality Data')\n",
        "\n",
        "# Save the figure\n",
        "plt.savefig('correlation_matrix.png', dpi = 300, bbox_inches = 'tight')\n",
        "\n",
        "plt.show()"
      ],
      "metadata": {
        "colab": {
          "base_uri": "https://localhost:8080/",
          "height": 969
        },
        "id": "IPqYVc2bM5BO",
        "outputId": "d32d7fd5-a8db-4dcb-d66e-dcddd3bd3e5e"
      },
      "execution_count": null,
      "outputs": [
        {
          "output_type": "display_data",
          "data": {
            "text/plain": [
              "<Figure size 1200x1000 with 2 Axes>"
            ],
            "image/png": "[encoded data removed]"
          },
          "metadata": {}
        }
      ]
    },
    {
      "cell_type": "markdown",
      "source": [
        "ETL con R\n",
        "\n",
        "- [Using etl](https://cran.r-project.org/web/packages/etl/vignettes/using_etl.html)\n",
        "\n",
        "- [ETL (Extract, Transform, Load) using R](https://medium.com/@amorimfranchi/etl-extract-transform-load-using-r-043208ee70b2)\n",
        "\n",
        "- [Simple ETL Pipeline in R](https://kolaobajuluwa.medium.com/simple-etl-pipeline-in-r-efcf6da9a3cc)\n",
        "\n",
        "- [Building Data Pipelines using R](https://www.datacamp.com/tutorial/building-a-tweet-etl-pipeline-using-r)"
      ],
      "metadata": {
        "id": "V4JXjEs6Oj2A"
      }
    },
    {
      "cell_type": "markdown",
      "source": [
        " ##          3.5. Clean & Tidy data\n",
        "\n",
        " > https://r4ds.had.co.nz/tidy-data.html\n",
        "\n",
        " > “Todas las familias felices son iguales; cada familia infeliz lo es a su manera”. -- Leo Tolstoy\n",
        "\n",
        " > \"Los conjuntos de datos ordenados son todos iguales, pero cada conjunto de datos desordenado lo es a su manera\". –– Hadley Wickham\n",
        "\n",
        "\n",
        " ![](https://d33wubrfki0l68.cloudfront.net/b88ef926a004b0fce72b2526b0b5c4413666a4cb/24a30/cover.png)\n",
        "\n",
        "\n",
        " Hay tres reglas interrelacionadas que hacen que un conjunto de datos esté ordenado:\n",
        "\n",
        " 1. Cada variable debe tener su propia columna.\n",
        " 2. Cada observación debe tener su propia fila.\n",
        " 3. Cada valor debe tener su propia celda.\n",
        "\n",
        " ![](https://d33wubrfki0l68.cloudfront.net/6f1ddb544fc5c69a2478e444ab8112fb0eea23f8/91adc/images/tidy-1.png)\n",
        "\n",
        "\n",
        "\n",
        "\n"
      ],
      "metadata": {
        "id": "GyazftxUfW2c"
      }
    },
    {
      "cell_type": "code",
      "source": [
        "# prompt: instalar pacman R\n",
        "\n",
        "install.packages('pacman')\n",
        "\n",
        "require(\"pacman\")\n"
      ],
      "metadata": {
        "colab": {
          "base_uri": "https://localhost:8080/"
        },
        "id": "ceKR7xQORqm_",
        "outputId": "395a7232-6a35-4b4f-d7b0-679e55cf263c"
      },
      "execution_count": null,
      "outputs": [
        {
          "output_type": "stream",
          "name": "stderr",
          "text": [
            "Installing package into ‘/usr/local/lib/R/site-library’\n",
            "(as ‘lib’ is unspecified)\n",
            "\n",
            "Loading required package: pacman\n",
            "\n"
          ]
        }
      ]
    },
    {
      "cell_type": "code",
      "source": [
        "pacman::p_load(tidyverse)"
      ],
      "metadata": {
        "id": "U703DgDlRxDA"
      },
      "execution_count": null,
      "outputs": []
    },
    {
      "cell_type": "code",
      "source": [
        "# Compute rate per 10,000\n",
        "table1 %>%\n",
        "  mutate(rate = cases / population * 10000)"
      ],
      "metadata": {
        "colab": {
          "base_uri": "https://localhost:8080/",
          "height": 286
        },
        "id": "GCw_DWupR-FE",
        "outputId": "3a4d26a7-6364-4141-9f03-edb7050bde53"
      },
      "execution_count": null,
      "outputs": [
        {
          "output_type": "display_data",
          "data": {
            "text/html": [
              "<table class=\"dataframe\">\n",
              "<caption>A tibble: 6 × 5</caption>\n",
              "<thead>\n",
              "\t<tr><th scope=col>country</th><th scope=col>year</th><th scope=col>cases</th><th scope=col>population</th><th scope=col>rate</th></tr>\n",
              "\t<tr><th scope=col>&lt;chr&gt;</th><th scope=col>&lt;dbl&gt;</th><th scope=col>&lt;dbl&gt;</th><th scope=col>&lt;dbl&gt;</th><th scope=col>&lt;dbl&gt;</th></tr>\n",
              "</thead>\n",
              "<tbody>\n",
              "\t<tr><td>Afghanistan</td><td>1999</td><td>   745</td><td>  19987071</td><td>0.372741</td></tr>\n",
              "\t<tr><td>Afghanistan</td><td>2000</td><td>  2666</td><td>  20595360</td><td>1.294466</td></tr>\n",
              "\t<tr><td>Brazil     </td><td>1999</td><td> 37737</td><td> 172006362</td><td>2.193930</td></tr>\n",
              "\t<tr><td>Brazil     </td><td>2000</td><td> 80488</td><td> 174504898</td><td>4.612363</td></tr>\n",
              "\t<tr><td>China      </td><td>1999</td><td>212258</td><td>1272915272</td><td>1.667495</td></tr>\n",
              "\t<tr><td>China      </td><td>2000</td><td>213766</td><td>1280428583</td><td>1.669488</td></tr>\n",
              "</tbody>\n",
              "</table>\n"
            ],
            "text/markdown": "\nA tibble: 6 × 5\n\n| country &lt;chr&gt; | year &lt;dbl&gt; | cases &lt;dbl&gt; | population &lt;dbl&gt; | rate &lt;dbl&gt; |\n|---|---|---|---|---|\n| Afghanistan | 1999 |    745 |   19987071 | 0.372741 |\n| Afghanistan | 2000 |   2666 |   20595360 | 1.294466 |\n| Brazil      | 1999 |  37737 |  172006362 | 2.193930 |\n| Brazil      | 2000 |  80488 |  174504898 | 4.612363 |\n| China       | 1999 | 212258 | 1272915272 | 1.667495 |\n| China       | 2000 | 213766 | 1280428583 | 1.669488 |\n\n",
            "text/latex": "A tibble: 6 × 5\n\\begin{tabular}{lllll}\n country & year & cases & population & rate\\\\\n <chr> & <dbl> & <dbl> & <dbl> & <dbl>\\\\\n\\hline\n\t Afghanistan & 1999 &    745 &   19987071 & 0.372741\\\\\n\t Afghanistan & 2000 &   2666 &   20595360 & 1.294466\\\\\n\t Brazil      & 1999 &  37737 &  172006362 & 2.193930\\\\\n\t Brazil      & 2000 &  80488 &  174504898 & 4.612363\\\\\n\t China       & 1999 & 212258 & 1272915272 & 1.667495\\\\\n\t China       & 2000 & 213766 & 1280428583 & 1.669488\\\\\n\\end{tabular}\n",
            "text/plain": [
              "  country     year cases  population rate    \n",
              "1 Afghanistan 1999    745   19987071 0.372741\n",
              "2 Afghanistan 2000   2666   20595360 1.294466\n",
              "3 Brazil      1999  37737  172006362 2.193930\n",
              "4 Brazil      2000  80488  174504898 4.612363\n",
              "5 China       1999 212258 1272915272 1.667495\n",
              "6 China       2000 213766 1280428583 1.669488"
            ]
          },
          "metadata": {}
        }
      ]
    },
    {
      "cell_type": "code",
      "source": [
        "# Compute cases per year\n",
        "table1 %>%\n",
        "  count(year, wt = cases)"
      ],
      "metadata": {
        "colab": {
          "base_uri": "https://localhost:8080/",
          "height": 161
        },
        "id": "9rWoUtJlSFdc",
        "outputId": "251c1b13-c304-461f-9c44-fa8b39a00c99"
      },
      "execution_count": null,
      "outputs": [
        {
          "output_type": "display_data",
          "data": {
            "text/html": [
              "<table class=\"dataframe\">\n",
              "<caption>A tibble: 2 × 2</caption>\n",
              "<thead>\n",
              "\t<tr><th scope=col>year</th><th scope=col>n</th></tr>\n",
              "\t<tr><th scope=col>&lt;dbl&gt;</th><th scope=col>&lt;dbl&gt;</th></tr>\n",
              "</thead>\n",
              "<tbody>\n",
              "\t<tr><td>1999</td><td>250740</td></tr>\n",
              "\t<tr><td>2000</td><td>296920</td></tr>\n",
              "</tbody>\n",
              "</table>\n"
            ],
            "text/markdown": "\nA tibble: 2 × 2\n\n| year &lt;dbl&gt; | n &lt;dbl&gt; |\n|---|---|\n| 1999 | 250740 |\n| 2000 | 296920 |\n\n",
            "text/latex": "A tibble: 2 × 2\n\\begin{tabular}{ll}\n year & n\\\\\n <dbl> & <dbl>\\\\\n\\hline\n\t 1999 & 250740\\\\\n\t 2000 & 296920\\\\\n\\end{tabular}\n",
            "text/plain": [
              "  year n     \n",
              "1 1999 250740\n",
              "2 2000 296920"
            ]
          },
          "metadata": {}
        }
      ]
    },
    {
      "cell_type": "code",
      "source": [
        "# @title Texto de título predeterminado\n",
        "# Visualise changes over time\n",
        "library(ggplot2)\n",
        "ggplot(table1, aes(year, cases)) +\n",
        "  geom_line(aes(group = country), colour = \"grey50\") +\n",
        "  geom_point(aes(colour = country)) + theme_minimal()"
      ],
      "metadata": {
        "colab": {
          "base_uri": "https://localhost:8080/",
          "height": 437
        },
        "id": "6lWfmosnSKYJ",
        "outputId": "c9e670d7-d561-4956-ba8a-8d993090de02"
      },
      "execution_count": null,
      "outputs": [
        {
          "output_type": "display_data",
          "data": {
            "text/plain": [
              "plot without title"
            ],
            "image/png": "[encoded data removed]"
          },
          "metadata": {
            "image/png": {
              "width": 420,
              "height": 420
            }
          }
        }
      ]
    },
    {
      "cell_type": "markdown",
      "source": [
        "Pivoting"
      ],
      "metadata": {
        "id": "hbFKKu5NSk1e"
      }
    },
    {
      "cell_type": "code",
      "source": [
        "table4a"
      ],
      "metadata": {
        "colab": {
          "base_uri": "https://localhost:8080/",
          "height": 192
        },
        "id": "gM1nQa-nSsTL",
        "outputId": "a6b0030c-ce10-4ff0-831d-303aca05bb5d"
      },
      "execution_count": null,
      "outputs": [
        {
          "output_type": "display_data",
          "data": {
            "text/html": [
              "<table class=\"dataframe\">\n",
              "<caption>A tibble: 3 × 3</caption>\n",
              "<thead>\n",
              "\t<tr><th scope=col>country</th><th scope=col>1999</th><th scope=col>2000</th></tr>\n",
              "\t<tr><th scope=col>&lt;chr&gt;</th><th scope=col>&lt;dbl&gt;</th><th scope=col>&lt;dbl&gt;</th></tr>\n",
              "</thead>\n",
              "<tbody>\n",
              "\t<tr><td>Afghanistan</td><td>   745</td><td>  2666</td></tr>\n",
              "\t<tr><td>Brazil     </td><td> 37737</td><td> 80488</td></tr>\n",
              "\t<tr><td>China      </td><td>212258</td><td>213766</td></tr>\n",
              "</tbody>\n",
              "</table>\n"
            ],
            "text/markdown": "\nA tibble: 3 × 3\n\n| country &lt;chr&gt; | 1999 &lt;dbl&gt; | 2000 &lt;dbl&gt; |\n|---|---|---|\n| Afghanistan |    745 |   2666 |\n| Brazil      |  37737 |  80488 |\n| China       | 212258 | 213766 |\n\n",
            "text/latex": "A tibble: 3 × 3\n\\begin{tabular}{lll}\n country & 1999 & 2000\\\\\n <chr> & <dbl> & <dbl>\\\\\n\\hline\n\t Afghanistan &    745 &   2666\\\\\n\t Brazil      &  37737 &  80488\\\\\n\t China       & 212258 & 213766\\\\\n\\end{tabular}\n",
            "text/plain": [
              "  country     1999   2000  \n",
              "1 Afghanistan    745   2666\n",
              "2 Brazil       37737  80488\n",
              "3 China       212258 213766"
            ]
          },
          "metadata": {}
        }
      ]
    },
    {
      "cell_type": "markdown",
      "source": [
        "![](https://d33wubrfki0l68.cloudfront.net/3aea19108d39606bbe49981acda07696c0c7fcd8/2de65/images/tidy-9.png)"
      ],
      "metadata": {
        "id": "VltMj9VNS3Gf"
      }
    },
    {
      "cell_type": "code",
      "source": [
        "table4a %>%\n",
        "  pivot_longer(c(`1999`, `2000`), names_to = \"year\", values_to = \"cases\")\n"
      ],
      "metadata": {
        "colab": {
          "base_uri": "https://localhost:8080/",
          "height": 286
        },
        "id": "_GTuaIahSvHa",
        "outputId": "0464454c-a30b-4908-8879-168653e866d7"
      },
      "execution_count": null,
      "outputs": [
        {
          "output_type": "display_data",
          "data": {
            "text/html": [
              "<table class=\"dataframe\">\n",
              "<caption>A tibble: 6 × 3</caption>\n",
              "<thead>\n",
              "\t<tr><th scope=col>country</th><th scope=col>year</th><th scope=col>cases</th></tr>\n",
              "\t<tr><th scope=col>&lt;chr&gt;</th><th scope=col>&lt;chr&gt;</th><th scope=col>&lt;dbl&gt;</th></tr>\n",
              "</thead>\n",
              "<tbody>\n",
              "\t<tr><td>Afghanistan</td><td>1999</td><td>   745</td></tr>\n",
              "\t<tr><td>Afghanistan</td><td>2000</td><td>  2666</td></tr>\n",
              "\t<tr><td>Brazil     </td><td>1999</td><td> 37737</td></tr>\n",
              "\t<tr><td>Brazil     </td><td>2000</td><td> 80488</td></tr>\n",
              "\t<tr><td>China      </td><td>1999</td><td>212258</td></tr>\n",
              "\t<tr><td>China      </td><td>2000</td><td>213766</td></tr>\n",
              "</tbody>\n",
              "</table>\n"
            ],
            "text/markdown": "\nA tibble: 6 × 3\n\n| country &lt;chr&gt; | year &lt;chr&gt; | cases &lt;dbl&gt; |\n|---|---|---|\n| Afghanistan | 1999 |    745 |\n| Afghanistan | 2000 |   2666 |\n| Brazil      | 1999 |  37737 |\n| Brazil      | 2000 |  80488 |\n| China       | 1999 | 212258 |\n| China       | 2000 | 213766 |\n\n",
            "text/latex": "A tibble: 6 × 3\n\\begin{tabular}{lll}\n country & year & cases\\\\\n <chr> & <chr> & <dbl>\\\\\n\\hline\n\t Afghanistan & 1999 &    745\\\\\n\t Afghanistan & 2000 &   2666\\\\\n\t Brazil      & 1999 &  37737\\\\\n\t Brazil      & 2000 &  80488\\\\\n\t China       & 1999 & 212258\\\\\n\t China       & 2000 & 213766\\\\\n\\end{tabular}\n",
            "text/plain": [
              "  country     year cases \n",
              "1 Afghanistan 1999    745\n",
              "2 Afghanistan 2000   2666\n",
              "3 Brazil      1999  37737\n",
              "4 Brazil      2000  80488\n",
              "5 China       1999 212258\n",
              "6 China       2000 213766"
            ]
          },
          "metadata": {}
        }
      ]
    },
    {
      "cell_type": "markdown",
      "source": [
        "Wider\n",
        "\n",
        "![](https://d33wubrfki0l68.cloudfront.net/8350f0dda414629b9d6c354f87acf5c5f722be43/bcb84/images/tidy-8.png)"
      ],
      "metadata": {
        "id": "iZsgQp-uS_0L"
      }
    },
    {
      "cell_type": "code",
      "source": [
        "table2"
      ],
      "metadata": {
        "colab": {
          "base_uri": "https://localhost:8080/",
          "height": 474
        },
        "id": "yJXpcsBlTOFX",
        "outputId": "54e0411b-8ef4-4b88-b2df-ece213687879"
      },
      "execution_count": null,
      "outputs": [
        {
          "output_type": "display_data",
          "data": {
            "text/html": [
              "<table class=\"dataframe\">\n",
              "<caption>A tibble: 12 × 4</caption>\n",
              "<thead>\n",
              "\t<tr><th scope=col>country</th><th scope=col>year</th><th scope=col>type</th><th scope=col>count</th></tr>\n",
              "\t<tr><th scope=col>&lt;chr&gt;</th><th scope=col>&lt;dbl&gt;</th><th scope=col>&lt;chr&gt;</th><th scope=col>&lt;dbl&gt;</th></tr>\n",
              "</thead>\n",
              "<tbody>\n",
              "\t<tr><td>Afghanistan</td><td>1999</td><td>cases     </td><td>       745</td></tr>\n",
              "\t<tr><td>Afghanistan</td><td>1999</td><td>population</td><td>  19987071</td></tr>\n",
              "\t<tr><td>Afghanistan</td><td>2000</td><td>cases     </td><td>      2666</td></tr>\n",
              "\t<tr><td>Afghanistan</td><td>2000</td><td>population</td><td>  20595360</td></tr>\n",
              "\t<tr><td>Brazil     </td><td>1999</td><td>cases     </td><td>     37737</td></tr>\n",
              "\t<tr><td>Brazil     </td><td>1999</td><td>population</td><td> 172006362</td></tr>\n",
              "\t<tr><td>Brazil     </td><td>2000</td><td>cases     </td><td>     80488</td></tr>\n",
              "\t<tr><td>Brazil     </td><td>2000</td><td>population</td><td> 174504898</td></tr>\n",
              "\t<tr><td>China      </td><td>1999</td><td>cases     </td><td>    212258</td></tr>\n",
              "\t<tr><td>China      </td><td>1999</td><td>population</td><td>1272915272</td></tr>\n",
              "\t<tr><td>China      </td><td>2000</td><td>cases     </td><td>    213766</td></tr>\n",
              "\t<tr><td>China      </td><td>2000</td><td>population</td><td>1280428583</td></tr>\n",
              "</tbody>\n",
              "</table>\n"
            ],
            "text/markdown": "\nA tibble: 12 × 4\n\n| country &lt;chr&gt; | year &lt;dbl&gt; | type &lt;chr&gt; | count &lt;dbl&gt; |\n|---|---|---|---|\n| Afghanistan | 1999 | cases      |        745 |\n| Afghanistan | 1999 | population |   19987071 |\n| Afghanistan | 2000 | cases      |       2666 |\n| Afghanistan | 2000 | population |   20595360 |\n| Brazil      | 1999 | cases      |      37737 |\n| Brazil      | 1999 | population |  172006362 |\n| Brazil      | 2000 | cases      |      80488 |\n| Brazil      | 2000 | population |  174504898 |\n| China       | 1999 | cases      |     212258 |\n| China       | 1999 | population | 1272915272 |\n| China       | 2000 | cases      |     213766 |\n| China       | 2000 | population | 1280428583 |\n\n",
            "text/latex": "A tibble: 12 × 4\n\\begin{tabular}{llll}\n country & year & type & count\\\\\n <chr> & <dbl> & <chr> & <dbl>\\\\\n\\hline\n\t Afghanistan & 1999 & cases      &        745\\\\\n\t Afghanistan & 1999 & population &   19987071\\\\\n\t Afghanistan & 2000 & cases      &       2666\\\\\n\t Afghanistan & 2000 & population &   20595360\\\\\n\t Brazil      & 1999 & cases      &      37737\\\\\n\t Brazil      & 1999 & population &  172006362\\\\\n\t Brazil      & 2000 & cases      &      80488\\\\\n\t Brazil      & 2000 & population &  174504898\\\\\n\t China       & 1999 & cases      &     212258\\\\\n\t China       & 1999 & population & 1272915272\\\\\n\t China       & 2000 & cases      &     213766\\\\\n\t China       & 2000 & population & 1280428583\\\\\n\\end{tabular}\n",
            "text/plain": [
              "   country     year type       count     \n",
              "1  Afghanistan 1999 cases             745\n",
              "2  Afghanistan 1999 population   19987071\n",
              "3  Afghanistan 2000 cases            2666\n",
              "4  Afghanistan 2000 population   20595360\n",
              "5  Brazil      1999 cases           37737\n",
              "6  Brazil      1999 population  172006362\n",
              "7  Brazil      2000 cases           80488\n",
              "8  Brazil      2000 population  174504898\n",
              "9  China       1999 cases          212258\n",
              "10 China       1999 population 1272915272\n",
              "11 China       2000 cases          213766\n",
              "12 China       2000 population 1280428583"
            ]
          },
          "metadata": {}
        }
      ]
    },
    {
      "cell_type": "code",
      "source": [
        "table2 %>%\n",
        "    pivot_wider(names_from = type, values_from = count)\n"
      ],
      "metadata": {
        "colab": {
          "base_uri": "https://localhost:8080/",
          "height": 286
        },
        "id": "9KE2_mTHTGnk",
        "outputId": "156602eb-93cf-4b4a-e941-ff45f9333682"
      },
      "execution_count": null,
      "outputs": [
        {
          "output_type": "display_data",
          "data": {
            "text/html": [
              "<table class=\"dataframe\">\n",
              "<caption>A tibble: 6 × 4</caption>\n",
              "<thead>\n",
              "\t<tr><th scope=col>country</th><th scope=col>year</th><th scope=col>cases</th><th scope=col>population</th></tr>\n",
              "\t<tr><th scope=col>&lt;chr&gt;</th><th scope=col>&lt;dbl&gt;</th><th scope=col>&lt;dbl&gt;</th><th scope=col>&lt;dbl&gt;</th></tr>\n",
              "</thead>\n",
              "<tbody>\n",
              "\t<tr><td>Afghanistan</td><td>1999</td><td>   745</td><td>  19987071</td></tr>\n",
              "\t<tr><td>Afghanistan</td><td>2000</td><td>  2666</td><td>  20595360</td></tr>\n",
              "\t<tr><td>Brazil     </td><td>1999</td><td> 37737</td><td> 172006362</td></tr>\n",
              "\t<tr><td>Brazil     </td><td>2000</td><td> 80488</td><td> 174504898</td></tr>\n",
              "\t<tr><td>China      </td><td>1999</td><td>212258</td><td>1272915272</td></tr>\n",
              "\t<tr><td>China      </td><td>2000</td><td>213766</td><td>1280428583</td></tr>\n",
              "</tbody>\n",
              "</table>\n"
            ],
            "text/markdown": "\nA tibble: 6 × 4\n\n| country &lt;chr&gt; | year &lt;dbl&gt; | cases &lt;dbl&gt; | population &lt;dbl&gt; |\n|---|---|---|---|\n| Afghanistan | 1999 |    745 |   19987071 |\n| Afghanistan | 2000 |   2666 |   20595360 |\n| Brazil      | 1999 |  37737 |  172006362 |\n| Brazil      | 2000 |  80488 |  174504898 |\n| China       | 1999 | 212258 | 1272915272 |\n| China       | 2000 | 213766 | 1280428583 |\n\n",
            "text/latex": "A tibble: 6 × 4\n\\begin{tabular}{llll}\n country & year & cases & population\\\\\n <chr> & <dbl> & <dbl> & <dbl>\\\\\n\\hline\n\t Afghanistan & 1999 &    745 &   19987071\\\\\n\t Afghanistan & 2000 &   2666 &   20595360\\\\\n\t Brazil      & 1999 &  37737 &  172006362\\\\\n\t Brazil      & 2000 &  80488 &  174504898\\\\\n\t China       & 1999 & 212258 & 1272915272\\\\\n\t China       & 2000 & 213766 & 1280428583\\\\\n\\end{tabular}\n",
            "text/plain": [
              "  country     year cases  population\n",
              "1 Afghanistan 1999    745   19987071\n",
              "2 Afghanistan 2000   2666   20595360\n",
              "3 Brazil      1999  37737  172006362\n",
              "4 Brazil      2000  80488  174504898\n",
              "5 China       1999 212258 1272915272\n",
              "6 China       2000 213766 1280428583"
            ]
          },
          "metadata": {}
        }
      ]
    },
    {
      "cell_type": "markdown",
      "source": [
        "##  3.6. Ingeniería de atributos"
      ],
      "metadata": {
        "id": "Dx1bbeIq56js"
      }
    },
    {
      "cell_type": "markdown",
      "source": [
        "1. One-Hot Encoder"
      ],
      "metadata": {
        "id": "v4_3FRqoT__l"
      }
    },
    {
      "cell_type": "code",
      "source": [
        "import pandas as pd\n",
        "import numpy as np\n",
        "from sklearn.preprocessing import OneHotEncoder\n",
        "from sklearn import preprocessing\n",
        "from sklearn.preprocessing import LabelEncoder"
      ],
      "metadata": {
        "id": "-YcZP8CYUB-0"
      },
      "execution_count": null,
      "outputs": []
    },
    {
      "cell_type": "markdown",
      "source": [
        "Asuma que X_train es tu data frame de atributos"
      ],
      "metadata": {
        "id": "wN9dQ0SmUE1J"
      }
    },
    {
      "cell_type": "code",
      "source": [
        "data = [['A1','B1','C1'],\n",
        "        ['A2','B2','C2'],\n",
        "        ['A3','B2','C3']]\n",
        "\n",
        "# Create thepandas DataFrame\n",
        "X_train = pd.DataFrame(data, columns=['FA','FB',' FC'])\n",
        "print(X_train)"
      ],
      "metadata": {
        "id": "-s_6x9bKUIhR"
      },
      "execution_count": null,
      "outputs": []
    },
    {
      "cell_type": "markdown",
      "source": [
        "Creamos una instancia de one-hot encoder"
      ],
      "metadata": {
        "id": "c1Bp-5INoy6f"
      }
    },
    {
      "cell_type": "code",
      "source": [
        "encoder = OneHotEncoder()"
      ],
      "metadata": {
        "id": "4l4n-MfQo3QU"
      },
      "execution_count": null,
      "outputs": []
    },
    {
      "cell_type": "markdown",
      "source": [
        "Aplicamos en encoder a los datos para transformarlos"
      ],
      "metadata": {
        "id": "PDPQ7UsQqV1H"
      }
    },
    {
      "cell_type": "code",
      "source": [
        "X_train_encoded = encoder.fit_transform(X_train)"
      ],
      "metadata": {
        "id": "dss5KuPSqiR3"
      },
      "execution_count": null,
      "outputs": []
    },
    {
      "cell_type": "markdown",
      "source": [
        "Ahora podemos convertir la matriz recodificada en dataframe"
      ],
      "metadata": {
        "id": "E7LkESacq114"
      }
    },
    {
      "cell_type": "code",
      "source": [
        "X_train_encoded_df = pd.DataFrame.sparse.from_spmatrix(X_train_encoded)\n",
        "print(X_train_encoded_df)"
      ],
      "metadata": {
        "colab": {
          "base_uri": "https://localhost:8080/"
        },
        "id": "sPHPses8rAFI",
        "outputId": "2276ad81-57eb-45a4-8941-0c47a27a75fd"
      },
      "execution_count": null,
      "outputs": [
        {
          "output_type": "stream",
          "name": "stdout",
          "text": [
            "     0    1    2    3    4    5    6    7\n",
            "0  1.0  0.0  0.0  1.0  0.0  1.0  0.0  0.0\n",
            "1  0.0  1.0  0.0  0.0  1.0  0.0  1.0  0.0\n",
            "2  0.0  0.0  1.0  0.0  1.0  0.0  0.0  1.0\n"
          ]
        }
      ]
    },
    {
      "cell_type": "code",
      "source": [
        "df_X_train = X_train.loc['FA':'FC']\n",
        "df_X_train.columns"
      ],
      "metadata": {
        "colab": {
          "base_uri": "https://localhost:8080/"
        },
        "id": "jm3ajkCssVso",
        "outputId": "05c0e377-af10-4a06-f0ac-a7c87393adc0"
      },
      "execution_count": null,
      "outputs": [
        {
          "output_type": "execute_result",
          "data": {
            "text/plain": [
              "Index(['FA', 'FB', ' FC'], dtype='object')"
            ]
          },
          "metadata": {},
          "execution_count": 16
        }
      ]
    },
    {
      "cell_type": "code",
      "source": [
        "one_hot_encoded_data = pd.get_dummies(X_train, columns = df_X_train.columns)\n",
        "print(one_hot_encoded_data)"
      ],
      "metadata": {
        "colab": {
          "base_uri": "https://localhost:8080/"
        },
        "id": "ffXi40Rws8JU",
        "outputId": "550ffd8c-e263-4320-d2cb-17345c235b31"
      },
      "execution_count": null,
      "outputs": [
        {
          "output_type": "stream",
          "name": "stdout",
          "text": [
            "   FA_A1  FA_A2  FA_A3  FB_B1  FB_B2   FC_C1   FC_C2   FC_C3\n",
            "0      1      0      0      1      0       1       0       0\n",
            "1      0      1      0      0      1       0       1       0\n",
            "2      0      0      1      0      1       0       0       1\n"
          ]
        }
      ]
    },
    {
      "cell_type": "markdown",
      "source": [
        "# Estandarización"
      ],
      "metadata": {
        "id": "HrtgGe4JtXUo"
      }
    },
    {
      "cell_type": "code",
      "source": [
        "import pandas as pd\n",
        "from sklearn.preprocessing import StandardScaler, MinMaxScaler"
      ],
      "metadata": {
        "id": "3DYstNY_twPU"
      },
      "execution_count": null,
      "outputs": []
    },
    {
      "cell_type": "markdown",
      "source": [
        "Asumimos un dataframe de atributos X_train"
      ],
      "metadata": {
        "id": "UuVrimHeuCni"
      }
    },
    {
      "cell_type": "code",
      "source": [
        "#using numpy's randint\n",
        "X_train = pd.DataFrame(np.random.randint(0,100,size=(15, 4)), columns=list('ABCD'))\n",
        "print(X_train)"
      ],
      "metadata": {
        "colab": {
          "base_uri": "https://localhost:8080/"
        },
        "id": "DjHC7QD3uX3T",
        "outputId": "664ff330-664e-40c8-b430-e88ffc9d40eb"
      },
      "execution_count": null,
      "outputs": [
        {
          "output_type": "stream",
          "name": "stdout",
          "text": [
            "     A   B   C   D\n",
            "0   23  58  15  81\n",
            "1   98  60  14  36\n",
            "2   57  23  88  46\n",
            "3   65  36  94  98\n",
            "4   73  13  26  48\n",
            "5   10  50  55  57\n",
            "6   42   8  19   6\n",
            "7   72  97  86  43\n",
            "8   23  69  72   5\n",
            "9   51  31  65  72\n",
            "10  40  74  84  20\n",
            "11  96  95  71  10\n",
            "12  92  26   1  49\n",
            "13  18  45  78  35\n",
            "14  53  90  36  97\n"
          ]
        }
      ]
    },
    {
      "cell_type": "markdown",
      "source": [
        "Aplicamos una estandarización a z-score (media 0 y sd 1)\n",
        "Ver: https://en.wikipedia.org/wiki/Standard_score"
      ],
      "metadata": {
        "id": "m65ZyfGZuyTv"
      }
    },
    {
      "cell_type": "code",
      "source": [
        "scaler = StandardScaler()\n",
        "X_train_scaled = scaler.fit_transform(X_train)\n",
        "X_train_scaled_df = pd.DataFrame(X_train_scaled, columns=list('ABCD'))\n",
        "print(X_train_scaled_df)"
      ],
      "metadata": {
        "colab": {
          "base_uri": "https://localhost:8080/"
        },
        "id": "-6jx6Ndau71Z",
        "outputId": "b68f8a96-f59c-4fe4-9180-40b24c520a4d"
      },
      "execution_count": null,
      "outputs": [
        {
          "output_type": "stream",
          "name": "stdout",
          "text": [
            "           A         B         C         D\n",
            "0  -1.128658  0.224730 -1.252279  1.167940\n",
            "1   1.584462  0.295698 -1.284722 -0.371825\n",
            "2   0.101290 -1.017200  1.116021 -0.029655\n",
            "3   0.390689 -0.555911  1.310676  1.749628\n",
            "4   0.680089 -1.372037 -0.895412  0.038779\n",
            "5  -1.598932 -0.059140  0.045419  0.346732\n",
            "6  -0.441334 -1.549455 -1.122509 -1.398334\n",
            "7   0.643914  1.608595  1.051136 -0.132306\n",
            "8  -1.128658  0.615051  0.596941 -1.432551\n",
            "9  -0.115760 -0.733330  0.369844  0.859987\n",
            "10 -0.513684  0.792469  0.986251 -0.919296\n",
            "11  1.512113  1.537627  0.564499 -1.261466\n",
            "12  1.367413 -0.910748 -1.706474  0.072996\n",
            "13 -1.309533 -0.236558  0.791596 -0.406042\n",
            "14 -0.043410  1.360209 -0.570987  1.715411\n"
          ]
        }
      ]
    },
    {
      "cell_type": "markdown",
      "source": [
        "# Imputación de atributos"
      ],
      "metadata": {
        "id": "dSv6STj8wD_M"
      }
    },
    {
      "cell_type": "code",
      "source": [
        "import pandas as pd\n",
        "from sklearn.impute import SimpleImputer"
      ],
      "metadata": {
        "id": "oDiIC6vmwLpp"
      },
      "execution_count": null,
      "outputs": []
    },
    {
      "cell_type": "markdown",
      "source": [
        "Asumimos un dataframe de atributos X_train con datos perdidos"
      ],
      "metadata": {
        "id": "_Bxc4aYixYIy"
      }
    },
    {
      "cell_type": "code",
      "source": [
        "X_train_scaled_df.loc[4] = None\n",
        "\n",
        "print(X_train_scaled_df)"
      ],
      "metadata": {
        "colab": {
          "base_uri": "https://localhost:8080/"
        },
        "id": "0ij3Brolxhi0",
        "outputId": "65c6cf55-0e85-4680-a029-d329a3f766c4"
      },
      "execution_count": null,
      "outputs": [
        {
          "output_type": "stream",
          "name": "stdout",
          "text": [
            "           A         B         C         D\n",
            "0  -1.128658  0.224730 -1.252279  1.167940\n",
            "1   1.584462  0.295698 -1.284722 -0.371825\n",
            "2   0.101290 -1.017200  1.116021 -0.029655\n",
            "3   0.390689 -0.555911  1.310676  1.749628\n",
            "4        NaN       NaN       NaN       NaN\n",
            "5  -1.598932 -0.059140  0.045419  0.346732\n",
            "6  -0.441334 -1.549455 -1.122509 -1.398334\n",
            "7   0.643914  1.608595  1.051136 -0.132306\n",
            "8  -1.128658  0.615051  0.596941 -1.432551\n",
            "9  -0.115760 -0.733330  0.369844  0.859987\n",
            "10 -0.513684  0.792469  0.986251 -0.919296\n",
            "11  1.512113  1.537627  0.564499 -1.261466\n",
            "12  1.367413 -0.910748 -1.706474  0.072996\n",
            "13 -1.309533 -0.236558  0.791596 -0.406042\n",
            "14 -0.043410  1.360209 -0.570987  1.715411\n"
          ]
        }
      ]
    },
    {
      "cell_type": "markdown",
      "source": [
        "Creamos una instancia de imputación con una estrategia seleccionada (e.g. mean)"
      ],
      "metadata": {
        "id": "sXtKCDalx8cz"
      }
    },
    {
      "cell_type": "code",
      "source": [
        "imputer = SimpleImputer(strategy='mean')"
      ],
      "metadata": {
        "id": "DkgO4a0RyNgE"
      },
      "execution_count": null,
      "outputs": []
    },
    {
      "cell_type": "markdown",
      "source": [
        "Aplicamos la imputación a los datos para tranformarlos"
      ],
      "metadata": {
        "id": "IQap3Qejyatg"
      }
    },
    {
      "cell_type": "code",
      "source": [
        "X_train_scaled_imputed = imputer.fit_transform(X_train_scaled_df)\n",
        "X_train_scaled_imputed"
      ],
      "metadata": {
        "colab": {
          "base_uri": "https://localhost:8080/"
        },
        "id": "W5TiyE8-ymtc",
        "outputId": "11a70074-c966-4a1a-f746-78231639a424"
      },
      "execution_count": null,
      "outputs": [
        {
          "output_type": "execute_result",
          "data": {
            "text/plain": [
              "array([[-1.12865821,  0.22473014, -1.25227907,  1.16793961],\n",
              "       [ 1.58446248,  0.29569756, -1.28472153, -0.37182452],\n",
              "       [ 0.10128984, -1.0171996 ,  1.11602073, -0.02965472],\n",
              "       [ 0.39068938, -0.55591141,  1.3106755 ,  1.74962828],\n",
              "       [-0.04857778,  0.09800262,  0.063958  , -0.00276995],\n",
              "       [-1.59893246, -0.05913951,  0.04541945,  0.34673207],\n",
              "       [-0.4413343 , -1.5494552 , -1.12250922, -1.39833394],\n",
              "       [ 0.64391398,  1.60859471,  1.0511358 , -0.13230566],\n",
              "       [-1.12865821,  0.61505092,  0.59694132, -1.43255092],\n",
              "       [-0.11575982, -0.73332994,  0.36984408,  0.85998678],\n",
              "       [-0.51368418,  0.79246945,  0.98625087, -0.91929621],\n",
              "       [ 1.5121126 ,  1.5376273 ,  0.56449886, -1.26146602],\n",
              "       [ 1.36741283, -0.91074848, -1.70647355,  0.07299623],\n",
              "       [-1.30953292, -0.23655805,  0.7915961 , -0.4060415 ],\n",
              "       [-0.04340993,  1.36020876, -0.57098735,  1.7154113 ]])"
            ]
          },
          "metadata": {},
          "execution_count": 38
        }
      ]
    },
    {
      "cell_type": "markdown",
      "source": [
        "Ahora volvamos a convertir el array de numpy a dataframe"
      ],
      "metadata": {
        "id": "0BN2aJixy8Cd"
      }
    },
    {
      "cell_type": "code",
      "source": [
        "X_train_scaled_imputed_df = pd.DataFrame(X_train_scaled_imputed, columns=X_train_scaled_df.columns)\n",
        "print(X_train_scaled_imputed_df)"
      ],
      "metadata": {
        "colab": {
          "base_uri": "https://localhost:8080/"
        },
        "id": "aibASir_zEAw",
        "outputId": "44e1a3f1-eb4a-4219-a656-656e7bd1a17b"
      },
      "execution_count": null,
      "outputs": [
        {
          "output_type": "stream",
          "name": "stdout",
          "text": [
            "           A         B         C         D\n",
            "0  -1.128658  0.224730 -1.252279  1.167940\n",
            "1   1.584462  0.295698 -1.284722 -0.371825\n",
            "2   0.101290 -1.017200  1.116021 -0.029655\n",
            "3   0.390689 -0.555911  1.310676  1.749628\n",
            "4  -0.048578  0.098003  0.063958 -0.002770\n",
            "5  -1.598932 -0.059140  0.045419  0.346732\n",
            "6  -0.441334 -1.549455 -1.122509 -1.398334\n",
            "7   0.643914  1.608595  1.051136 -0.132306\n",
            "8  -1.128658  0.615051  0.596941 -1.432551\n",
            "9  -0.115760 -0.733330  0.369844  0.859987\n",
            "10 -0.513684  0.792469  0.986251 -0.919296\n",
            "11  1.512113  1.537627  0.564499 -1.261466\n",
            "12  1.367413 -0.910748 -1.706474  0.072996\n",
            "13 -1.309533 -0.236558  0.791596 -0.406042\n",
            "14 -0.043410  1.360209 -0.570987  1.715411\n"
          ]
        }
      ]
    },
    {
      "cell_type": "markdown",
      "source": [
        "Ahora puedes comparar con los datos originales antes de ser eliminados"
      ],
      "metadata": {
        "id": "IAWMUzljz_5h"
      }
    },
    {
      "cell_type": "markdown",
      "source": [
        "# Analisis de componentes principales"
      ],
      "metadata": {
        "id": "eXlXPOGw0IIv"
      }
    },
    {
      "cell_type": "code",
      "source": [
        "from sklearn.decomposition import PCA\n",
        "from sklearn.preprocessing import StandardScaler"
      ],
      "metadata": {
        "id": "4Ie0nbQv0ntV"
      },
      "execution_count": null,
      "outputs": []
    },
    {
      "cell_type": "markdown",
      "source": [
        "Asumimos un conjunto de datos X_train"
      ],
      "metadata": {
        "id": "rrdiEeYL0-Fg"
      }
    },
    {
      "cell_type": "code",
      "source": [
        "X_train = pd.DataFrame(np.random.randint(0,100,size=(15, 4)), columns=list('ABCD'))\n",
        "print(X_train)"
      ],
      "metadata": {
        "colab": {
          "base_uri": "https://localhost:8080/"
        },
        "id": "SxvQH9NB1E_k",
        "outputId": "c1908ed9-64f8-49cb-8e54-d3f67afdf760"
      },
      "execution_count": null,
      "outputs": [
        {
          "output_type": "stream",
          "name": "stdout",
          "text": [
            "     A   B   C   D\n",
            "0   71  84  60   7\n",
            "1   84  39  81  69\n",
            "2   85  96  93   8\n",
            "3   92  15  61  60\n",
            "4    3  16  78  62\n",
            "5   98  82  65  37\n",
            "6   24  23  29  55\n",
            "7    7  98  58  47\n",
            "8   31  54  23  79\n",
            "9   70  95  67  73\n",
            "10  25  96  34  24\n",
            "11  70  80  11  56\n",
            "12   7  20  34  42\n",
            "13  74  74  14  82\n",
            "14  73  34  93  23\n"
          ]
        }
      ]
    },
    {
      "cell_type": "markdown",
      "source": [
        "Estandarizamos los atributos"
      ],
      "metadata": {
        "id": "DYvcMZRe1Pn0"
      }
    },
    {
      "cell_type": "code",
      "source": [
        "scaler = StandardScaler()\n",
        "X_train_scaled = scaler.fit_transform(X_train)\n",
        "X_train_scaled_df = pd.DataFrame(X_train_scaled, columns=list('ABCD'))\n",
        "print(X_train_scaled_df)"
      ],
      "metadata": {
        "colab": {
          "base_uri": "https://localhost:8080/"
        },
        "id": "tg72JLep1SJV",
        "outputId": "2016e207-71f9-4eb5-97cb-78dc552f3cab"
      },
      "execution_count": null,
      "outputs": [
        {
          "output_type": "stream",
          "name": "stdout",
          "text": [
            "           A         B         C         D\n",
            "0   0.510902  0.746357  0.248657 -1.756964\n",
            "1   0.907818 -0.676782  1.039840  0.882739\n",
            "2   0.938350  1.125861  1.491944 -1.714388\n",
            "3   1.152073 -1.435789  0.286333  0.499557\n",
            "4  -1.565273 -1.404164  0.926814  0.584708\n",
            "5   1.335265  0.683107  0.437034 -0.479688\n",
            "6  -0.924101 -1.182786 -0.919279  0.286677\n",
            "7  -1.443145  1.189112  0.173307 -0.053929\n",
            "8  -0.710377 -0.202402 -1.145331  1.308498\n",
            "9   0.480370  1.094236  0.512385  1.053043\n",
            "10 -0.893569  1.125861 -0.730902 -1.033174\n",
            "11  0.480370  0.619856 -1.597435  0.329253\n",
            "12 -1.443145 -1.277662 -0.730902 -0.266809\n",
            "13  0.602498  0.430104 -1.484409  1.436226\n",
            "14  0.571966 -0.834908  1.491944 -1.075750\n"
          ]
        }
      ]
    },
    {
      "cell_type": "markdown",
      "source": [
        "Realizamos un PCA y extraemos los dos componentes principales"
      ],
      "metadata": {
        "id": "41vtb4pA1v9k"
      }
    },
    {
      "cell_type": "code",
      "source": [
        "k = 2\n",
        "pca = PCA(n_components=k)\n",
        "principal_components = pca.fit_transform(X_train_scaled)\n",
        "print(principal_components)"
      ],
      "metadata": {
        "colab": {
          "base_uri": "https://localhost:8080/"
        },
        "id": "8yx3FVly15QJ",
        "outputId": "17f18274-03e4-47d1-c11e-ba259ff2a1fb"
      },
      "execution_count": null,
      "outputs": [
        {
          "output_type": "stream",
          "name": "stdout",
          "text": [
            "[[ 1.67723351 -0.49875147]\n",
            " [ 0.23733946  1.12330827]\n",
            " [ 2.6768087  -0.1022909 ]\n",
            " [-0.11496417  1.28841583]\n",
            " [-1.07778808  1.75126815]\n",
            " [ 1.39798098 -0.36195121]\n",
            " [-1.53926897  0.46853924]\n",
            " [-0.11901846 -0.80460866]\n",
            " [-1.80511043 -0.45980314]\n",
            " [ 0.28981252 -0.60271706]\n",
            " [ 0.19106127 -1.31055007]\n",
            " [-0.62229747 -1.44977086]\n",
            " [-1.38993024  0.67244385]\n",
            " [-1.21957323 -1.22557722]\n",
            " [ 1.41771459  1.51204525]]\n"
          ]
        }
      ]
    },
    {
      "cell_type": "markdown",
      "source": [
        "Convertimos en resultado en un dataframe transformado"
      ],
      "metadata": {
        "id": "18jVoo572RKC"
      }
    },
    {
      "cell_type": "code",
      "source": [
        "principal_components_df = pd.DataFrame(data=principal_components, columns =[f\"PC{i+1}\" for i in range(k)])\n",
        "print(principal_components_df)"
      ],
      "metadata": {
        "colab": {
          "base_uri": "https://localhost:8080/"
        },
        "id": "_LKYmqGA2dbP",
        "outputId": "54200ade-380a-4dc8-c0a2-fa11517486ae"
      },
      "execution_count": null,
      "outputs": [
        {
          "output_type": "stream",
          "name": "stdout",
          "text": [
            "         PC1       PC2\n",
            "0   1.677234 -0.498751\n",
            "1   0.237339  1.123308\n",
            "2   2.676809 -0.102291\n",
            "3  -0.114964  1.288416\n",
            "4  -1.077788  1.751268\n",
            "5   1.397981 -0.361951\n",
            "6  -1.539269  0.468539\n",
            "7  -0.119018 -0.804609\n",
            "8  -1.805110 -0.459803\n",
            "9   0.289813 -0.602717\n",
            "10  0.191061 -1.310550\n",
            "11 -0.622297 -1.449771\n",
            "12 -1.389930  0.672444\n",
            "13 -1.219573 -1.225577\n",
            "14  1.417715  1.512045\n"
          ]
        }
      ]
    },
    {
      "cell_type": "markdown",
      "source": [
        "# Selección de atributos"
      ],
      "metadata": {
        "id": "N8HciACc3n9P"
      }
    },
    {
      "cell_type": "code",
      "source": [
        "import pandas as pd\n",
        "import numpy as np\n",
        "from sklearn.feature_selection import SelectKBest, f_regression\n",
        "from sklearn import datasets"
      ],
      "metadata": {
        "id": "uz-UedXY3vIU"
      },
      "execution_count": null,
      "outputs": []
    },
    {
      "cell_type": "markdown",
      "source": [
        "Asumimos un conjunto x_train"
      ],
      "metadata": {
        "id": "8p5iM7g47VFr"
      }
    },
    {
      "cell_type": "markdown",
      "source": [
        "**Crear los datos simulados**\n",
        "\n",
        "Podemos crear conjuntos de datos para la regresión pasando los parámetros que se requieren para la regresión como n_samples, n_features, n_targets, etc. La función dará la salida como características, salida y coeficiente de un conjunto de datos."
      ],
      "metadata": {
        "id": "kp9ZO1EP9496"
      }
    },
    {
      "cell_type": "code",
      "source": [
        "  features, output, coef = datasets.make_regression(n_samples = 30, n_features = 10,\n",
        "               n_informative = 3, n_targets = 1,\n",
        "               noise = 0.2, coef = True)\n",
        "  print(features)\n",
        "  print(output)\n",
        "  print(coef)"
      ],
      "metadata": {
        "colab": {
          "base_uri": "https://localhost:8080/"
        },
        "id": "WaWbZUAF4wZJ",
        "outputId": "f3f89975-7222-4516-dde9-c42c74748550"
      },
      "execution_count": null,
      "outputs": [
        {
          "output_type": "stream",
          "name": "stdout",
          "text": [
            "[[-3.01430830e+00 -3.81015234e-01  3.81336014e-01 -5.56506318e-01\n",
            "  -1.84691953e+00 -2.41526332e-01  2.69518541e-02 -1.04817185e+00\n",
            "  -1.43517085e+00  1.22542604e-01]\n",
            " [ 1.92827586e+00  2.53779107e-01  1.20584909e-01 -3.54146569e-01\n",
            "   5.79699751e-01  1.08301518e+00 -1.82694433e-01  1.29479844e+00\n",
            "   9.50991242e-01  6.16223079e-01]\n",
            " [ 2.06988918e-01  5.07544891e-01  8.45441612e-01 -2.17138119e+00\n",
            "  -3.61746957e-01  1.42229811e+00 -9.27536136e-02 -8.07179401e-01\n",
            "   1.06810148e+00  1.04368324e+00]\n",
            " [-2.16991062e-01  4.15595029e-01  3.14427293e-02  8.60818240e-02\n",
            "  -1.69832784e+00  6.49107684e-01  9.79894607e-01 -4.01186489e-01\n",
            "   2.26121497e-03 -6.68953323e-01]\n",
            " [-4.28065359e-01  9.86925794e-01  8.55029737e-01  7.10695867e-01\n",
            "   2.93717055e-02 -5.29733980e-01 -1.40576609e+00  1.08144278e+00\n",
            "   3.39608902e-01  1.08251347e+00]\n",
            " [ 3.88776728e-01  5.75035391e-01  1.18366711e-01  1.07804023e+00\n",
            "  -2.59012814e-01  4.01090020e-01 -5.03050180e-01  3.23551061e-01\n",
            "  -1.30502233e+00  1.34500901e-01]\n",
            " [-2.11186727e-01  1.71598904e+00 -2.52057141e-01  2.16198427e-01\n",
            "  -1.28253305e+00 -3.71923303e-01 -1.29594015e-02 -8.65776461e-02\n",
            "  -3.63297710e-01 -1.42071914e-01]\n",
            " [ 7.14244966e-03 -9.45882779e-01 -2.84664213e-01 -6.78608181e-01\n",
            "  -8.43828289e-01  2.22280670e+00 -1.61037916e+00  1.19752106e+00\n",
            "  -9.94940977e-01 -2.62760915e-01]\n",
            " [ 1.21458087e-01 -1.89333542e-02 -2.08614490e+00 -1.65863349e-01\n",
            "  -3.11054059e-01  4.17452893e-01 -1.78550035e-01  1.46293015e+00\n",
            "   4.96374816e-01  1.37865504e+00]\n",
            " [ 1.22496994e+00 -2.42136358e-02 -3.31908548e-01  6.96473684e-01\n",
            "   2.40616374e-01  5.24890176e-01 -4.09879789e-01  2.05442800e+00\n",
            "   2.37634164e-01  4.48362943e-01]\n",
            " [ 3.34450658e-01 -9.56737757e-01  3.47575778e-02 -6.27116232e-01\n",
            "  -1.43011475e+00  1.53436445e+00 -6.35662735e-02  1.62693380e-01\n",
            "  -1.44889739e+00  7.30733207e-01]\n",
            " [-7.60013290e-01 -9.49809292e-01 -1.09921919e-01  5.28686639e-01\n",
            "  -2.50849498e-01 -1.22590586e+00 -9.13050615e-01 -5.52434257e-01\n",
            "  -8.92754185e-01 -1.33153776e-01]\n",
            " [ 1.11019030e+00  2.55230940e+00  1.18857642e+00  1.62855322e+00\n",
            "   2.61592731e+00 -5.97223198e-01  1.51995640e+00  1.04372357e+00\n",
            "  -1.09690931e+00  6.35336855e-01]\n",
            " [ 1.22935640e+00  7.89488614e-04 -3.13703670e-02  8.24408040e-01\n",
            "   1.34293498e-01  1.00653361e-01 -2.39104672e+00 -9.38959385e-01\n",
            "  -6.79950917e-01  1.05041669e+00]\n",
            " [ 2.25677077e+00  1.80657674e+00 -6.20649245e-01  6.39999295e-01\n",
            "   5.13184377e-01  4.61390392e-02  3.72624907e-01  6.38596045e-01\n",
            "  -2.09828989e+00  8.97792277e-01]\n",
            " [ 9.82367833e-01  1.76535043e+00 -1.10086008e+00  2.11355317e-02\n",
            "   1.67755401e+00  2.14665852e-01  1.48016943e+00  1.82299936e-02\n",
            "  -9.26036910e-01 -5.00850170e-01]\n",
            " [ 7.06549510e-01  1.95332308e-01 -1.04399280e+00 -1.20194125e-01\n",
            "   4.01984187e-01  3.53804733e-02 -7.53081907e-01 -4.42796471e-01\n",
            "   1.36774668e+00  1.36196199e+00]\n",
            " [-3.30379531e-01 -2.05528067e+00  1.95420304e+00 -8.55725783e-01\n",
            "   1.07227958e+00 -1.15061808e+00 -2.78025414e-01 -1.72360306e+00\n",
            "  -6.34124962e-01  1.36914947e-02]\n",
            " [-1.83291850e+00  1.23202266e+00 -1.27520016e+00 -1.47431794e+00\n",
            "   1.30053891e+00  6.91505019e-01 -9.36156819e-01  2.43890556e+00\n",
            "   9.06279989e-01  1.85584503e+00]\n",
            " [-1.08487671e-01  7.47536406e-01  1.23078444e+00 -6.18952427e-01\n",
            "  -1.28701914e-01  1.55617101e-02  1.79069529e-01  5.20075210e-01\n",
            "   1.88758742e+00  3.78029045e-02]\n",
            " [ 1.38444740e+00 -1.07553048e+00  7.82272248e-02 -1.05318480e+00\n",
            "  -5.84021081e-01  5.18835662e-01  6.58383099e-01 -1.35048142e-01\n",
            "   1.61544020e+00  9.90425819e-01]\n",
            " [-5.30215610e-01  1.91559885e+00 -3.68728431e-02  7.33569869e-01\n",
            "  -9.66368053e-01 -9.21300603e-01  1.13717640e+00  3.06881101e-01\n",
            "  -1.61361384e-01  7.67948695e-01]\n",
            " [-1.88966399e-01 -1.06451166e+00 -1.96432014e-01  4.16056705e-01\n",
            "   1.57480385e+00  1.11235375e+00  9.56532936e-02 -5.72245724e-01\n",
            "   1.56905402e+00  5.78458759e-01]\n",
            " [ 9.07086932e-01  2.83284634e-01  1.25502958e-01  1.98918247e+00\n",
            "  -7.99975286e-02 -3.81178648e-01 -8.72134162e-01 -6.80267224e-01\n",
            "  -4.93326849e-01  8.80233250e-02]\n",
            " [-4.16961429e-01  6.34586910e-01  8.86108562e-03 -1.09290351e+00\n",
            "  -1.83967175e+00  4.28315923e-01 -2.17973200e+00  3.13331187e+00\n",
            "  -1.50792357e+00  9.64821371e-01]\n",
            " [-2.17101970e-01 -1.11258027e+00  3.95286846e-01 -6.27229292e-01\n",
            "   4.09979686e-01  6.18278174e-01 -1.74190261e+00 -3.67798173e-01\n",
            "  -3.36898500e-01 -3.44499862e-01]\n",
            " [-1.56865674e-01  9.99578531e-01 -1.58124159e-02  7.25312146e-01\n",
            "  -1.65313932e+00 -7.16717667e-01  2.03926007e+00  4.65824885e-01\n",
            "   1.39957052e+00  4.82690578e-01]\n",
            " [-2.23146729e+00 -1.92685871e+00  2.96107300e-01  1.24931164e-01\n",
            "  -3.67167968e-01  4.99246440e-01  8.71083553e-01  3.24556943e-01\n",
            "  -2.18914991e-01 -1.39790570e-01]\n",
            " [-5.56122909e-01 -1.00000887e+00  1.59958757e-01  1.15778480e+00\n",
            "  -7.43421010e-01 -7.36141878e-01 -4.85672698e-01  5.03783927e-01\n",
            "  -1.41966308e+00 -9.28914337e-03]\n",
            " [ 9.45729545e-01 -6.80741509e-01  3.04116660e-01 -5.60856335e-01\n",
            "  -1.22391494e+00  2.17358611e-01 -4.06399849e-01 -1.21422783e+00\n",
            "   1.52180096e+00  2.29682209e-01]]\n",
            "[-158.78381383  153.0434611    -1.31129867  -20.7075164   127.05331292\n",
            "  -19.03035595   21.81715636   24.30417938  137.93649081  172.70285641\n",
            "  -78.74871235 -109.55230508   99.66154155 -105.47896026    1.65391345\n",
            "    5.42291118   32.73248937 -219.58209508  266.99764069  147.40532499\n",
            "   34.83758861   67.11234505   -1.57003216  -68.875742    195.30766184\n",
            "  -73.74328273  127.50794286  -35.09918661  -51.79392004  -43.99924594]\n",
            "[ 0.         26.34003026  0.          0.          0.          0.\n",
            "  0.         79.08436186 45.82826086  0.        ]\n"
          ]
        }
      ]
    },
    {
      "cell_type": "markdown",
      "source": [
        "Pasemos los atributos a un dataframe"
      ],
      "metadata": {
        "id": "cMAUnlz0-dQw"
      }
    },
    {
      "cell_type": "code",
      "source": [
        "X_train = pd.DataFrame(features, columns=list('ABCDEFGHIJ'))\n",
        "y_train = pd.DataFrame(output, columns=list('Y'))\n",
        "print(X_train)\n",
        "print(y_train)"
      ],
      "metadata": {
        "colab": {
          "base_uri": "https://localhost:8080/"
        },
        "id": "YPHkrtlS-oRZ",
        "outputId": "e9323f24-91a2-4ceb-9a01-d2f62e2c885b"
      },
      "execution_count": null,
      "outputs": [
        {
          "output_type": "stream",
          "name": "stdout",
          "text": [
            "           A         B         C         D         E         F         G  \\\n",
            "0  -3.014308 -0.381015  0.381336 -0.556506 -1.846920 -0.241526  0.026952   \n",
            "1   1.928276  0.253779  0.120585 -0.354147  0.579700  1.083015 -0.182694   \n",
            "2   0.206989  0.507545  0.845442 -2.171381 -0.361747  1.422298 -0.092754   \n",
            "3  -0.216991  0.415595  0.031443  0.086082 -1.698328  0.649108  0.979895   \n",
            "4  -0.428065  0.986926  0.855030  0.710696  0.029372 -0.529734 -1.405766   \n",
            "5   0.388777  0.575035  0.118367  1.078040 -0.259013  0.401090 -0.503050   \n",
            "6  -0.211187  1.715989 -0.252057  0.216198 -1.282533 -0.371923 -0.012959   \n",
            "7   0.007142 -0.945883 -0.284664 -0.678608 -0.843828  2.222807 -1.610379   \n",
            "8   0.121458 -0.018933 -2.086145 -0.165863 -0.311054  0.417453 -0.178550   \n",
            "9   1.224970 -0.024214 -0.331909  0.696474  0.240616  0.524890 -0.409880   \n",
            "10  0.334451 -0.956738  0.034758 -0.627116 -1.430115  1.534364 -0.063566   \n",
            "11 -0.760013 -0.949809 -0.109922  0.528687 -0.250849 -1.225906 -0.913051   \n",
            "12  1.110190  2.552309  1.188576  1.628553  2.615927 -0.597223  1.519956   \n",
            "13  1.229356  0.000789 -0.031370  0.824408  0.134293  0.100653 -2.391047   \n",
            "14  2.256771  1.806577 -0.620649  0.639999  0.513184  0.046139  0.372625   \n",
            "15  0.982368  1.765350 -1.100860  0.021136  1.677554  0.214666  1.480169   \n",
            "16  0.706550  0.195332 -1.043993 -0.120194  0.401984  0.035380 -0.753082   \n",
            "17 -0.330380 -2.055281  1.954203 -0.855726  1.072280 -1.150618 -0.278025   \n",
            "18 -1.832919  1.232023 -1.275200 -1.474318  1.300539  0.691505 -0.936157   \n",
            "19 -0.108488  0.747536  1.230784 -0.618952 -0.128702  0.015562  0.179070   \n",
            "20  1.384447 -1.075530  0.078227 -1.053185 -0.584021  0.518836  0.658383   \n",
            "21 -0.530216  1.915599 -0.036873  0.733570 -0.966368 -0.921301  1.137176   \n",
            "22 -0.188966 -1.064512 -0.196432  0.416057  1.574804  1.112354  0.095653   \n",
            "23  0.907087  0.283285  0.125503  1.989182 -0.079998 -0.381179 -0.872134   \n",
            "24 -0.416961  0.634587  0.008861 -1.092904 -1.839672  0.428316 -2.179732   \n",
            "25 -0.217102 -1.112580  0.395287 -0.627229  0.409980  0.618278 -1.741903   \n",
            "26 -0.156866  0.999579 -0.015812  0.725312 -1.653139 -0.716718  2.039260   \n",
            "27 -2.231467 -1.926859  0.296107  0.124931 -0.367168  0.499246  0.871084   \n",
            "28 -0.556123 -1.000009  0.159959  1.157785 -0.743421 -0.736142 -0.485673   \n",
            "29  0.945730 -0.680742  0.304117 -0.560856 -1.223915  0.217359 -0.406400   \n",
            "\n",
            "           H         I         J  \n",
            "0  -1.048172 -1.435171  0.122543  \n",
            "1   1.294798  0.950991  0.616223  \n",
            "2  -0.807179  1.068101  1.043683  \n",
            "3  -0.401186  0.002261 -0.668953  \n",
            "4   1.081443  0.339609  1.082513  \n",
            "5   0.323551 -1.305022  0.134501  \n",
            "6  -0.086578 -0.363298 -0.142072  \n",
            "7   1.197521 -0.994941 -0.262761  \n",
            "8   1.462930  0.496375  1.378655  \n",
            "9   2.054428  0.237634  0.448363  \n",
            "10  0.162693 -1.448897  0.730733  \n",
            "11 -0.552434 -0.892754 -0.133154  \n",
            "12  1.043724 -1.096909  0.635337  \n",
            "13 -0.938959 -0.679951  1.050417  \n",
            "14  0.638596 -2.098290  0.897792  \n",
            "15  0.018230 -0.926037 -0.500850  \n",
            "16 -0.442796  1.367747  1.361962  \n",
            "17 -1.723603 -0.634125  0.013691  \n",
            "18  2.438906  0.906280  1.855845  \n",
            "19  0.520075  1.887587  0.037803  \n",
            "20 -0.135048  1.615440  0.990426  \n",
            "21  0.306881 -0.161361  0.767949  \n",
            "22 -0.572246  1.569054  0.578459  \n",
            "23 -0.680267 -0.493327  0.088023  \n",
            "24  3.133312 -1.507924  0.964821  \n",
            "25 -0.367798 -0.336898 -0.344500  \n",
            "26  0.465825  1.399571  0.482691  \n",
            "27  0.324557 -0.218915 -0.139791  \n",
            "28  0.503784 -1.419663 -0.009289  \n",
            "29 -1.214228  1.521801  0.229682  \n",
            "             Y\n",
            "0  -158.783814\n",
            "1   153.043461\n",
            "2    -1.311299\n",
            "3   -20.707516\n",
            "4   127.053313\n",
            "5   -19.030356\n",
            "6    21.817156\n",
            "7    24.304179\n",
            "8   137.936491\n",
            "9   172.702856\n",
            "10  -78.748712\n",
            "11 -109.552305\n",
            "12   99.661542\n",
            "13 -105.478960\n",
            "14    1.653913\n",
            "15    5.422911\n",
            "16   32.732489\n",
            "17 -219.582095\n",
            "18  266.997641\n",
            "19  147.405325\n",
            "20   34.837589\n",
            "21   67.112345\n",
            "22   -1.570032\n",
            "23  -68.875742\n",
            "24  195.307662\n",
            "25  -73.743283\n",
            "26  127.507943\n",
            "27  -35.099187\n",
            "28  -51.793920\n",
            "29  -43.999246\n"
          ]
        }
      ]
    },
    {
      "cell_type": "markdown",
      "source": [
        "Vamos a seleccionar los top k atributos basados en los mayores F-values (un parametro que informa sobre la asociación entre variables)"
      ],
      "metadata": {
        "id": "vdx1JRjo_mX0"
      }
    },
    {
      "cell_type": "code",
      "source": [
        "k = 5\n",
        "selector = SelectKBest(score_func=f_regression,k=k)\n",
        "selected_feature = selector.fit_transform(X_train,y_train)"
      ],
      "metadata": {
        "colab": {
          "base_uri": "https://localhost:8080/"
        },
        "id": "28R-JQxCAS-2",
        "outputId": "6796e338-10a5-485d-a204-77c7285427f6"
      },
      "execution_count": null,
      "outputs": [
        {
          "output_type": "stream",
          "name": "stderr",
          "text": [
            "/usr/local/lib/python3.10/dist-packages/sklearn/utils/validation.py:1143: DataConversionWarning: A column-vector y was passed when a 1d array was expected. Please change the shape of y to (n_samples, ), for example using ravel().\n",
            "  y = column_or_1d(y, warn=True)\n"
          ]
        }
      ]
    },
    {
      "cell_type": "markdown",
      "source": [
        "Recuperar los indices de atributos seleccionados"
      ],
      "metadata": {
        "id": "gL-YMs_9BtM9"
      }
    },
    {
      "cell_type": "code",
      "source": [
        "selected_feature_indices = selector.get_support(indices=True)"
      ],
      "metadata": {
        "id": "fvRbv1x_BgJy"
      },
      "execution_count": null,
      "outputs": []
    },
    {
      "cell_type": "markdown",
      "source": [
        "Conseguir un el subconjunto de atributos"
      ],
      "metadata": {
        "id": "3Wc1ANH1By-D"
      }
    },
    {
      "cell_type": "code",
      "source": [
        "selected_feature_df = X_train.iloc[:,selected_feature_indices]\n",
        "print(selected_feature_df)"
      ],
      "metadata": {
        "colab": {
          "base_uri": "https://localhost:8080/"
        },
        "id": "KCaavVabB4rI",
        "outputId": "26ea3bc9-e366-4e87-d22d-66a62c133438"
      },
      "execution_count": null,
      "outputs": [
        {
          "output_type": "stream",
          "name": "stdout",
          "text": [
            "           B         C         H         I         J\n",
            "0  -0.381015  0.381336 -1.048172 -1.435171  0.122543\n",
            "1   0.253779  0.120585  1.294798  0.950991  0.616223\n",
            "2   0.507545  0.845442 -0.807179  1.068101  1.043683\n",
            "3   0.415595  0.031443 -0.401186  0.002261 -0.668953\n",
            "4   0.986926  0.855030  1.081443  0.339609  1.082513\n",
            "5   0.575035  0.118367  0.323551 -1.305022  0.134501\n",
            "6   1.715989 -0.252057 -0.086578 -0.363298 -0.142072\n",
            "7  -0.945883 -0.284664  1.197521 -0.994941 -0.262761\n",
            "8  -0.018933 -2.086145  1.462930  0.496375  1.378655\n",
            "9  -0.024214 -0.331909  2.054428  0.237634  0.448363\n",
            "10 -0.956738  0.034758  0.162693 -1.448897  0.730733\n",
            "11 -0.949809 -0.109922 -0.552434 -0.892754 -0.133154\n",
            "12  2.552309  1.188576  1.043724 -1.096909  0.635337\n",
            "13  0.000789 -0.031370 -0.938959 -0.679951  1.050417\n",
            "14  1.806577 -0.620649  0.638596 -2.098290  0.897792\n",
            "15  1.765350 -1.100860  0.018230 -0.926037 -0.500850\n",
            "16  0.195332 -1.043993 -0.442796  1.367747  1.361962\n",
            "17 -2.055281  1.954203 -1.723603 -0.634125  0.013691\n",
            "18  1.232023 -1.275200  2.438906  0.906280  1.855845\n",
            "19  0.747536  1.230784  0.520075  1.887587  0.037803\n",
            "20 -1.075530  0.078227 -0.135048  1.615440  0.990426\n",
            "21  1.915599 -0.036873  0.306881 -0.161361  0.767949\n",
            "22 -1.064512 -0.196432 -0.572246  1.569054  0.578459\n",
            "23  0.283285  0.125503 -0.680267 -0.493327  0.088023\n",
            "24  0.634587  0.008861  3.133312 -1.507924  0.964821\n",
            "25 -1.112580  0.395287 -0.367798 -0.336898 -0.344500\n",
            "26  0.999579 -0.015812  0.465825  1.399571  0.482691\n",
            "27 -1.926859  0.296107  0.324557 -0.218915 -0.139791\n",
            "28 -1.000009  0.159959  0.503784 -1.419663 -0.009289\n",
            "29 -0.680742  0.304117 -1.214228  1.521801  0.229682\n"
          ]
        }
      ]
    }
  ]
}