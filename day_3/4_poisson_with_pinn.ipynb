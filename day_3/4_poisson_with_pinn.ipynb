{
 "cells": [
  {
   "cell_type": "markdown",
   "id": "f0266084-38fb-4b28-b7b3-a6c4f0416730",
   "metadata": {},
   "source": [
    "# Case 4: Resolviendo la ecuación de Poisson con PINNs"
   ]
  },
  {
   "cell_type": "markdown",
   "id": "8e95738f-c869-45ac-ba82-94793ae2c3fc",
   "metadata": {},
   "source": [
    "## Introducción\n",
    "\n",
    "En este cuaderno, exploraremos cómo implementar una Red Neuronal Informada por la Física (PINN) utilizando PyTorch para resolver una ecuación diferencial específica. Las PINNs integran leyes físicas en la estructura de una red neuronal, permitiéndonos resolver problemas de ingeniería y física de manera eficiente.\n",
    "\n"
   ]
  },
  {
   "cell_type": "code",
   "execution_count": 76,
   "id": "4de40820-bb2a-47c9-8e9a-b84a438b7d13",
   "metadata": {},
   "outputs": [],
   "source": [
    "import torch\n",
    "import torch.nn as nn\n",
    "import numpy as np\n",
    "import matplotlib.pyplot as plt"
   ]
  },
  {
   "cell_type": "markdown",
   "id": "29062d6a-db36-4bc5-ba68-139b1803a615",
   "metadata": {},
   "source": [
    "## Marco Matemático de las Redes Neuronales Informadas por la Física (PINNs)\n",
    "\n",
    "### 1. Formulación del Problema\n",
    "\n",
    "Consideremos una Ecuación Diferencial Parcial (EDP) general expresada como:\n",
    "$$ \\mathcal{L}(u; x) = 0, $$\n",
    "donde $ \\mathcal{L} $ es un operador diferencial, $ u $ es la solución de la EDP, y $ x $ denota las variables espaciales (y posiblemente temporales).\n",
    "\n",
    "Las condiciones de frontera y condiciones iniciales se pueden representar como:\n",
    "$ \\mathcal{B}(u; x) = g(x), \\quad \\text{para } x \\in \\partial\\Omega, $\n",
    "donde $ \\mathcal{B} $ es un operador de frontera y $ \\Omega $ es el dominio de interés.\n",
    "\n",
    "### 2. Aproximación mediante Redes Neuronales\n",
    "\n",
    "Una red neuronal $\\hat{u}_\\theta(x) $, parametrizada por pesos y sesgos $ \\theta $, se utiliza para aproximar la solución $ u(x)$. La red se entrena para minimizar una función de pérdida que encapsula tanto la adherencia a la EDP como la precisión respecto a las condiciones de frontera dadas.\n",
    "\n",
    "### 3. Función de Pérdida\n",
    "\n",
    "La función de pérdida en las PINNs típicamente combina dos componentes:\n",
    "\n",
    "- **Residual de la EDP**: Este es el residual de sustituir la aproximación de la red neuronal en la EDP:\n",
    "  $$ R_{\\text{PDE}}(\\theta) = \\|\\mathcal{L}(\\hat{u}_\\theta; x) \\|_2^2, $$\n",
    "  donde la norma es generalmente una norma $L^2$ tomada sobre el dominio.\n",
    "\n",
    "- **Residual de la Condición de Frontera**: Este componente asegura que la solución se adhiera a las condiciones de frontera:\n",
    "  $$ R_{\\text{BC}}(\\theta) = \\| \\mathcal{B}(\\hat{u}_\\theta; x) - g(x) \\|_2^2, $$\n",
    "  donde la norma se evalúa sobre la frontera $ \\partial\\Omega $.\n",
    "\n",
    "La función de pérdida total es una suma ponderada de estos residuos:\n",
    "$$ J(\\theta) = \\lambda_1 R_{\\text{PDE}}(\\theta) + \\lambda_2 R_{\\text{BC}}(\\theta), $$\n",
    "donde $ \\lambda_1 $ y $ \\lambda_2 $ son factores de ponderación que pueden ajustarse basándose en la importancia relativa de cada componente.\n",
    "\n",
    "### 4. Proceso de Entrenamiento\n",
    "\n",
    "El entrenamiento implica encontrar los parámetros óptimos $ \\theta $ que minimizan la función de pérdida \\( J(\\theta) \\). Esto se realiza generalmente utilizando técnicas de optimización basadas en gradientes, como el descenso de gradiente estocástico, Adam, etc. Los gradientes se calculan usando diferenciación automática, una característica clave soportada por marcos de trabajo como TensorFlow y PyTorch.\n",
    "\n",
    "### Consideraciones y Desafíos Matemáticos\n",
    "\n",
    "- **Complejidad y No Linealidad**: Los operadores diferenciales involucrados pueden ser altamente no lineales y complejos, lo que plantea desafíos significativos tanto en la modelación precisa de los operadores dentro de la red neuronal como en asegurar la convergencia del proceso de entrenamiento.\n",
    "\n",
    "- **Espacios de Alta Dimensión**: Para problemas que involucran EDPs de alta dimensión, la maldición de la dimensionalidad puede convertirse en un problema significativo. Estrategias como la reducción de la dimensionalidad o arquitecturas de red especializadas (e.g., redes neuronales convolucionales para datos espaciales) son a menudo necesarias.\n",
    "\n",
    "- **Balance de Componentes de Pérdida**: Elegir valores apropiados para $ \\lambda_1 $ y $ \\lambda_2 $ es crucial. Un equilibrio inapropiado puede llevar a un modelo que se adhiere a la física pero se ajusta pobremente a los datos, o viceversa.\n",
    "\n",
    "- **Generalización vs. Sobreajuste**: Como todos los modelos de aprendizaje automático, las PINNs enfrent\n",
    "\n",
    "<img src=\"pinn_schematic.jpg\" width=\"800\" height=\"600\" alt=\"Description of Image\">\n",
    "Créditos: doi:10.3390/en16093820"
   ]
  },
  {
   "cell_type": "markdown",
   "id": "21683247-5a77-4cea-96b0-11b679643f12",
   "metadata": {},
   "source": [
    "## Un ejemplo básico ...\n",
    "\n",
    "### Ecuación Diferencial de Poisson\n",
    "\n",
    "Consideramos la ecuación de Poisson unidimensional:\n",
    "\n",
    "$$ \\frac{d^2u}{dx^2} = -\\pi^2 \\sin(\\pi x) $$\n",
    "\n",
    "con condiciones de frontera $u(0) = 0$ y $u(1) = 0$.\n",
    "\n",
    "### Solución Analítica\n",
    "\n",
    "La solución analítica para esta ecuación es:\n",
    "\n",
    "$$u(x) = \\sin(\\pi x)$$\n",
    "\n",
    "Utilizaremos esta solución para comparar con los resultados obtenidos por nuestra red neuronal.\n"
   ]
  },
  {
   "cell_type": "markdown",
   "id": "defa980b-996b-409a-adc2-9f6feb9a5d5f",
   "metadata": {},
   "source": [
    "## Arquitectura de la Red Neuronal\n",
    "\n",
    "La red neuronal consiste en varias capas densas y utiliza la función de activación Tangente Hiperbólica (Tanh). Este tipo de arquitectura es común en las PINNs debido a su capacidad para modelar respuestas no lineales.\n"
   ]
  },
  {
   "cell_type": "markdown",
   "id": "859837ca-0798-42e0-93ee-ded3a1567ea9",
   "metadata": {},
   "source": [
    "## Implementación en PyTorch\n",
    "\n",
    "A continuación, definimos la clase `PINN`, que construye nuestra red neuronal. Utilizamos PyTorch para definir la estructura y la función de pérdida informada por la física.\n"
   ]
  },
  {
   "cell_type": "code",
   "execution_count": 77,
   "id": "048294f9-301a-4f59-9e7e-a35efe6ed909",
   "metadata": {},
   "outputs": [],
   "source": [
    "class PINN(nn.Module):\n",
    "    def __init__(self):\n",
    "        super(PINN, self).__init__()\n",
    "        self.net = nn.Sequential(\n",
    "            nn.Linear(1, 50),\n",
    "            nn.Tanh(),\n",
    "            nn.Linear(50, 50),\n",
    "            nn.Tanh(),\n",
    "            nn.Linear(50, 1)\n",
    "        )\n",
    "    \n",
    "    def forward(self, x):\n",
    "        return self.net(x)\n"
   ]
  },
  {
   "cell_type": "markdown",
   "id": "bfdd5a7e-a41a-42bf-b4c0-b1e113c742ba",
   "metadata": {},
   "source": [
    "## Entrenamiento del Modelo\n",
    "\n",
    "El modelo se entrena utilizando un conjunto de datos que simula las condiciones del problema, incluyendo las condiciones de frontera. El proceso de entrenamiento busca minimizar la pérdida, que incluye términos para la precisión de la solución y el cumplimiento de la ecuación diferencial.\n"
   ]
  },
  {
   "cell_type": "code",
   "execution_count": 78,
   "id": "2cef53bd-032b-4e08-9bf9-f1d00f31a95e",
   "metadata": {},
   "outputs": [],
   "source": [
    "def physics_informed_loss(model, x):\n",
    "    u = model(x)\n",
    "    u_x = torch.autograd.grad(u, x, grad_outputs=torch.ones_like(u), create_graph=True)[0]\n",
    "    u_xx = torch.autograd.grad(u_x, x, grad_outputs=torch.ones_like(u_x), create_graph=True)[0]\n",
    "    f = u_xx + np.pi**2 * torch.sin(np.pi * x)\n",
    "    return torch.mean(f**2)\n"
   ]
  },
  {
   "cell_type": "code",
   "execution_count": 79,
   "id": "cc5c4ceb-f541-454e-9471-7a4a3aeaf8e1",
   "metadata": {},
   "outputs": [
    {
     "name": "stdout",
     "output_type": "stream",
     "text": [
      "Epoch 0, Loss: 48.728050231933594\n",
      "Epoch 100, Loss: 0.0021841914858669043\n",
      "Epoch 200, Loss: 0.0009095733985304832\n",
      "Epoch 300, Loss: 0.00044710864312946796\n",
      "Epoch 400, Loss: 0.00028879332239739597\n",
      "Epoch 500, Loss: 0.00024065133766271174\n",
      "Epoch 600, Loss: 0.0002215830609202385\n",
      "Epoch 700, Loss: 0.0002083051804220304\n",
      "Epoch 800, Loss: 0.00019626819994300604\n",
      "Epoch 900, Loss: 0.0001847791572799906\n"
     ]
    }
   ],
   "source": [
    "model = PINN()\n",
    "optimizer = torch.optim.Adam(model.parameters(), lr=0.01)\n",
    "x = torch.linspace(0, 1, 100, requires_grad=True).reshape(-1, 1)\n",
    "x_bc = torch.tensor([0, 1], dtype=torch.float32).reshape(-1, 1)\n",
    "\n",
    "epochs = 1000\n",
    "for epoch in range(epochs):\n",
    "    optimizer.zero_grad()\n",
    "    loss = physics_informed_loss(model, x)\n",
    "    u_bc = model(x_bc)\n",
    "    loss_bc = torch.mean((u_bc - 0)**2)\n",
    "    total_loss = loss + loss_bc\n",
    "    total_loss.backward()\n",
    "    optimizer.step()\n",
    "\n",
    "    if epoch % 100 == 0:\n",
    "        print(f'Epoch {epoch}, Loss: {total_loss.item()}')\n"
   ]
  },
  {
   "cell_type": "markdown",
   "id": "807a17c2-1985-47db-8953-7ab555365002",
   "metadata": {},
   "source": [
    "## Visualización y Comparación de Resultados\n",
    "\n",
    "Visualizamos la solución de la red y la comparamos con la solución analítica para evaluar el rendimiento de nuestro modelo.\n"
   ]
  },
  {
   "cell_type": "code",
   "execution_count": 80,
   "id": "2566e1d1-01a3-48d0-a5be-e4c0bbe88823",
   "metadata": {},
   "outputs": [
    {
     "data": {
      "image/png": "[encoded data removed]",
      "text/plain": [
       "<Figure size 640x480 with 1 Axes>"
      ]
     },
     "metadata": {},
     "output_type": "display_data"
    }
   ],
   "source": [
    "x_eval = torch.linspace(0, 1, 100).reshape(-1, 1)\n",
    "with torch.no_grad():\n",
    "    u_pred = model(x_eval).reshape(-1).numpy()\n",
    "x_eval = x_eval.reshape(-1).numpy()\n",
    "u_exact = np.sin(np.pi * x_eval)\n",
    "\n",
    "plt.plot(x_eval, u_pred, label='Solución PINN')\n",
    "plt.plot(x_eval, u_exact, label='Solución Analítica', linestyle='dashed')\n",
    "plt.xlabel('x')\n",
    "plt.ylabel('u(x)')\n",
    "plt.legend()\n",
    "plt.show()"
   ]
  },
  {
   "cell_type": "markdown",
   "id": "dc9990ca-aedf-4601-a244-9bfecb335822",
   "metadata": {},
   "source": [
    "## Conclusiones\n",
    "\n",
    "Discutimos el rendimiento de la red, posibles aplicaciones futuras de las PINNs, y cómo este enfoque puede ser extendido a problemas más complejos.\n"
   ]
  }
 ],
 "metadata": {
  "kernelspec": {
   "display_name": "Python 3 (ipykernel)",
   "language": "python",
   "name": "python3"
  },
  "language_info": {
   "codemirror_mode": {
    "name": "ipython",
    "version": 3
   },
   "file_extension": ".py",
   "mimetype": "text/x-python",
   "name": "python",
   "nbconvert_exporter": "python",
   "pygments_lexer": "ipython3",
   "version": "3.11.9"
  }
 },
 "nbformat": 4,
 "nbformat_minor": 5
}
