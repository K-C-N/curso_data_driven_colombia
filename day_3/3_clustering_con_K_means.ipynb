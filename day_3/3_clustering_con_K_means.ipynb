{
 "cells": [
  {
   "cell_type": "markdown",
   "id": "cdb234f6-bd2c-45fa-a110-7b4bd7fe6ad7",
   "metadata": {},
   "source": [
    "# Caso 3: Clustering para segmentación de variedades de semillas"
   ]
  },
  {
   "cell_type": "markdown",
   "id": "cd9d6624-ccd3-46c0-ad85-dc28d77e888a",
   "metadata": {},
   "source": [
    "## Introducción\n",
    "\n",
    "Este cuaderno explora la aplicación de técnicas de clustering para segmentar variedades de semillas de trigo basadas en sus características físicas. El objetivo es demostrar cómo el clustering puede identificar grupos naturales dentro de un conjunto de datos y proporcionar insights útiles para aplicaciones prácticas en agronomía y otras ciencias relacionadas.\n",
    "\n",
    "## Descripción del Conjunto de Datos\n",
    "\n",
    "El conjunto de datos de semillas contiene mediciones de 210 granos de trigo pertenecientes a tres diferentes variedades: Kama, Rosa y Canadian. Cada muestra tiene siete características geométricas que son útiles para estudiar las diferencias físicas entre las variedades de semillas."
   ]
  },
  {
   "cell_type": "code",
   "execution_count": 5,
   "id": "ba653c59-5144-468d-acaa-7ef6a5d1c0e8",
   "metadata": {},
   "outputs": [],
   "source": [
    "# Import necessary libraries\n",
    "import pandas as pd\n",
    "import plotly.express as px\n",
    "from sklearn.preprocessing import StandardScaler\n",
    "from sklearn.cluster import KMeans\n",
    "\n",
    "# Load the Seeds dataset\n",
    "url = \"https://archive.ics.uci.edu/ml/machine-learning-databases/00236/seeds_dataset.txt\"\n",
    "columns = ['area', 'perimeter', 'compactness', 'length_kernel', 'width_kernel', 'asymmetry_coefficient', 'length_kernel_groove', 'type']\n",
    "data = pd.read_csv(url, sep='\\s+', names=columns)\n",
    "\n",
    "# Preprocessing\n",
    "scaler = StandardScaler()\n",
    "features = data.columns[:-1]  # Exclude the label column 'type'\n",
    "data_scaled = scaler.fit_transform(data[features])"
   ]
  },
  {
   "cell_type": "markdown",
   "id": "d9ecff52-ebcc-485d-b79e-b2990975967e",
   "metadata": {},
   "source": [
    "## Fundamentos Matemáticos del Algoritmo K-means\n",
    "\n",
    "El algoritmo K-means es una técnica de clustering que particiona un conjunto de `n` observaciones en `k` clusters en los cuales cada observación pertenece al cluster con la media más cercana. Es un método iterativo que busca minimizar la suma de las distancias cuadradas entre los puntos y el centroide de su cluster asignado.\n",
    "\n",
    "### Descripción del Algoritmo:\n",
    "1. **Inicialización**: Se seleccionan `k` puntos al azar del conjunto de datos como los centroides iniciales.\n",
    "2. **Asignación de Cluster**: Cada punto del conjunto de datos es asignado al centroide más cercano.\n",
    "3. **Actualización de Centroides**: Se recalculan los centroides como el promedio de todos los puntos asignados a cada cluster.\n",
    "4. **Iteración**: Se repiten los pasos 2 y 3 hasta que los centroides no cambian significativamente entre iteraciones consecutivas, indicando convergencia.\n",
    "\n",
    "### Función Objetivo:\n",
    "$$ J = \\sum_{j=1}^k \\sum_{i=1}^n \\| x^{(i)} - c_j \\|^2 $$\n",
    "Donde $x^{(i)}$ es el punto $i$ en el conjunto de datos, $c_j$ es el centroide del cluster $j$, y $n$ es el número de puntos en el cluster $j$.\n"
   ]
  },
  {
   "cell_type": "code",
   "execution_count": 39,
   "id": "ab814d57-c3fd-4c45-aefb-3c989aef12dd",
   "metadata": {},
   "outputs": [
    {
     "data": {
      "application/vnd.plotly.v1+json": {
       "config": {
        "plotlyServerURL": "https://plot.ly"
       },
       "data": [
        {
         "hovertemplate": "Tipo=1<br>Área=%{x}<br>Perímetro=%{y}<br>Longitud del Grano=%{z}<br>Cluster=%{marker.color}<extra></extra>",
         "legendgroup": "1",
         "marker": {
          "color": [
           2,
           2,
           2,
           2,
           2,
           2,
           2,
           2,
           0,
           2,
           2,
           2,
           2,
           2,
           2,
           2,
           2,
           2,
           2,
           1,
           2,
           2,
           2,
           2,
           2,
           2,
           2,
           2,
           2,
           2,
           2,
           2,
           2,
           2,
           2,
           2,
           2,
           0,
           2,
           2,
           2,
           2,
           2,
           2,
           2,
           2,
           2,
           2,
           2,
           2,
           2,
           2,
           2,
           2,
           2,
           2,
           2,
           2,
           2,
           1,
           1,
           2,
           2,
           2,
           2,
           2,
           2,
           2,
           2,
           1
          ],
          "coloraxis": "coloraxis",
          "line": {
           "color": "DarkSlateGrey",
           "width": 2
          },
          "size": 5,
          "symbol": "circle"
         },
         "mode": "markers",
         "name": "1",
         "scene": "scene",
         "showlegend": true,
         "type": "scatter3d",
         "x": [
          15.26,
          14.88,
          14.29,
          13.84,
          16.14,
          14.38,
          14.69,
          14.11,
          16.63,
          16.44,
          15.26,
          14.03,
          13.89,
          13.78,
          13.74,
          14.59,
          13.99,
          15.69,
          14.7,
          12.72,
          14.16,
          14.11,
          15.88,
          12.08,
          15.01,
          16.19,
          13.02,
          12.74,
          14.11,
          13.45,
          13.16,
          15.49,
          14.09,
          13.94,
          15.05,
          16.12,
          16.2,
          17.08,
          14.8,
          14.28,
          13.54,
          13.5,
          13.16,
          15.5,
          15.11,
          13.8,
          15.36,
          14.99,
          14.79,
          14.86,
          14.43,
          15.78,
          14.49,
          14.33,
          14.52,
          15.03,
          14.46,
          14.92,
          15.38,
          12.11,
          11.42,
          11.23,
          12.36,
          13.22,
          12.78,
          12.88,
          14.34,
          14.01,
          14.37,
          12.73
         ],
         "y": [
          14.84,
          14.57,
          14.09,
          13.94,
          14.99,
          14.21,
          14.49,
          14.1,
          15.46,
          15.25,
          14.85,
          14.16,
          14.02,
          14.06,
          14.05,
          14.28,
          13.83,
          14.75,
          14.21,
          13.57,
          14.4,
          14.26,
          14.9,
          13.23,
          14.76,
          15.16,
          13.76,
          13.67,
          14.18,
          14.02,
          13.82,
          14.94,
          14.41,
          14.17,
          14.68,
          15,
          15.27,
          15.38,
          14.52,
          14.17,
          13.85,
          13.85,
          13.55,
          14.86,
          14.54,
          14.04,
          14.76,
          14.56,
          14.52,
          14.67,
          14.4,
          14.91,
          14.61,
          14.28,
          14.6,
          14.77,
          14.35,
          14.43,
          14.77,
          13.47,
          12.86,
          12.63,
          13.19,
          13.84,
          13.57,
          13.5,
          14.37,
          14.29,
          14.39,
          13.75
         ],
         "z": [
          5.763,
          5.554,
          5.291,
          5.324,
          5.658,
          5.386,
          5.563,
          5.42,
          6.053,
          5.884,
          5.714,
          5.438,
          5.439,
          5.479,
          5.482,
          5.351,
          5.119,
          5.527,
          5.205,
          5.226,
          5.658,
          5.52,
          5.618,
          5.099,
          5.789,
          5.833,
          5.395,
          5.395,
          5.541,
          5.516,
          5.454,
          5.757,
          5.717,
          5.585,
          5.712,
          5.709,
          5.826,
          5.832,
          5.656,
          5.397,
          5.348,
          5.351,
          5.138,
          5.877,
          5.579,
          5.376,
          5.701,
          5.57,
          5.545,
          5.678,
          5.585,
          5.674,
          5.715,
          5.504,
          5.741,
          5.702,
          5.388,
          5.384,
          5.662,
          5.159,
          5.008,
          4.902,
          5.076,
          5.395,
          5.262,
          5.139,
          5.63,
          5.609,
          5.569,
          5.412
         ]
        },
        {
         "hovertemplate": "Tipo=2<br>Área=%{x}<br>Perímetro=%{y}<br>Longitud del Grano=%{z}<br>Cluster=%{marker.color}<extra></extra>",
         "legendgroup": "2",
         "marker": {
          "color": [
           0,
           0,
           0,
           0,
           0,
           0,
           0,
           0,
           0,
           0,
           0,
           0,
           0,
           0,
           0,
           0,
           0,
           0,
           0,
           0,
           0,
           0,
           0,
           0,
           0,
           0,
           0,
           0,
           0,
           0,
           0,
           0,
           0,
           0,
           0,
           0,
           0,
           0,
           0,
           0,
           0,
           0,
           0,
           0,
           0,
           0,
           0,
           0,
           0,
           0,
           0,
           0,
           0,
           0,
           2,
           0,
           0,
           0,
           0,
           0,
           0,
           0,
           0,
           0,
           0,
           2,
           0,
           2,
           2,
           0
          ],
          "coloraxis": "coloraxis",
          "line": {
           "color": "DarkSlateGrey",
           "width": 2
          },
          "size": 5,
          "symbol": "diamond"
         },
         "mode": "markers",
         "name": "2",
         "scene": "scene",
         "showlegend": true,
         "type": "scatter3d",
         "x": [
          17.63,
          16.84,
          17.26,
          19.11,
          16.82,
          16.77,
          17.32,
          20.71,
          18.94,
          17.12,
          16.53,
          18.72,
          20.2,
          19.57,
          19.51,
          18.27,
          18.88,
          18.98,
          21.18,
          20.88,
          20.1,
          18.76,
          18.81,
          18.59,
          18.36,
          16.87,
          19.31,
          18.98,
          18.17,
          18.72,
          16.41,
          17.99,
          19.46,
          19.18,
          18.95,
          18.83,
          18.85,
          17.63,
          19.94,
          18.55,
          18.45,
          19.38,
          19.13,
          19.14,
          20.97,
          19.06,
          18.96,
          19.15,
          18.89,
          20.03,
          20.24,
          18.14,
          16.17,
          18.43,
          15.99,
          18.75,
          18.65,
          17.98,
          20.16,
          17.55,
          18.3,
          18.94,
          15.38,
          16.16,
          15.56,
          15.38,
          17.36,
          15.57,
          15.6,
          16.23
         ],
         "y": [
          15.98,
          15.67,
          15.73,
          16.26,
          15.51,
          15.62,
          15.91,
          17.23,
          16.49,
          15.55,
          15.34,
          16.19,
          16.89,
          16.74,
          16.71,
          16.09,
          16.26,
          16.66,
          17.21,
          17.05,
          16.99,
          16.2,
          16.29,
          16.05,
          16.52,
          15.65,
          16.59,
          16.57,
          16.26,
          16.34,
          15.25,
          15.86,
          16.5,
          16.63,
          16.42,
          16.29,
          16.17,
          15.86,
          16.92,
          16.22,
          16.12,
          16.72,
          16.31,
          16.61,
          17.25,
          16.45,
          16.2,
          16.45,
          16.23,
          16.9,
          16.91,
          16.12,
          15.38,
          15.97,
          14.89,
          16.18,
          16.41,
          15.85,
          17.03,
          15.66,
          15.89,
          16.32,
          14.9,
          15.33,
          14.89,
          14.66,
          15.76,
          15.15,
          15.11,
          15.18
         ],
         "z": [
          6.191,
          5.998,
          5.978,
          6.154,
          6.017,
          5.927,
          6.064,
          6.579,
          6.445,
          5.85,
          5.875,
          6.006,
          6.285,
          6.384,
          6.366,
          6.173,
          6.084,
          6.549,
          6.573,
          6.45,
          6.581,
          6.172,
          6.272,
          6.037,
          6.666,
          6.139,
          6.341,
          6.449,
          6.271,
          6.219,
          5.718,
          5.89,
          6.113,
          6.369,
          6.248,
          6.037,
          6.152,
          6.033,
          6.675,
          6.153,
          6.107,
          6.303,
          6.183,
          6.259,
          6.563,
          6.416,
          6.051,
          6.245,
          6.227,
          6.493,
          6.315,
          6.059,
          5.762,
          5.98,
          5.363,
          6.111,
          6.285,
          5.979,
          6.513,
          5.791,
          5.979,
          6.144,
          5.884,
          5.845,
          5.776,
          5.477,
          6.145,
          5.92,
          5.832,
          5.872
         ]
        },
        {
         "hovertemplate": "Tipo=3<br>Área=%{x}<br>Perímetro=%{y}<br>Longitud del Grano=%{z}<br>Cluster=%{marker.color}<extra></extra>",
         "legendgroup": "3",
         "marker": {
          "color": [
           1,
           1,
           1,
           1,
           1,
           1,
           1,
           1,
           1,
           1,
           1,
           1,
           1,
           1,
           1,
           1,
           1,
           1,
           1,
           1,
           1,
           1,
           1,
           1,
           1,
           2,
           1,
           1,
           1,
           1,
           1,
           1,
           1,
           1,
           1,
           1,
           1,
           1,
           1,
           1,
           1,
           1,
           1,
           1,
           1,
           1,
           1,
           1,
           1,
           1,
           1,
           1,
           1,
           1,
           1,
           2,
           1,
           2,
           1,
           2,
           1,
           2,
           1,
           1,
           1,
           1,
           1,
           1,
           1,
           1
          ],
          "coloraxis": "coloraxis",
          "line": {
           "color": "DarkSlateGrey",
           "width": 2
          },
          "size": 5,
          "symbol": "square"
         },
         "mode": "markers",
         "name": "3",
         "scene": "scene",
         "showlegend": true,
         "type": "scatter3d",
         "x": [
          13.07,
          13.32,
          13.34,
          12.22,
          11.82,
          11.21,
          11.43,
          12.49,
          12.7,
          10.79,
          11.83,
          12.01,
          12.26,
          11.18,
          11.36,
          11.19,
          11.34,
          12.13,
          11.75,
          11.49,
          12.54,
          12.02,
          12.05,
          12.55,
          11.14,
          12.1,
          12.44,
          12.15,
          11.35,
          11.24,
          11.02,
          11.55,
          11.27,
          11.4,
          10.83,
          10.8,
          11.26,
          10.74,
          11.48,
          12.21,
          11.41,
          12.46,
          12.19,
          11.65,
          12.89,
          11.56,
          11.81,
          10.91,
          11.23,
          10.59,
          10.93,
          11.27,
          11.87,
          10.82,
          12.11,
          12.8,
          12.79,
          13.37,
          12.62,
          12.76,
          12.38,
          12.67,
          11.18,
          12.7,
          12.37,
          12.19,
          11.23,
          13.2,
          11.84,
          12.3
         ],
         "y": [
          13.92,
          13.94,
          13.95,
          13.32,
          13.4,
          13.13,
          13.13,
          13.46,
          13.71,
          12.93,
          13.23,
          13.52,
          13.6,
          13.04,
          13.05,
          13.05,
          12.87,
          13.73,
          13.52,
          13.22,
          13.67,
          13.33,
          13.41,
          13.57,
          12.79,
          13.15,
          13.59,
          13.45,
          13.12,
          13,
          13,
          13.1,
          12.97,
          13.08,
          12.96,
          12.57,
          13.01,
          12.73,
          13.05,
          13.47,
          12.95,
          13.41,
          13.36,
          13.07,
          13.77,
          13.31,
          13.45,
          12.8,
          12.82,
          12.41,
          12.8,
          12.86,
          13.02,
          12.83,
          13.27,
          13.47,
          13.53,
          13.78,
          13.67,
          13.38,
          13.44,
          13.32,
          12.72,
          13.41,
          13.47,
          13.2,
          12.88,
          13.66,
          13.21,
          13.34
         ],
         "z": [
          5.472,
          5.541,
          5.389,
          5.224,
          5.314,
          5.279,
          5.176,
          5.267,
          5.386,
          5.317,
          5.263,
          5.405,
          5.408,
          5.22,
          5.175,
          5.25,
          5.053,
          5.394,
          5.444,
          5.304,
          5.451,
          5.35,
          5.267,
          5.333,
          5.011,
          5.105,
          5.319,
          5.417,
          5.176,
          5.09,
          5.325,
          5.167,
          5.088,
          5.136,
          5.278,
          4.981,
          5.186,
          5.145,
          5.18,
          5.357,
          5.09,
          5.236,
          5.24,
          5.108,
          5.495,
          5.363,
          5.413,
          5.088,
          5.089,
          4.899,
          5.046,
          5.091,
          5.132,
          5.18,
          5.236,
          5.16,
          5.224,
          5.32,
          5.41,
          5.073,
          5.219,
          4.984,
          5.009,
          5.183,
          5.204,
          5.137,
          5.14,
          5.236,
          5.175,
          5.243
         ]
        }
       ],
       "layout": {
        "coloraxis": {
         "colorbar": {
          "title": {
           "text": "Cluster"
          }
         },
         "colorscale": [
          [
           0,
           "#0d0887"
          ],
          [
           0.1111111111111111,
           "#46039f"
          ],
          [
           0.2222222222222222,
           "#7201a8"
          ],
          [
           0.3333333333333333,
           "#9c179e"
          ],
          [
           0.4444444444444444,
           "#bd3786"
          ],
          [
           0.5555555555555556,
           "#d8576b"
          ],
          [
           0.6666666666666666,
           "#ed7953"
          ],
          [
           0.7777777777777778,
           "#fb9f3a"
          ],
          [
           0.8888888888888888,
           "#fdca26"
          ],
          [
           1,
           "#f0f921"
          ]
         ]
        },
        "height": 600,
        "legend": {
         "bgcolor": "rgba(255, 255, 255, 0.5)",
         "title": {
          "text": "Tipo"
         },
         "tracegroupgap": 0,
         "x": 0,
         "y": 1
        },
        "margin": {
         "b": 0,
         "l": 0,
         "r": 0,
         "t": 30
        },
        "scene": {
         "aspectmode": "auto",
         "aspectratio": {
          "x": 1,
          "y": 1,
          "z": 1
         },
         "camera": {
          "center": {
           "x": 0,
           "y": 0,
           "z": 0
          },
          "eye": {
           "x": 1.362644006121076,
           "y": -1.661493274197682,
           "z": 0.5598577091179393
          },
          "projection": {
           "type": "perspective"
          },
          "up": {
           "x": 0.0030637506571127545,
           "y": -0.0029080809640687722,
           "z": 0.9999910782087096
          }
         },
         "domain": {
          "x": [
           0,
           1
          ],
          "y": [
           0,
           1
          ]
         },
         "xaxis": {
          "title": {
           "text": "Área"
          },
          "type": "linear"
         },
         "yaxis": {
          "title": {
           "text": "Perímetro"
          },
          "type": "linear"
         },
         "zaxis": {
          "title": {
           "text": "Longitud del Grano"
          },
          "type": "linear"
         }
        },
        "template": {
         "data": {
          "bar": [
           {
            "error_x": {
             "color": "#2a3f5f"
            },
            "error_y": {
             "color": "#2a3f5f"
            },
            "marker": {
             "line": {
              "color": "#E5ECF6",
              "width": 0.5
             },
             "pattern": {
              "fillmode": "overlay",
              "size": 10,
              "solidity": 0.2
             }
            },
            "type": "bar"
           }
          ],
          "barpolar": [
           {
            "marker": {
             "line": {
              "color": "#E5ECF6",
              "width": 0.5
             },
             "pattern": {
              "fillmode": "overlay",
              "size": 10,
              "solidity": 0.2
             }
            },
            "type": "barpolar"
           }
          ],
          "carpet": [
           {
            "aaxis": {
             "endlinecolor": "#2a3f5f",
             "gridcolor": "white",
             "linecolor": "white",
             "minorgridcolor": "white",
             "startlinecolor": "#2a3f5f"
            },
            "baxis": {
             "endlinecolor": "#2a3f5f",
             "gridcolor": "white",
             "linecolor": "white",
             "minorgridcolor": "white",
             "startlinecolor": "#2a3f5f"
            },
            "type": "carpet"
           }
          ],
          "choropleth": [
           {
            "colorbar": {
             "outlinewidth": 0,
             "ticks": ""
            },
            "type": "choropleth"
           }
          ],
          "contour": [
           {
            "colorbar": {
             "outlinewidth": 0,
             "ticks": ""
            },
            "colorscale": [
             [
              0,
              "#0d0887"
             ],
             [
              0.1111111111111111,
              "#46039f"
             ],
             [
              0.2222222222222222,
              "#7201a8"
             ],
             [
              0.3333333333333333,
              "#9c179e"
             ],
             [
              0.4444444444444444,
              "#bd3786"
             ],
             [
              0.5555555555555556,
              "#d8576b"
             ],
             [
              0.6666666666666666,
              "#ed7953"
             ],
             [
              0.7777777777777778,
              "#fb9f3a"
             ],
             [
              0.8888888888888888,
              "#fdca26"
             ],
             [
              1,
              "#f0f921"
             ]
            ],
            "type": "contour"
           }
          ],
          "contourcarpet": [
           {
            "colorbar": {
             "outlinewidth": 0,
             "ticks": ""
            },
            "type": "contourcarpet"
           }
          ],
          "heatmap": [
           {
            "colorbar": {
             "outlinewidth": 0,
             "ticks": ""
            },
            "colorscale": [
             [
              0,
              "#0d0887"
             ],
             [
              0.1111111111111111,
              "#46039f"
             ],
             [
              0.2222222222222222,
              "#7201a8"
             ],
             [
              0.3333333333333333,
              "#9c179e"
             ],
             [
              0.4444444444444444,
              "#bd3786"
             ],
             [
              0.5555555555555556,
              "#d8576b"
             ],
             [
              0.6666666666666666,
              "#ed7953"
             ],
             [
              0.7777777777777778,
              "#fb9f3a"
             ],
             [
              0.8888888888888888,
              "#fdca26"
             ],
             [
              1,
              "#f0f921"
             ]
            ],
            "type": "heatmap"
           }
          ],
          "heatmapgl": [
           {
            "colorbar": {
             "outlinewidth": 0,
             "ticks": ""
            },
            "colorscale": [
             [
              0,
              "#0d0887"
             ],
             [
              0.1111111111111111,
              "#46039f"
             ],
             [
              0.2222222222222222,
              "#7201a8"
             ],
             [
              0.3333333333333333,
              "#9c179e"
             ],
             [
              0.4444444444444444,
              "#bd3786"
             ],
             [
              0.5555555555555556,
              "#d8576b"
             ],
             [
              0.6666666666666666,
              "#ed7953"
             ],
             [
              0.7777777777777778,
              "#fb9f3a"
             ],
             [
              0.8888888888888888,
              "#fdca26"
             ],
             [
              1,
              "#f0f921"
             ]
            ],
            "type": "heatmapgl"
           }
          ],
          "histogram": [
           {
            "marker": {
             "pattern": {
              "fillmode": "overlay",
              "size": 10,
              "solidity": 0.2
             }
            },
            "type": "histogram"
           }
          ],
          "histogram2d": [
           {
            "colorbar": {
             "outlinewidth": 0,
             "ticks": ""
            },
            "colorscale": [
             [
              0,
              "#0d0887"
             ],
             [
              0.1111111111111111,
              "#46039f"
             ],
             [
              0.2222222222222222,
              "#7201a8"
             ],
             [
              0.3333333333333333,
              "#9c179e"
             ],
             [
              0.4444444444444444,
              "#bd3786"
             ],
             [
              0.5555555555555556,
              "#d8576b"
             ],
             [
              0.6666666666666666,
              "#ed7953"
             ],
             [
              0.7777777777777778,
              "#fb9f3a"
             ],
             [
              0.8888888888888888,
              "#fdca26"
             ],
             [
              1,
              "#f0f921"
             ]
            ],
            "type": "histogram2d"
           }
          ],
          "histogram2dcontour": [
           {
            "colorbar": {
             "outlinewidth": 0,
             "ticks": ""
            },
            "colorscale": [
             [
              0,
              "#0d0887"
             ],
             [
              0.1111111111111111,
              "#46039f"
             ],
             [
              0.2222222222222222,
              "#7201a8"
             ],
             [
              0.3333333333333333,
              "#9c179e"
             ],
             [
              0.4444444444444444,
              "#bd3786"
             ],
             [
              0.5555555555555556,
              "#d8576b"
             ],
             [
              0.6666666666666666,
              "#ed7953"
             ],
             [
              0.7777777777777778,
              "#fb9f3a"
             ],
             [
              0.8888888888888888,
              "#fdca26"
             ],
             [
              1,
              "#f0f921"
             ]
            ],
            "type": "histogram2dcontour"
           }
          ],
          "mesh3d": [
           {
            "colorbar": {
             "outlinewidth": 0,
             "ticks": ""
            },
            "type": "mesh3d"
           }
          ],
          "parcoords": [
           {
            "line": {
             "colorbar": {
              "outlinewidth": 0,
              "ticks": ""
             }
            },
            "type": "parcoords"
           }
          ],
          "pie": [
           {
            "automargin": true,
            "type": "pie"
           }
          ],
          "scatter": [
           {
            "fillpattern": {
             "fillmode": "overlay",
             "size": 10,
             "solidity": 0.2
            },
            "type": "scatter"
           }
          ],
          "scatter3d": [
           {
            "line": {
             "colorbar": {
              "outlinewidth": 0,
              "ticks": ""
             }
            },
            "marker": {
             "colorbar": {
              "outlinewidth": 0,
              "ticks": ""
             }
            },
            "type": "scatter3d"
           }
          ],
          "scattercarpet": [
           {
            "marker": {
             "colorbar": {
              "outlinewidth": 0,
              "ticks": ""
             }
            },
            "type": "scattercarpet"
           }
          ],
          "scattergeo": [
           {
            "marker": {
             "colorbar": {
              "outlinewidth": 0,
              "ticks": ""
             }
            },
            "type": "scattergeo"
           }
          ],
          "scattergl": [
           {
            "marker": {
             "colorbar": {
              "outlinewidth": 0,
              "ticks": ""
             }
            },
            "type": "scattergl"
           }
          ],
          "scattermapbox": [
           {
            "marker": {
             "colorbar": {
              "outlinewidth": 0,
              "ticks": ""
             }
            },
            "type": "scattermapbox"
           }
          ],
          "scatterpolar": [
           {
            "marker": {
             "colorbar": {
              "outlinewidth": 0,
              "ticks": ""
             }
            },
            "type": "scatterpolar"
           }
          ],
          "scatterpolargl": [
           {
            "marker": {
             "colorbar": {
              "outlinewidth": 0,
              "ticks": ""
             }
            },
            "type": "scatterpolargl"
           }
          ],
          "scatterternary": [
           {
            "marker": {
             "colorbar": {
              "outlinewidth": 0,
              "ticks": ""
             }
            },
            "type": "scatterternary"
           }
          ],
          "surface": [
           {
            "colorbar": {
             "outlinewidth": 0,
             "ticks": ""
            },
            "colorscale": [
             [
              0,
              "#0d0887"
             ],
             [
              0.1111111111111111,
              "#46039f"
             ],
             [
              0.2222222222222222,
              "#7201a8"
             ],
             [
              0.3333333333333333,
              "#9c179e"
             ],
             [
              0.4444444444444444,
              "#bd3786"
             ],
             [
              0.5555555555555556,
              "#d8576b"
             ],
             [
              0.6666666666666666,
              "#ed7953"
             ],
             [
              0.7777777777777778,
              "#fb9f3a"
             ],
             [
              0.8888888888888888,
              "#fdca26"
             ],
             [
              1,
              "#f0f921"
             ]
            ],
            "type": "surface"
           }
          ],
          "table": [
           {
            "cells": {
             "fill": {
              "color": "#EBF0F8"
             },
             "line": {
              "color": "white"
             }
            },
            "header": {
             "fill": {
              "color": "#C8D4E3"
             },
             "line": {
              "color": "white"
             }
            },
            "type": "table"
           }
          ]
         },
         "layout": {
          "annotationdefaults": {
           "arrowcolor": "#2a3f5f",
           "arrowhead": 0,
           "arrowwidth": 1
          },
          "autotypenumbers": "strict",
          "coloraxis": {
           "colorbar": {
            "outlinewidth": 0,
            "ticks": ""
           }
          },
          "colorscale": {
           "diverging": [
            [
             0,
             "#8e0152"
            ],
            [
             0.1,
             "#c51b7d"
            ],
            [
             0.2,
             "#de77ae"
            ],
            [
             0.3,
             "#f1b6da"
            ],
            [
             0.4,
             "#fde0ef"
            ],
            [
             0.5,
             "#f7f7f7"
            ],
            [
             0.6,
             "#e6f5d0"
            ],
            [
             0.7,
             "#b8e186"
            ],
            [
             0.8,
             "#7fbc41"
            ],
            [
             0.9,
             "#4d9221"
            ],
            [
             1,
             "#276419"
            ]
           ],
           "sequential": [
            [
             0,
             "#0d0887"
            ],
            [
             0.1111111111111111,
             "#46039f"
            ],
            [
             0.2222222222222222,
             "#7201a8"
            ],
            [
             0.3333333333333333,
             "#9c179e"
            ],
            [
             0.4444444444444444,
             "#bd3786"
            ],
            [
             0.5555555555555556,
             "#d8576b"
            ],
            [
             0.6666666666666666,
             "#ed7953"
            ],
            [
             0.7777777777777778,
             "#fb9f3a"
            ],
            [
             0.8888888888888888,
             "#fdca26"
            ],
            [
             1,
             "#f0f921"
            ]
           ],
           "sequentialminus": [
            [
             0,
             "#0d0887"
            ],
            [
             0.1111111111111111,
             "#46039f"
            ],
            [
             0.2222222222222222,
             "#7201a8"
            ],
            [
             0.3333333333333333,
             "#9c179e"
            ],
            [
             0.4444444444444444,
             "#bd3786"
            ],
            [
             0.5555555555555556,
             "#d8576b"
            ],
            [
             0.6666666666666666,
             "#ed7953"
            ],
            [
             0.7777777777777778,
             "#fb9f3a"
            ],
            [
             0.8888888888888888,
             "#fdca26"
            ],
            [
             1,
             "#f0f921"
            ]
           ]
          },
          "colorway": [
           "#636efa",
           "#EF553B",
           "#00cc96",
           "#ab63fa",
           "#FFA15A",
           "#19d3f3",
           "#FF6692",
           "#B6E880",
           "#FF97FF",
           "#FECB52"
          ],
          "font": {
           "color": "#2a3f5f"
          },
          "geo": {
           "bgcolor": "white",
           "lakecolor": "white",
           "landcolor": "#E5ECF6",
           "showlakes": true,
           "showland": true,
           "subunitcolor": "white"
          },
          "hoverlabel": {
           "align": "left"
          },
          "hovermode": "closest",
          "mapbox": {
           "style": "light"
          },
          "paper_bgcolor": "white",
          "plot_bgcolor": "#E5ECF6",
          "polar": {
           "angularaxis": {
            "gridcolor": "white",
            "linecolor": "white",
            "ticks": ""
           },
           "bgcolor": "#E5ECF6",
           "radialaxis": {
            "gridcolor": "white",
            "linecolor": "white",
            "ticks": ""
           }
          },
          "scene": {
           "xaxis": {
            "backgroundcolor": "#E5ECF6",
            "gridcolor": "white",
            "gridwidth": 2,
            "linecolor": "white",
            "showbackground": true,
            "ticks": "",
            "zerolinecolor": "white"
           },
           "yaxis": {
            "backgroundcolor": "#E5ECF6",
            "gridcolor": "white",
            "gridwidth": 2,
            "linecolor": "white",
            "showbackground": true,
            "ticks": "",
            "zerolinecolor": "white"
           },
           "zaxis": {
            "backgroundcolor": "#E5ECF6",
            "gridcolor": "white",
            "gridwidth": 2,
            "linecolor": "white",
            "showbackground": true,
            "ticks": "",
            "zerolinecolor": "white"
           }
          },
          "shapedefaults": {
           "line": {
            "color": "#2a3f5f"
           }
          },
          "ternary": {
           "aaxis": {
            "gridcolor": "white",
            "linecolor": "white",
            "ticks": ""
           },
           "baxis": {
            "gridcolor": "white",
            "linecolor": "white",
            "ticks": ""
           },
           "bgcolor": "#E5ECF6",
           "caxis": {
            "gridcolor": "white",
            "linecolor": "white",
            "ticks": ""
           }
          },
          "title": {
           "x": 0.05
          },
          "xaxis": {
           "automargin": true,
           "gridcolor": "white",
           "linecolor": "white",
           "ticks": "",
           "title": {
            "standoff": 15
           },
           "zerolinecolor": "white",
           "zerolinewidth": 2
          },
          "yaxis": {
           "automargin": true,
           "gridcolor": "white",
           "linecolor": "white",
           "ticks": "",
           "title": {
            "standoff": 15
           },
           "zerolinecolor": "white",
           "zerolinewidth": 2
          }
         }
        },
        "title": {
         "text": "3D Scatter Plot of Seeds Data"
        },
        "width": 800
       }
      },
      "image/png": "[encoded data removed]",
      "text/html": [
       "<div>                            <div id=\"f582483c-eb29-4747-998c-9d6049d23225\" class=\"plotly-graph-div\" style=\"height:600px; width:800px;\"></div>            <script type=\"text/javascript\">                require([\"plotly\"], function(Plotly) {                    window.PLOTLYENV=window.PLOTLYENV || {};                                    if (document.getElementById(\"f582483c-eb29-4747-998c-9d6049d23225\")) {                    Plotly.newPlot(                        \"f582483c-eb29-4747-998c-9d6049d23225\",                        [{\"hovertemplate\":\"Tipo=1\\u003cbr\\u003e\\u00c1rea=%{x}\\u003cbr\\u003ePer\\u00edmetro=%{y}\\u003cbr\\u003eLongitud del Grano=%{z}\\u003cbr\\u003eCluster=%{marker.color}\\u003cextra\\u003e\\u003c\\u002fextra\\u003e\",\"legendgroup\":\"1\",\"marker\":{\"color\":[2,2,2,2,2,2,2,2,0,2,2,2,2,2,2,2,2,2,2,1,2,2,2,2,2,2,2,2,2,2,2,2,2,2,2,2,2,0,2,2,2,2,2,2,2,2,2,2,2,2,2,2,2,2,2,2,2,2,2,1,1,2,2,2,2,2,2,2,2,1],\"coloraxis\":\"coloraxis\",\"symbol\":\"circle\",\"line\":{\"color\":\"DarkSlateGrey\",\"width\":2},\"size\":5},\"mode\":\"markers\",\"name\":\"1\",\"scene\":\"scene\",\"showlegend\":true,\"x\":[15.26,14.88,14.29,13.84,16.14,14.38,14.69,14.11,16.63,16.44,15.26,14.03,13.89,13.78,13.74,14.59,13.99,15.69,14.7,12.72,14.16,14.11,15.88,12.08,15.01,16.19,13.02,12.74,14.11,13.45,13.16,15.49,14.09,13.94,15.05,16.12,16.2,17.08,14.8,14.28,13.54,13.5,13.16,15.5,15.11,13.8,15.36,14.99,14.79,14.86,14.43,15.78,14.49,14.33,14.52,15.03,14.46,14.92,15.38,12.11,11.42,11.23,12.36,13.22,12.78,12.88,14.34,14.01,14.37,12.73],\"y\":[14.84,14.57,14.09,13.94,14.99,14.21,14.49,14.1,15.46,15.25,14.85,14.16,14.02,14.06,14.05,14.28,13.83,14.75,14.21,13.57,14.4,14.26,14.9,13.23,14.76,15.16,13.76,13.67,14.18,14.02,13.82,14.94,14.41,14.17,14.68,15.0,15.27,15.38,14.52,14.17,13.85,13.85,13.55,14.86,14.54,14.04,14.76,14.56,14.52,14.67,14.4,14.91,14.61,14.28,14.6,14.77,14.35,14.43,14.77,13.47,12.86,12.63,13.19,13.84,13.57,13.5,14.37,14.29,14.39,13.75],\"z\":[5.763,5.554,5.291,5.324,5.658,5.386,5.563,5.42,6.053,5.884,5.714,5.438,5.439,5.479,5.482,5.351,5.119,5.527,5.205,5.226,5.658,5.52,5.618,5.099,5.789,5.833,5.395,5.395,5.541,5.516,5.454,5.757,5.717,5.585,5.712,5.709,5.826,5.832,5.656,5.397,5.348,5.351,5.138,5.877,5.579,5.376,5.701,5.57,5.545,5.678,5.585,5.674,5.715,5.504,5.741,5.702,5.388,5.384,5.662,5.159,5.008,4.902,5.076,5.395,5.262,5.139,5.63,5.609,5.569,5.412],\"type\":\"scatter3d\"},{\"hovertemplate\":\"Tipo=2\\u003cbr\\u003e\\u00c1rea=%{x}\\u003cbr\\u003ePer\\u00edmetro=%{y}\\u003cbr\\u003eLongitud del Grano=%{z}\\u003cbr\\u003eCluster=%{marker.color}\\u003cextra\\u003e\\u003c\\u002fextra\\u003e\",\"legendgroup\":\"2\",\"marker\":{\"color\":[0,0,0,0,0,0,0,0,0,0,0,0,0,0,0,0,0,0,0,0,0,0,0,0,0,0,0,0,0,0,0,0,0,0,0,0,0,0,0,0,0,0,0,0,0,0,0,0,0,0,0,0,0,0,2,0,0,0,0,0,0,0,0,0,0,2,0,2,2,0],\"coloraxis\":\"coloraxis\",\"symbol\":\"diamond\",\"line\":{\"color\":\"DarkSlateGrey\",\"width\":2},\"size\":5},\"mode\":\"markers\",\"name\":\"2\",\"scene\":\"scene\",\"showlegend\":true,\"x\":[17.63,16.84,17.26,19.11,16.82,16.77,17.32,20.71,18.94,17.12,16.53,18.72,20.2,19.57,19.51,18.27,18.88,18.98,21.18,20.88,20.1,18.76,18.81,18.59,18.36,16.87,19.31,18.98,18.17,18.72,16.41,17.99,19.46,19.18,18.95,18.83,18.85,17.63,19.94,18.55,18.45,19.38,19.13,19.14,20.97,19.06,18.96,19.15,18.89,20.03,20.24,18.14,16.17,18.43,15.99,18.75,18.65,17.98,20.16,17.55,18.3,18.94,15.38,16.16,15.56,15.38,17.36,15.57,15.6,16.23],\"y\":[15.98,15.67,15.73,16.26,15.51,15.62,15.91,17.23,16.49,15.55,15.34,16.19,16.89,16.74,16.71,16.09,16.26,16.66,17.21,17.05,16.99,16.2,16.29,16.05,16.52,15.65,16.59,16.57,16.26,16.34,15.25,15.86,16.5,16.63,16.42,16.29,16.17,15.86,16.92,16.22,16.12,16.72,16.31,16.61,17.25,16.45,16.2,16.45,16.23,16.9,16.91,16.12,15.38,15.97,14.89,16.18,16.41,15.85,17.03,15.66,15.89,16.32,14.9,15.33,14.89,14.66,15.76,15.15,15.11,15.18],\"z\":[6.191,5.998,5.978,6.154,6.017,5.927,6.064,6.579,6.445,5.85,5.875,6.006,6.285,6.384,6.366,6.173,6.084,6.549,6.573,6.45,6.581,6.172,6.272,6.037,6.666,6.139,6.341,6.449,6.271,6.219,5.718,5.89,6.113,6.369,6.248,6.037,6.152,6.033,6.675,6.153,6.107,6.303,6.183,6.259,6.563,6.416,6.051,6.245,6.227,6.493,6.315,6.059,5.762,5.98,5.363,6.111,6.285,5.979,6.513,5.791,5.979,6.144,5.884,5.845,5.776,5.477,6.145,5.92,5.832,5.872],\"type\":\"scatter3d\"},{\"hovertemplate\":\"Tipo=3\\u003cbr\\u003e\\u00c1rea=%{x}\\u003cbr\\u003ePer\\u00edmetro=%{y}\\u003cbr\\u003eLongitud del Grano=%{z}\\u003cbr\\u003eCluster=%{marker.color}\\u003cextra\\u003e\\u003c\\u002fextra\\u003e\",\"legendgroup\":\"3\",\"marker\":{\"color\":[1,1,1,1,1,1,1,1,1,1,1,1,1,1,1,1,1,1,1,1,1,1,1,1,1,2,1,1,1,1,1,1,1,1,1,1,1,1,1,1,1,1,1,1,1,1,1,1,1,1,1,1,1,1,1,2,1,2,1,2,1,2,1,1,1,1,1,1,1,1],\"coloraxis\":\"coloraxis\",\"symbol\":\"square\",\"line\":{\"color\":\"DarkSlateGrey\",\"width\":2},\"size\":5},\"mode\":\"markers\",\"name\":\"3\",\"scene\":\"scene\",\"showlegend\":true,\"x\":[13.07,13.32,13.34,12.22,11.82,11.21,11.43,12.49,12.7,10.79,11.83,12.01,12.26,11.18,11.36,11.19,11.34,12.13,11.75,11.49,12.54,12.02,12.05,12.55,11.14,12.1,12.44,12.15,11.35,11.24,11.02,11.55,11.27,11.4,10.83,10.8,11.26,10.74,11.48,12.21,11.41,12.46,12.19,11.65,12.89,11.56,11.81,10.91,11.23,10.59,10.93,11.27,11.87,10.82,12.11,12.8,12.79,13.37,12.62,12.76,12.38,12.67,11.18,12.7,12.37,12.19,11.23,13.2,11.84,12.3],\"y\":[13.92,13.94,13.95,13.32,13.4,13.13,13.13,13.46,13.71,12.93,13.23,13.52,13.6,13.04,13.05,13.05,12.87,13.73,13.52,13.22,13.67,13.33,13.41,13.57,12.79,13.15,13.59,13.45,13.12,13.0,13.0,13.1,12.97,13.08,12.96,12.57,13.01,12.73,13.05,13.47,12.95,13.41,13.36,13.07,13.77,13.31,13.45,12.8,12.82,12.41,12.8,12.86,13.02,12.83,13.27,13.47,13.53,13.78,13.67,13.38,13.44,13.32,12.72,13.41,13.47,13.2,12.88,13.66,13.21,13.34],\"z\":[5.472,5.541,5.389,5.224,5.314,5.279,5.176,5.267,5.386,5.317,5.263,5.405,5.408,5.22,5.175,5.25,5.053,5.394,5.444,5.304,5.451,5.35,5.267,5.333,5.011,5.105,5.319,5.417,5.176,5.09,5.325,5.167,5.088,5.136,5.278,4.981,5.186,5.145,5.18,5.357,5.09,5.236,5.24,5.108,5.495,5.363,5.413,5.088,5.089,4.899,5.046,5.091,5.132,5.18,5.236,5.16,5.224,5.32,5.41,5.073,5.219,4.984,5.009,5.183,5.204,5.137,5.14,5.236,5.175,5.243],\"type\":\"scatter3d\"}],                        {\"template\":{\"data\":{\"histogram2dcontour\":[{\"type\":\"histogram2dcontour\",\"colorbar\":{\"outlinewidth\":0,\"ticks\":\"\"},\"colorscale\":[[0.0,\"#0d0887\"],[0.1111111111111111,\"#46039f\"],[0.2222222222222222,\"#7201a8\"],[0.3333333333333333,\"#9c179e\"],[0.4444444444444444,\"#bd3786\"],[0.5555555555555556,\"#d8576b\"],[0.6666666666666666,\"#ed7953\"],[0.7777777777777778,\"#fb9f3a\"],[0.8888888888888888,\"#fdca26\"],[1.0,\"#f0f921\"]]}],\"choropleth\":[{\"type\":\"choropleth\",\"colorbar\":{\"outlinewidth\":0,\"ticks\":\"\"}}],\"histogram2d\":[{\"type\":\"histogram2d\",\"colorbar\":{\"outlinewidth\":0,\"ticks\":\"\"},\"colorscale\":[[0.0,\"#0d0887\"],[0.1111111111111111,\"#46039f\"],[0.2222222222222222,\"#7201a8\"],[0.3333333333333333,\"#9c179e\"],[0.4444444444444444,\"#bd3786\"],[0.5555555555555556,\"#d8576b\"],[0.6666666666666666,\"#ed7953\"],[0.7777777777777778,\"#fb9f3a\"],[0.8888888888888888,\"#fdca26\"],[1.0,\"#f0f921\"]]}],\"heatmap\":[{\"type\":\"heatmap\",\"colorbar\":{\"outlinewidth\":0,\"ticks\":\"\"},\"colorscale\":[[0.0,\"#0d0887\"],[0.1111111111111111,\"#46039f\"],[0.2222222222222222,\"#7201a8\"],[0.3333333333333333,\"#9c179e\"],[0.4444444444444444,\"#bd3786\"],[0.5555555555555556,\"#d8576b\"],[0.6666666666666666,\"#ed7953\"],[0.7777777777777778,\"#fb9f3a\"],[0.8888888888888888,\"#fdca26\"],[1.0,\"#f0f921\"]]}],\"heatmapgl\":[{\"type\":\"heatmapgl\",\"colorbar\":{\"outlinewidth\":0,\"ticks\":\"\"},\"colorscale\":[[0.0,\"#0d0887\"],[0.1111111111111111,\"#46039f\"],[0.2222222222222222,\"#7201a8\"],[0.3333333333333333,\"#9c179e\"],[0.4444444444444444,\"#bd3786\"],[0.5555555555555556,\"#d8576b\"],[0.6666666666666666,\"#ed7953\"],[0.7777777777777778,\"#fb9f3a\"],[0.8888888888888888,\"#fdca26\"],[1.0,\"#f0f921\"]]}],\"contourcarpet\":[{\"type\":\"contourcarpet\",\"colorbar\":{\"outlinewidth\":0,\"ticks\":\"\"}}],\"contour\":[{\"type\":\"contour\",\"colorbar\":{\"outlinewidth\":0,\"ticks\":\"\"},\"colorscale\":[[0.0,\"#0d0887\"],[0.1111111111111111,\"#46039f\"],[0.2222222222222222,\"#7201a8\"],[0.3333333333333333,\"#9c179e\"],[0.4444444444444444,\"#bd3786\"],[0.5555555555555556,\"#d8576b\"],[0.6666666666666666,\"#ed7953\"],[0.7777777777777778,\"#fb9f3a\"],[0.8888888888888888,\"#fdca26\"],[1.0,\"#f0f921\"]]}],\"surface\":[{\"type\":\"surface\",\"colorbar\":{\"outlinewidth\":0,\"ticks\":\"\"},\"colorscale\":[[0.0,\"#0d0887\"],[0.1111111111111111,\"#46039f\"],[0.2222222222222222,\"#7201a8\"],[0.3333333333333333,\"#9c179e\"],[0.4444444444444444,\"#bd3786\"],[0.5555555555555556,\"#d8576b\"],[0.6666666666666666,\"#ed7953\"],[0.7777777777777778,\"#fb9f3a\"],[0.8888888888888888,\"#fdca26\"],[1.0,\"#f0f921\"]]}],\"mesh3d\":[{\"type\":\"mesh3d\",\"colorbar\":{\"outlinewidth\":0,\"ticks\":\"\"}}],\"scatter\":[{\"fillpattern\":{\"fillmode\":\"overlay\",\"size\":10,\"solidity\":0.2},\"type\":\"scatter\"}],\"parcoords\":[{\"type\":\"parcoords\",\"line\":{\"colorbar\":{\"outlinewidth\":0,\"ticks\":\"\"}}}],\"scatterpolargl\":[{\"type\":\"scatterpolargl\",\"marker\":{\"colorbar\":{\"outlinewidth\":0,\"ticks\":\"\"}}}],\"bar\":[{\"error_x\":{\"color\":\"#2a3f5f\"},\"error_y\":{\"color\":\"#2a3f5f\"},\"marker\":{\"line\":{\"color\":\"#E5ECF6\",\"width\":0.5},\"pattern\":{\"fillmode\":\"overlay\",\"size\":10,\"solidity\":0.2}},\"type\":\"bar\"}],\"scattergeo\":[{\"type\":\"scattergeo\",\"marker\":{\"colorbar\":{\"outlinewidth\":0,\"ticks\":\"\"}}}],\"scatterpolar\":[{\"type\":\"scatterpolar\",\"marker\":{\"colorbar\":{\"outlinewidth\":0,\"ticks\":\"\"}}}],\"histogram\":[{\"marker\":{\"pattern\":{\"fillmode\":\"overlay\",\"size\":10,\"solidity\":0.2}},\"type\":\"histogram\"}],\"scattergl\":[{\"type\":\"scattergl\",\"marker\":{\"colorbar\":{\"outlinewidth\":0,\"ticks\":\"\"}}}],\"scatter3d\":[{\"type\":\"scatter3d\",\"line\":{\"colorbar\":{\"outlinewidth\":0,\"ticks\":\"\"}},\"marker\":{\"colorbar\":{\"outlinewidth\":0,\"ticks\":\"\"}}}],\"scattermapbox\":[{\"type\":\"scattermapbox\",\"marker\":{\"colorbar\":{\"outlinewidth\":0,\"ticks\":\"\"}}}],\"scatterternary\":[{\"type\":\"scatterternary\",\"marker\":{\"colorbar\":{\"outlinewidth\":0,\"ticks\":\"\"}}}],\"scattercarpet\":[{\"type\":\"scattercarpet\",\"marker\":{\"colorbar\":{\"outlinewidth\":0,\"ticks\":\"\"}}}],\"carpet\":[{\"aaxis\":{\"endlinecolor\":\"#2a3f5f\",\"gridcolor\":\"white\",\"linecolor\":\"white\",\"minorgridcolor\":\"white\",\"startlinecolor\":\"#2a3f5f\"},\"baxis\":{\"endlinecolor\":\"#2a3f5f\",\"gridcolor\":\"white\",\"linecolor\":\"white\",\"minorgridcolor\":\"white\",\"startlinecolor\":\"#2a3f5f\"},\"type\":\"carpet\"}],\"table\":[{\"cells\":{\"fill\":{\"color\":\"#EBF0F8\"},\"line\":{\"color\":\"white\"}},\"header\":{\"fill\":{\"color\":\"#C8D4E3\"},\"line\":{\"color\":\"white\"}},\"type\":\"table\"}],\"barpolar\":[{\"marker\":{\"line\":{\"color\":\"#E5ECF6\",\"width\":0.5},\"pattern\":{\"fillmode\":\"overlay\",\"size\":10,\"solidity\":0.2}},\"type\":\"barpolar\"}],\"pie\":[{\"automargin\":true,\"type\":\"pie\"}]},\"layout\":{\"autotypenumbers\":\"strict\",\"colorway\":[\"#636efa\",\"#EF553B\",\"#00cc96\",\"#ab63fa\",\"#FFA15A\",\"#19d3f3\",\"#FF6692\",\"#B6E880\",\"#FF97FF\",\"#FECB52\"],\"font\":{\"color\":\"#2a3f5f\"},\"hovermode\":\"closest\",\"hoverlabel\":{\"align\":\"left\"},\"paper_bgcolor\":\"white\",\"plot_bgcolor\":\"#E5ECF6\",\"polar\":{\"bgcolor\":\"#E5ECF6\",\"angularaxis\":{\"gridcolor\":\"white\",\"linecolor\":\"white\",\"ticks\":\"\"},\"radialaxis\":{\"gridcolor\":\"white\",\"linecolor\":\"white\",\"ticks\":\"\"}},\"ternary\":{\"bgcolor\":\"#E5ECF6\",\"aaxis\":{\"gridcolor\":\"white\",\"linecolor\":\"white\",\"ticks\":\"\"},\"baxis\":{\"gridcolor\":\"white\",\"linecolor\":\"white\",\"ticks\":\"\"},\"caxis\":{\"gridcolor\":\"white\",\"linecolor\":\"white\",\"ticks\":\"\"}},\"coloraxis\":{\"colorbar\":{\"outlinewidth\":0,\"ticks\":\"\"}},\"colorscale\":{\"sequential\":[[0.0,\"#0d0887\"],[0.1111111111111111,\"#46039f\"],[0.2222222222222222,\"#7201a8\"],[0.3333333333333333,\"#9c179e\"],[0.4444444444444444,\"#bd3786\"],[0.5555555555555556,\"#d8576b\"],[0.6666666666666666,\"#ed7953\"],[0.7777777777777778,\"#fb9f3a\"],[0.8888888888888888,\"#fdca26\"],[1.0,\"#f0f921\"]],\"sequentialminus\":[[0.0,\"#0d0887\"],[0.1111111111111111,\"#46039f\"],[0.2222222222222222,\"#7201a8\"],[0.3333333333333333,\"#9c179e\"],[0.4444444444444444,\"#bd3786\"],[0.5555555555555556,\"#d8576b\"],[0.6666666666666666,\"#ed7953\"],[0.7777777777777778,\"#fb9f3a\"],[0.8888888888888888,\"#fdca26\"],[1.0,\"#f0f921\"]],\"diverging\":[[0,\"#8e0152\"],[0.1,\"#c51b7d\"],[0.2,\"#de77ae\"],[0.3,\"#f1b6da\"],[0.4,\"#fde0ef\"],[0.5,\"#f7f7f7\"],[0.6,\"#e6f5d0\"],[0.7,\"#b8e186\"],[0.8,\"#7fbc41\"],[0.9,\"#4d9221\"],[1,\"#276419\"]]},\"xaxis\":{\"gridcolor\":\"white\",\"linecolor\":\"white\",\"ticks\":\"\",\"title\":{\"standoff\":15},\"zerolinecolor\":\"white\",\"automargin\":true,\"zerolinewidth\":2},\"yaxis\":{\"gridcolor\":\"white\",\"linecolor\":\"white\",\"ticks\":\"\",\"title\":{\"standoff\":15},\"zerolinecolor\":\"white\",\"automargin\":true,\"zerolinewidth\":2},\"scene\":{\"xaxis\":{\"backgroundcolor\":\"#E5ECF6\",\"gridcolor\":\"white\",\"linecolor\":\"white\",\"showbackground\":true,\"ticks\":\"\",\"zerolinecolor\":\"white\",\"gridwidth\":2},\"yaxis\":{\"backgroundcolor\":\"#E5ECF6\",\"gridcolor\":\"white\",\"linecolor\":\"white\",\"showbackground\":true,\"ticks\":\"\",\"zerolinecolor\":\"white\",\"gridwidth\":2},\"zaxis\":{\"backgroundcolor\":\"#E5ECF6\",\"gridcolor\":\"white\",\"linecolor\":\"white\",\"showbackground\":true,\"ticks\":\"\",\"zerolinecolor\":\"white\",\"gridwidth\":2}},\"shapedefaults\":{\"line\":{\"color\":\"#2a3f5f\"}},\"annotationdefaults\":{\"arrowcolor\":\"#2a3f5f\",\"arrowhead\":0,\"arrowwidth\":1},\"geo\":{\"bgcolor\":\"white\",\"landcolor\":\"#E5ECF6\",\"subunitcolor\":\"white\",\"showland\":true,\"showlakes\":true,\"lakecolor\":\"white\"},\"title\":{\"x\":0.05},\"mapbox\":{\"style\":\"light\"}}},\"scene\":{\"domain\":{\"x\":[0.0,1.0],\"y\":[0.0,1.0]},\"xaxis\":{\"title\":{\"text\":\"\\u00c1rea\"}},\"yaxis\":{\"title\":{\"text\":\"Per\\u00edmetro\"}},\"zaxis\":{\"title\":{\"text\":\"Longitud del Grano\"}}},\"coloraxis\":{\"colorbar\":{\"title\":{\"text\":\"Cluster\"}},\"colorscale\":[[0.0,\"#0d0887\"],[0.1111111111111111,\"#46039f\"],[0.2222222222222222,\"#7201a8\"],[0.3333333333333333,\"#9c179e\"],[0.4444444444444444,\"#bd3786\"],[0.5555555555555556,\"#d8576b\"],[0.6666666666666666,\"#ed7953\"],[0.7777777777777778,\"#fb9f3a\"],[0.8888888888888888,\"#fdca26\"],[1.0,\"#f0f921\"]]},\"legend\":{\"title\":{\"text\":\"Tipo\"},\"tracegroupgap\":0,\"x\":0,\"y\":1,\"bgcolor\":\"rgba(255, 255, 255, 0.5)\"},\"title\":{\"text\":\"3D Scatter Plot of Seeds Data\"},\"margin\":{\"l\":0,\"r\":0,\"b\":0,\"t\":30},\"width\":800,\"height\":600},                        {\"responsive\": true}                    ).then(function(){\n",
       "                            \n",
       "var gd = document.getElementById('f582483c-eb29-4747-998c-9d6049d23225');\n",
       "var x = new MutationObserver(function (mutations, observer) {{\n",
       "        var display = window.getComputedStyle(gd).display;\n",
       "        if (!display || display === 'none') {{\n",
       "            console.log([gd, 'removed!']);\n",
       "            Plotly.purge(gd);\n",
       "            observer.disconnect();\n",
       "        }}\n",
       "}});\n",
       "\n",
       "// Listen for the removal of the full notebook cells\n",
       "var notebookContainer = gd.closest('#notebook-container');\n",
       "if (notebookContainer) {{\n",
       "    x.observe(notebookContainer, {childList: true});\n",
       "}}\n",
       "\n",
       "// Listen for the clearing of the current output cell\n",
       "var outputEl = gd.closest('.output');\n",
       "if (outputEl) {{\n",
       "    x.observe(outputEl, {childList: true});\n",
       "}}\n",
       "\n",
       "                        })                };                });            </script>        </div>"
      ]
     },
     "metadata": {},
     "output_type": "display_data"
    }
   ],
   "source": [
    "# Clustering\n",
    "kmeans = KMeans(n_clusters=3, random_state=42)\n",
    "data['Cluster'] = kmeans.fit_predict(data_scaled)\n",
    "\n",
    "# Assuming 'data' has a 'Cluster' column from the K-means result\n",
    "fig = px.scatter_3d(data, x='area', y='perimeter', z='length_kernel', color='Cluster',\n",
    "                    symbol='type',  # Optional, if you want to differentiate by another categorical variable\n",
    "                    labels={\n",
    "                        \"area\": \"Área\",\n",
    "                        \"perimeter\": \"Perímetro\",\n",
    "                        \"length_kernel\": \"Longitud del Grano\",\n",
    "                        \"Cluster\": \"Cluster\",\n",
    "                        \"type\": \"Tipo\"\n",
    "                    },\n",
    "                    title=\"3D Scatter Plot of Seeds Data\")\n",
    "\n",
    "# Update marker appearance\n",
    "fig.update_traces(marker=dict(size=5, line=dict(width=2, color='DarkSlateGrey')))\n",
    "\n",
    "# Enhance the layout to make the plot larger\n",
    "fig.update_layout(\n",
    "    margin=dict(l=0, r=0, b=0, t=30),\n",
    "    width=800,  # Width of the plot in pixels\n",
    "    height=600,  # Height of the plot in pixels\n",
    "    legend=dict(\n",
    "        x=0,  # X position of the legend (0 is far left, 1 is far right)\n",
    "        y=1,  # Y position of the legend (0 is at the bottom, 1 is at the top)\n",
    "        bgcolor='rgba(255, 255, 255, 0.5)'  # Background color with transparency\n",
    "    )\n",
    ")\n",
    "\n",
    "fig.show()"
   ]
  },
  {
   "cell_type": "markdown",
   "id": "24a5ca69-a925-4d27-a4d2-247266dcb25f",
   "metadata": {},
   "source": [
    "## Validación del Clustering\n",
    "\n",
    "Para validar los resultados del clustering, comparamos los clusters generados por el algoritmo K-means con las categorías reales proporcionadas en el conjunto de datos. Utilizamos la matriz de confusión y el informe de clasificación para evaluar cómo los clusters corresponden a las variedades de semillas reales.\n",
    "\n",
    "Es importante mencionar que K-means es un algoritmo de clustering no supervisado y no utiliza etiquetas durante el entrenamiento. Sin embargo, al tener etiquetas disponibles, podemos utilizarlas post-hoc para evaluar la calidad del clustering de una manera supervisada.\n"
   ]
  },
  {
   "cell_type": "code",
   "execution_count": 37,
   "id": "486f7553-67a7-412d-8741-a9df37684c34",
   "metadata": {},
   "outputs": [
    {
     "data": {
      "image/png": "[encoded data removed]",
      "text/plain": [
       "<Figure size 1000x700 with 2 Axes>"
      ]
     },
     "metadata": {},
     "output_type": "display_data"
    }
   ],
   "source": [
    "# Homogeneize data types between predicted and true labels\n",
    "predicted_label = []\n",
    "for pl in data[\"predicted_label\"]:\n",
    "    if pl == \"Canadian\":\n",
    "        predicted_label.append(1)\n",
    "    elif pl == \"Kama\":\n",
    "        predicted_label.append(2)\n",
    "    else:\n",
    "        predicted_label.append(3)\n",
    "predicted_label = np.array(predicted_label)\n",
    "\n",
    "true_label = np.array(data[\"type\"])\n",
    "\n",
    "# Create confusion matrix\n",
    "conf_matrix = confusion_matrix(true_label, predicted_label)\n",
    "plt.figure(figsize=(10, 7))\n",
    "sns.heatmap(conf_matrix, annot=True, fmt='g', cmap='Blues', xticklabels=cluster_to_type_map.values(), yticklabels=cluster_to_type_map.values())\n",
    "plt.xlabel('Predicted Labels')\n",
    "plt.ylabel('True Labels')\n",
    "plt.title('Confusion Matrix for Seed Clustering')\n",
    "plt.show()\n"
   ]
  }
 ],
 "metadata": {
  "kernelspec": {
   "display_name": "Python 3 (ipykernel)",
   "language": "python",
   "name": "python3"
  },
  "language_info": {
   "codemirror_mode": {
    "name": "ipython",
    "version": 3
   },
   "file_extension": ".py",
   "mimetype": "text/x-python",
   "name": "python",
   "nbconvert_exporter": "python",
   "pygments_lexer": "ipython3",
   "version": "3.11.9"
  }
 },
 "nbformat": 4,
 "nbformat_minor": 5
}
