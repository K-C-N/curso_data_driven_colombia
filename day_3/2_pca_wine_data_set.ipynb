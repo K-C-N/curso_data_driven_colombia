{
 "cells": [
  {
   "cell_type": "markdown",
   "id": "2dce380b-628d-4388-b8ee-5bf044301392",
   "metadata": {},
   "source": [
    "# Caso 2: Aplicación de PCA a un conjunto de datos de vinos"
   ]
  },
  {
   "cell_type": "markdown",
   "id": "02c566eb-f44f-4cd3-a1e7-518b93781d8e",
   "metadata": {},
   "source": [
    "## Introducción"
   ]
  },
  {
   "cell_type": "markdown",
   "id": "ba4fcac8-f510-4caf-87ad-a9d81968b4bc",
   "metadata": {},
   "source": [
    "Este *Jupyter notebook* demuestra la aplicación de PCA en un *wine dataset*, que contiene los resultados de un análisis químico de vinos cultivados en la misma región en Italia pero derivados de tres diferentes cultivares. El análisis tiene como objetivo reducir la dimensionalidad del conjunto de datos e identificar patrones que diferencian los tipos de vino basados en sus propiedades químicas.\n"
   ]
  },
  {
   "cell_type": "markdown",
   "id": "837cd539-96c0-4165-93f8-b10d798fdc50",
   "metadata": {},
   "source": [
    "## Descripción del *dataset*"
   ]
  },
  {
   "cell_type": "markdown",
   "id": "9ced48ac-3cd3-4c76-bcc6-66380aadadeb",
   "metadata": {},
   "source": [
    "El conjunto de datos del vino es un conjunto público del Repositorio de Aprendizaje Automático de UCI. Incluye 178 muestras con 13 propiedades químicas cada una, tales como contenido de alcohol, intensidad del color, tono, y varias propiedades químicas asociadas con el vino. Hay tres tipos de vino en el conjunto de datos, correspondientes a tres diferentes cultivares.\n",
    "\n"
   ]
  },
  {
   "cell_type": "markdown",
   "id": "8783725f-32a8-41f9-8de6-b9f612be0eba",
   "metadata": {},
   "source": [
    "## Fundamentos Matemáticos del Análisis de Componentes Principales (PCA)\n",
    "\n",
    "El Análisis de Componentes Principales (PCA) es una técnica estadística utilizada para reducir la dimensionalidad de un conjunto de datos, al tiempo que conserva la mayor cantidad posible de su variabilidad. Esto se logra identificando las direcciones, llamadas componentes principales, a lo largo de las cuales la variabilidad de los datos es máxima.\n",
    "\n",
    "### Covarianza y Componentes Principales\n",
    "\n",
    "Primero, consideremos un conjunto de datos $\\mathbf{X}$ de dimensiones $n \\times p$, donde $n$ es el número de muestras y $p$ es el número de variables. El primer paso en PCA es centrar los datos restando la media de cada variable. Esto se realiza para asegurar que el PCA atraviese el origen de las coordenadas del espacio de las características.\n",
    "\n",
    "La matriz de covarianza $\\mathbf{S}$ de los datos centrados se calcula como:\n",
    "\n",
    "$$\n",
    "\\mathbf{S} = \\frac{1}{n-1} \\mathbf{X}^T \\mathbf{X}\n",
    "$$\n",
    "\n",
    "Esta matriz de covarianza es una matriz cuadrada $p \\times p$ donde cada elemento representa la covarianza entre dos variables. PCA busca transformar las variables originales en un nuevo conjunto de variables que sean linealmente independientes unas de otras. Estas nuevas variables se llaman componentes principales.\n",
    "\n",
    "### Autovalores y autovectores\n",
    "\n",
    "Los componentes principales se obtienen encontrando los autovectores de la matriz de covarianza $\\mathbf{S}$. Los autovectores de $\\mathbf{S}$ son direcciones en el espacio de datos donde la variabilidad de los datos es máxima. Estos se calculan resolviendo la ecuación característica:\n",
    "\n",
    "$$\n",
    "\\mathbf{S} \\mathbf{v} = \\lambda \\mathbf{v}\n",
    "$$\n",
    "\n",
    "donde $\\lambda$ representa un autovalor y $\\mathbf{v}$ es un autovector asociado. Los autovalores indican la cantidad de varianza capturada por sus respectivos autovectores. Ordenando los autovectores en función de sus autovalores descendentes, podemos seleccionar los $k$ primeros para formar un subespacio de características.\n",
    "\n",
    "### Transformación de Datos\n",
    "\n",
    "Una vez seleccionados los autovectores, los datos originales $\\mathbf{X}$ pueden ser transformados proyectándolos sobre los autovectores. Esto se realiza mediante la multiplicación de $\\mathbf{X}$ por una matriz $\\mathbf{P}$ formada por los $k$ autovectores seleccionados:\n",
    "\n",
    "$$\n",
    "\\mathbf{Y} = \\mathbf{X} \\mathbf{P}\n",
    "$$\n",
    "\n",
    "Donde $\\mathbf{Y}$ representa la matriz de datos transformada con dimensiones reducidas. Los componentes de $\\mathbf{Y}$ son las nuevas características derivadas a partir de los datos originales que ahora reflejan la mayor parte de la variabilidad en menos dimensiones.\n",
    "\n",
    "Este proceso no solo ayuda a reducir la cantidad de recursos necesarios para almacenar y procesar los datos, sino que también mejora la visualización de datos complejos y facilita la identificación de patrones o estructuras subyacentes en los datos.\n",
    "\n"
   ]
  },
  {
   "cell_type": "markdown",
   "id": "642f4b30-62dd-4c23-af3a-c966d3be110f",
   "metadata": {},
   "source": [
    "## Preparación de datos"
   ]
  },
  {
   "cell_type": "code",
   "execution_count": 53,
   "id": "63298aec-0a01-4c13-ae43-b96f17f971ca",
   "metadata": {},
   "outputs": [
    {
     "data": {
      "text/html": [
       "<div>\n",
       "<style scoped>\n",
       "    .dataframe tbody tr th:only-of-type {\n",
       "        vertical-align: middle;\n",
       "    }\n",
       "\n",
       "    .dataframe tbody tr th {\n",
       "        vertical-align: top;\n",
       "    }\n",
       "\n",
       "    .dataframe thead th {\n",
       "        text-align: right;\n",
       "    }\n",
       "</style>\n",
       "<table border=\"1\" class=\"dataframe\">\n",
       "  <thead>\n",
       "    <tr style=\"text-align: right;\">\n",
       "      <th></th>\n",
       "      <th>alcohol</th>\n",
       "      <th>malic_acid</th>\n",
       "      <th>ash</th>\n",
       "      <th>alcalinity_of_ash</th>\n",
       "      <th>magnesium</th>\n",
       "      <th>total_phenols</th>\n",
       "      <th>flavanoids</th>\n",
       "      <th>nonflavanoid_phenols</th>\n",
       "      <th>proanthocyanins</th>\n",
       "      <th>color_intensity</th>\n",
       "      <th>hue</th>\n",
       "      <th>od280/od315_of_diluted_wines</th>\n",
       "      <th>proline</th>\n",
       "    </tr>\n",
       "  </thead>\n",
       "  <tbody>\n",
       "    <tr>\n",
       "      <th>0</th>\n",
       "      <td>1.518613</td>\n",
       "      <td>-0.562250</td>\n",
       "      <td>0.232053</td>\n",
       "      <td>-1.169593</td>\n",
       "      <td>1.913905</td>\n",
       "      <td>0.808997</td>\n",
       "      <td>1.034819</td>\n",
       "      <td>-0.659563</td>\n",
       "      <td>1.224884</td>\n",
       "      <td>0.251717</td>\n",
       "      <td>0.362177</td>\n",
       "      <td>1.847920</td>\n",
       "      <td>1.013009</td>\n",
       "    </tr>\n",
       "    <tr>\n",
       "      <th>1</th>\n",
       "      <td>0.246290</td>\n",
       "      <td>-0.499413</td>\n",
       "      <td>-0.827996</td>\n",
       "      <td>-2.490847</td>\n",
       "      <td>0.018145</td>\n",
       "      <td>0.568648</td>\n",
       "      <td>0.733629</td>\n",
       "      <td>-0.820719</td>\n",
       "      <td>-0.544721</td>\n",
       "      <td>-0.293321</td>\n",
       "      <td>0.406051</td>\n",
       "      <td>1.113449</td>\n",
       "      <td>0.965242</td>\n",
       "    </tr>\n",
       "    <tr>\n",
       "      <th>2</th>\n",
       "      <td>0.196879</td>\n",
       "      <td>0.021231</td>\n",
       "      <td>1.109334</td>\n",
       "      <td>-0.268738</td>\n",
       "      <td>0.088358</td>\n",
       "      <td>0.808997</td>\n",
       "      <td>1.215533</td>\n",
       "      <td>-0.498407</td>\n",
       "      <td>2.135968</td>\n",
       "      <td>0.269020</td>\n",
       "      <td>0.318304</td>\n",
       "      <td>0.788587</td>\n",
       "      <td>1.395148</td>\n",
       "    </tr>\n",
       "    <tr>\n",
       "      <th>3</th>\n",
       "      <td>1.691550</td>\n",
       "      <td>-0.346811</td>\n",
       "      <td>0.487926</td>\n",
       "      <td>-0.809251</td>\n",
       "      <td>0.930918</td>\n",
       "      <td>2.491446</td>\n",
       "      <td>1.466525</td>\n",
       "      <td>-0.981875</td>\n",
       "      <td>1.032155</td>\n",
       "      <td>1.186068</td>\n",
       "      <td>-0.427544</td>\n",
       "      <td>1.184071</td>\n",
       "      <td>2.334574</td>\n",
       "    </tr>\n",
       "    <tr>\n",
       "      <th>4</th>\n",
       "      <td>0.295700</td>\n",
       "      <td>0.227694</td>\n",
       "      <td>1.840403</td>\n",
       "      <td>0.451946</td>\n",
       "      <td>1.281985</td>\n",
       "      <td>0.808997</td>\n",
       "      <td>0.663351</td>\n",
       "      <td>0.226796</td>\n",
       "      <td>0.401404</td>\n",
       "      <td>-0.319276</td>\n",
       "      <td>0.362177</td>\n",
       "      <td>0.449601</td>\n",
       "      <td>-0.037874</td>\n",
       "    </tr>\n",
       "    <tr>\n",
       "      <th>...</th>\n",
       "      <td>...</td>\n",
       "      <td>...</td>\n",
       "      <td>...</td>\n",
       "      <td>...</td>\n",
       "      <td>...</td>\n",
       "      <td>...</td>\n",
       "      <td>...</td>\n",
       "      <td>...</td>\n",
       "      <td>...</td>\n",
       "      <td>...</td>\n",
       "      <td>...</td>\n",
       "      <td>...</td>\n",
       "      <td>...</td>\n",
       "    </tr>\n",
       "    <tr>\n",
       "      <th>173</th>\n",
       "      <td>0.876275</td>\n",
       "      <td>2.974543</td>\n",
       "      <td>0.305159</td>\n",
       "      <td>0.301803</td>\n",
       "      <td>-0.332922</td>\n",
       "      <td>-0.985614</td>\n",
       "      <td>-1.424900</td>\n",
       "      <td>1.274310</td>\n",
       "      <td>-0.930179</td>\n",
       "      <td>1.142811</td>\n",
       "      <td>-1.392758</td>\n",
       "      <td>-1.231206</td>\n",
       "      <td>-0.021952</td>\n",
       "    </tr>\n",
       "    <tr>\n",
       "      <th>174</th>\n",
       "      <td>0.493343</td>\n",
       "      <td>1.412609</td>\n",
       "      <td>0.414820</td>\n",
       "      <td>1.052516</td>\n",
       "      <td>0.158572</td>\n",
       "      <td>-0.793334</td>\n",
       "      <td>-1.284344</td>\n",
       "      <td>0.549108</td>\n",
       "      <td>-0.316950</td>\n",
       "      <td>0.969783</td>\n",
       "      <td>-1.129518</td>\n",
       "      <td>-1.485445</td>\n",
       "      <td>0.009893</td>\n",
       "    </tr>\n",
       "    <tr>\n",
       "      <th>175</th>\n",
       "      <td>0.332758</td>\n",
       "      <td>1.744744</td>\n",
       "      <td>-0.389355</td>\n",
       "      <td>0.151661</td>\n",
       "      <td>1.422412</td>\n",
       "      <td>-1.129824</td>\n",
       "      <td>-1.344582</td>\n",
       "      <td>0.549108</td>\n",
       "      <td>-0.422075</td>\n",
       "      <td>2.224236</td>\n",
       "      <td>-1.612125</td>\n",
       "      <td>-1.485445</td>\n",
       "      <td>0.280575</td>\n",
       "    </tr>\n",
       "    <tr>\n",
       "      <th>176</th>\n",
       "      <td>0.209232</td>\n",
       "      <td>0.227694</td>\n",
       "      <td>0.012732</td>\n",
       "      <td>0.151661</td>\n",
       "      <td>1.422412</td>\n",
       "      <td>-1.033684</td>\n",
       "      <td>-1.354622</td>\n",
       "      <td>1.354888</td>\n",
       "      <td>-0.229346</td>\n",
       "      <td>1.834923</td>\n",
       "      <td>-1.568252</td>\n",
       "      <td>-1.400699</td>\n",
       "      <td>0.296498</td>\n",
       "    </tr>\n",
       "    <tr>\n",
       "      <th>177</th>\n",
       "      <td>1.395086</td>\n",
       "      <td>1.583165</td>\n",
       "      <td>1.365208</td>\n",
       "      <td>1.502943</td>\n",
       "      <td>-0.262708</td>\n",
       "      <td>-0.392751</td>\n",
       "      <td>-1.274305</td>\n",
       "      <td>1.596623</td>\n",
       "      <td>-0.422075</td>\n",
       "      <td>1.791666</td>\n",
       "      <td>-1.524378</td>\n",
       "      <td>-1.428948</td>\n",
       "      <td>-0.595160</td>\n",
       "    </tr>\n",
       "  </tbody>\n",
       "</table>\n",
       "<p>178 rows × 13 columns</p>\n",
       "</div>"
      ],
      "text/plain": [
       "      alcohol  malic_acid       ash  alcalinity_of_ash  magnesium  \\\n",
       "0    1.518613   -0.562250  0.232053          -1.169593   1.913905   \n",
       "1    0.246290   -0.499413 -0.827996          -2.490847   0.018145   \n",
       "2    0.196879    0.021231  1.109334          -0.268738   0.088358   \n",
       "3    1.691550   -0.346811  0.487926          -0.809251   0.930918   \n",
       "4    0.295700    0.227694  1.840403           0.451946   1.281985   \n",
       "..        ...         ...       ...                ...        ...   \n",
       "173  0.876275    2.974543  0.305159           0.301803  -0.332922   \n",
       "174  0.493343    1.412609  0.414820           1.052516   0.158572   \n",
       "175  0.332758    1.744744 -0.389355           0.151661   1.422412   \n",
       "176  0.209232    0.227694  0.012732           0.151661   1.422412   \n",
       "177  1.395086    1.583165  1.365208           1.502943  -0.262708   \n",
       "\n",
       "     total_phenols  flavanoids  nonflavanoid_phenols  proanthocyanins  \\\n",
       "0         0.808997    1.034819             -0.659563         1.224884   \n",
       "1         0.568648    0.733629             -0.820719        -0.544721   \n",
       "2         0.808997    1.215533             -0.498407         2.135968   \n",
       "3         2.491446    1.466525             -0.981875         1.032155   \n",
       "4         0.808997    0.663351              0.226796         0.401404   \n",
       "..             ...         ...                   ...              ...   \n",
       "173      -0.985614   -1.424900              1.274310        -0.930179   \n",
       "174      -0.793334   -1.284344              0.549108        -0.316950   \n",
       "175      -1.129824   -1.344582              0.549108        -0.422075   \n",
       "176      -1.033684   -1.354622              1.354888        -0.229346   \n",
       "177      -0.392751   -1.274305              1.596623        -0.422075   \n",
       "\n",
       "     color_intensity       hue  od280/od315_of_diluted_wines   proline  \n",
       "0           0.251717  0.362177                      1.847920  1.013009  \n",
       "1          -0.293321  0.406051                      1.113449  0.965242  \n",
       "2           0.269020  0.318304                      0.788587  1.395148  \n",
       "3           1.186068 -0.427544                      1.184071  2.334574  \n",
       "4          -0.319276  0.362177                      0.449601 -0.037874  \n",
       "..               ...       ...                           ...       ...  \n",
       "173         1.142811 -1.392758                     -1.231206 -0.021952  \n",
       "174         0.969783 -1.129518                     -1.485445  0.009893  \n",
       "175         2.224236 -1.612125                     -1.485445  0.280575  \n",
       "176         1.834923 -1.568252                     -1.400699  0.296498  \n",
       "177         1.791666 -1.524378                     -1.428948 -0.595160  \n",
       "\n",
       "[178 rows x 13 columns]"
      ]
     },
     "execution_count": 53,
     "metadata": {},
     "output_type": "execute_result"
    }
   ],
   "source": [
    "# Load the data\n",
    "from sklearn.datasets import load_wine\n",
    "data = load_wine()\n",
    "X = data.data\n",
    "y = data.target\n",
    "\n",
    "# Standardize the features\n",
    "from sklearn.preprocessing import StandardScaler\n",
    "scaler = StandardScaler()\n",
    "X_scaled = scaler.fit_transform(X)\n",
    "\n",
    "# Display the first few rows\n",
    "import pandas as pd\n",
    "df = pd.DataFrame(X_scaled, columns=data.feature_names)\n",
    "df\n"
   ]
  },
  {
   "cell_type": "markdown",
   "id": "a8cda62b-7d33-4d15-8f53-d763ab662f5d",
   "metadata": {},
   "source": [
    "## Aplicación del PCA"
   ]
  },
  {
   "cell_type": "code",
   "execution_count": 48,
   "id": "1332efbc-26bb-422f-a531-da27cd3d7c0c",
   "metadata": {},
   "outputs": [
    {
     "data": {
      "text/plain": [
       "array([0.36198848, 0.1920749 , 0.11123631])"
      ]
     },
     "execution_count": 48,
     "metadata": {},
     "output_type": "execute_result"
    }
   ],
   "source": [
    "# Applying PCA\n",
    "from sklearn.decomposition import PCA\n",
    "pca = PCA(n_components=3)\n",
    "X_pca = pca.fit_transform(X_scaled)\n",
    "\n",
    "# Explained variance\n",
    "explained_variance = pca.explained_variance_ratio_\n",
    "explained_variance\n"
   ]
  },
  {
   "cell_type": "markdown",
   "id": "f23e8b23-2a60-4670-a492-0012f9027012",
   "metadata": {},
   "source": [
    "Los tres primeros componentes principales, explican el 66% de la variablidad."
   ]
  },
  {
   "cell_type": "markdown",
   "id": "8b89a119-cdd4-448c-8643-5135f33c842d",
   "metadata": {},
   "source": [
    "## Visualización de resultados"
   ]
  },
  {
   "cell_type": "code",
   "execution_count": 51,
   "id": "ea112520-a4fc-44f6-8866-011e97d79c3d",
   "metadata": {},
   "outputs": [
    {
     "data": {
      "application/vnd.plotly.v1+json": {
       "config": {
        "plotlyServerURL": "https://plot.ly"
       },
       "data": [
        {
         "customdata": [
          [
           "class_0"
          ],
          [
           "class_0"
          ],
          [
           "class_0"
          ],
          [
           "class_0"
          ],
          [
           "class_0"
          ],
          [
           "class_0"
          ],
          [
           "class_0"
          ],
          [
           "class_0"
          ],
          [
           "class_0"
          ],
          [
           "class_0"
          ],
          [
           "class_0"
          ],
          [
           "class_0"
          ],
          [
           "class_0"
          ],
          [
           "class_0"
          ],
          [
           "class_0"
          ],
          [
           "class_0"
          ],
          [
           "class_0"
          ],
          [
           "class_0"
          ],
          [
           "class_0"
          ],
          [
           "class_0"
          ],
          [
           "class_0"
          ],
          [
           "class_0"
          ],
          [
           "class_0"
          ],
          [
           "class_0"
          ],
          [
           "class_0"
          ],
          [
           "class_0"
          ],
          [
           "class_0"
          ],
          [
           "class_0"
          ],
          [
           "class_0"
          ],
          [
           "class_0"
          ],
          [
           "class_0"
          ],
          [
           "class_0"
          ],
          [
           "class_0"
          ],
          [
           "class_0"
          ],
          [
           "class_0"
          ],
          [
           "class_0"
          ],
          [
           "class_0"
          ],
          [
           "class_0"
          ],
          [
           "class_0"
          ],
          [
           "class_0"
          ],
          [
           "class_0"
          ],
          [
           "class_0"
          ],
          [
           "class_0"
          ],
          [
           "class_0"
          ],
          [
           "class_0"
          ],
          [
           "class_0"
          ],
          [
           "class_0"
          ],
          [
           "class_0"
          ],
          [
           "class_0"
          ],
          [
           "class_0"
          ],
          [
           "class_0"
          ],
          [
           "class_0"
          ],
          [
           "class_0"
          ],
          [
           "class_0"
          ],
          [
           "class_0"
          ],
          [
           "class_0"
          ],
          [
           "class_0"
          ],
          [
           "class_0"
          ],
          [
           "class_0"
          ]
         ],
         "hovertemplate": "Wine Type=%{customdata[0]}<br>Principal Component 1=%{x}<br>Principal Component 2=%{y}<br>Principal Component 3=%{z}<extra></extra>",
         "legendgroup": "class_0",
         "marker": {
          "color": "#636efa",
          "size": 5,
          "symbol": "circle"
         },
         "mode": "markers",
         "name": "class_0",
         "scene": "scene",
         "showlegend": true,
         "type": "scatter3d",
         "x": [
          3.3167508122147797,
          2.209464916918852,
          2.516740146610387,
          3.7570656097732082,
          1.0089084937957162,
          3.050253922418082,
          2.449089669596236,
          2.059436871437916,
          2.510874297398991,
          2.753628187633912,
          3.479736682731214,
          1.7547529012945906,
          2.113462340315097,
          3.458156819336726,
          4.312783906765565,
          2.305188200827973,
          2.1719552737415153,
          1.8989711765627624,
          3.541985081943471,
          2.084522204730315,
          3.124402535167204,
          1.086570068332242,
          2.5352240799037165,
          1.64498834125447,
          1.7615758722693018,
          0.9900791016088567,
          1.77527762811337,
          1.2354239643099063,
          2.188406334451964,
          2.2561089812837096,
          2.5002200257894276,
          2.677411047444016,
          1.6285791164309205,
          1.9026908622381498,
          1.410388526595408,
          1.9038262321944877,
          1.3848622303748401,
          1.1222074104413104,
          1.5021945006181925,
          2.529801092371815,
          2.5880954258544047,
          0.6684819937541889,
          3.0708069904120108,
          0.462209137516009,
          2.101351930538017,
          1.1361661775610212,
          2.726600963640807,
          2.8213392741922516,
          2.0098508509123607,
          2.7074913042663957,
          3.2149174747738245,
          2.8589598267172955,
          3.505604355923225,
          2.2247913805321744,
          2.146987823563869,
          2.4693294837977904,
          2.7415179142774546,
          2.173740920965309,
          3.1393801518289974
         ],
         "y": [
          -1.4434626343180055,
          0.3333928870803005,
          -1.0311512962743206,
          -2.756371913710714,
          -0.8698308214172036,
          -2.122401114634192,
          -1.174850131649472,
          -1.6089630683635086,
          -0.9180709573337756,
          -0.7894376738336062,
          -1.3023332371235954,
          -0.6119772287456314,
          -0.675706339142619,
          -1.1306298761729359,
          -2.0959755753412628,
          -1.6625517299890575,
          -2.327305336191421,
          -1.631368878642839,
          -2.518343669306649,
          -1.0611379935838592,
          -0.7868971056508928,
          -0.24174355133283906,
          0.09184062072088252,
          0.5162789300672357,
          0.31714893268438343,
          -0.9406673381906346,
          -0.6861751342850246,
          0.08980704136063963,
          -0.6895696206616231,
          -0.19146193688666324,
          -1.2408338348969437,
          -1.4718736461032509,
          -0.052704450575322394,
          -1.6330604347699842,
          -0.6979343246113568,
          -0.17671095109545518,
          -0.6586398536611495,
          -0.11410976029688866,
          0.7694320064310095,
          -1.8030019760618263,
          -0.7796163041925068,
          -0.16996094061987482,
          -1.1559189566098829,
          -0.33074213219227433,
          0.07100892095406727,
          -1.777107392977638,
          -1.191334691957182,
          -0.6462585991417028,
          -1.24702946067876,
          -1.751967407206339,
          -0.16699199499679113,
          -0.745278803989588,
          -1.6127338560350122,
          -1.8751679995630268,
          -1.01675153775766,
          -1.3290083106496229,
          -1.4365487835125137,
          -1.212199840697796,
          -1.731579115992514
         ],
         "z": [
          -0.1657390446144193,
          -2.026457373807533,
          0.9828186702120624,
          -0.17619184219949208,
          2.026688219235406,
          -0.6293958270439104,
          -0.9770948907141945,
          0.1462818830615587,
          -1.7709690272289396,
          -0.9842474895182355,
          -0.4227352165808468,
          -1.1908783196301729,
          -0.8650864256166526,
          -1.2042763525381865,
          -1.2639127523579963,
          0.21790261559595814,
          0.8317298659860072,
          0.79491379238107,
          -0.4854585076662908,
          -0.1647466784994746,
          -0.3648870829888464,
          0.9369615996106418,
          -0.31193265934796977,
          0.14388509467079508,
          0.8902856474056868,
          3.820908008194833,
          -0.08670040648876158,
          -1.3868965448964337,
          1.394566880850358,
          -1.0926572575082927,
          1.386017854715677,
          -0.33226172837509316,
          -0.16712870624533308,
          1.172082119175345,
          0.4797430251686617,
          0.45083504003720704,
          0.45843858085206357,
          -0.03910727668974772,
          -1.4261773458904583,
          -0.34315238897969175,
          -0.11847746611373543,
          -0.7833625480611459,
          -0.31275808393415344,
          -0.2014764962567724,
          -0.6558494150434333,
          0.02870573578475024,
          -0.5397732611476731,
          -1.1555524107274064,
          -0.0572939879399227,
          -0.643113612000794,
          -1.9735716799013696,
          0.0047195021646970585,
          -0.5207745300761728,
          0.33954985035420965,
          -0.957762761950326,
          0.5134374530359681,
          -0.6124733957169578,
          0.26177959277079127,
          -0.28566141261644806
         ]
        },
        {
         "customdata": [
          [
           "class_1"
          ],
          [
           "class_1"
          ],
          [
           "class_1"
          ],
          [
           "class_1"
          ],
          [
           "class_1"
          ],
          [
           "class_1"
          ],
          [
           "class_1"
          ],
          [
           "class_1"
          ],
          [
           "class_1"
          ],
          [
           "class_1"
          ],
          [
           "class_1"
          ],
          [
           "class_1"
          ],
          [
           "class_1"
          ],
          [
           "class_1"
          ],
          [
           "class_1"
          ],
          [
           "class_1"
          ],
          [
           "class_1"
          ],
          [
           "class_1"
          ],
          [
           "class_1"
          ],
          [
           "class_1"
          ],
          [
           "class_1"
          ],
          [
           "class_1"
          ],
          [
           "class_1"
          ],
          [
           "class_1"
          ],
          [
           "class_1"
          ],
          [
           "class_1"
          ],
          [
           "class_1"
          ],
          [
           "class_1"
          ],
          [
           "class_1"
          ],
          [
           "class_1"
          ],
          [
           "class_1"
          ],
          [
           "class_1"
          ],
          [
           "class_1"
          ],
          [
           "class_1"
          ],
          [
           "class_1"
          ],
          [
           "class_1"
          ],
          [
           "class_1"
          ],
          [
           "class_1"
          ],
          [
           "class_1"
          ],
          [
           "class_1"
          ],
          [
           "class_1"
          ],
          [
           "class_1"
          ],
          [
           "class_1"
          ],
          [
           "class_1"
          ],
          [
           "class_1"
          ],
          [
           "class_1"
          ],
          [
           "class_1"
          ],
          [
           "class_1"
          ],
          [
           "class_1"
          ],
          [
           "class_1"
          ],
          [
           "class_1"
          ],
          [
           "class_1"
          ],
          [
           "class_1"
          ],
          [
           "class_1"
          ],
          [
           "class_1"
          ],
          [
           "class_1"
          ],
          [
           "class_1"
          ],
          [
           "class_1"
          ],
          [
           "class_1"
          ],
          [
           "class_1"
          ],
          [
           "class_1"
          ],
          [
           "class_1"
          ],
          [
           "class_1"
          ],
          [
           "class_1"
          ],
          [
           "class_1"
          ],
          [
           "class_1"
          ],
          [
           "class_1"
          ],
          [
           "class_1"
          ],
          [
           "class_1"
          ],
          [
           "class_1"
          ],
          [
           "class_1"
          ]
         ],
         "hovertemplate": "Wine Type=%{customdata[0]}<br>Principal Component 1=%{x}<br>Principal Component 2=%{y}<br>Principal Component 3=%{z}<extra></extra>",
         "legendgroup": "class_1",
         "marker": {
          "color": "#EF553B",
          "size": 5,
          "symbol": "circle"
         },
         "mode": "markers",
         "name": "class_1",
         "scene": "scene",
         "showlegend": true,
         "type": "scatter3d",
         "x": [
          -0.9285819689218573,
          -1.5424801378968829,
          -1.8362497634669428,
          0.030606834086679215,
          2.050261607576315,
          -0.6096808271776245,
          0.9002278387071425,
          2.2485071907983945,
          0.1833840266847537,
          -0.8128050273520729,
          1.9756204987985533,
          -1.5722162196263016,
          1.6576818088332894,
          -0.7253723880353569,
          2.5622271731703608,
          1.8325675700495467,
          -0.867992903195415,
          0.37001440429478155,
          -1.4573770449061407,
          1.262930849728498,
          0.37615037193424194,
          0.7620639041095967,
          1.0345779671651871,
          -0.49487675568033007,
          -2.538977084295121,
          0.8353201453942959,
          0.7879046149897084,
          -0.8068321559655406,
          -0.5580426248756849,
          -1.1151110419194488,
          -0.5557228299517037,
          -1.3492852824437327,
          -1.5644826057199082,
          -1.9325556106314654,
          0.7466659419884496,
          0.9574553638036393,
          2.5438651841995537,
          -0.5439525887762299,
          1.0310497503881475,
          2.2519094221481244,
          1.41021601533746,
          0.79771979269304,
          -0.549531726649466,
          -0.16117373994854606,
          -0.6597949416843624,
          0.39235440818508155,
          -1.7724990779600358,
          -0.3662673573520661,
          -1.6206725727874804,
          0.08253578349332594,
          1.5782750709323805,
          1.4205692478240175,
          -0.2787027536488551,
          -1.3031449662482821,
          -0.4570718656526274,
          -0.4941858470443772,
          0.4820744097730904,
          -0.2528888776532025,
          -0.10722763772912498,
          -2.433012602550219,
          -0.5510895391746508,
          0.7396219285682206,
          1.3363217334183293,
          -1.177086996247772,
          -0.4623350080196768,
          0.9784740793566488,
          -0.0968097263159869,
          0.03848714594902431,
          -1.5971585012074743,
          -0.4795649160831269,
          -1.7928334730311444
         ],
         "y": [
          3.073486163188931,
          1.3814435080942284,
          0.8299841230557172,
          1.2627861442114057,
          1.925032604650105,
          1.9080588050851894,
          0.7639114736096096,
          1.8845924845501367,
          2.4271461147035738,
          0.22051398690226923,
          1.4032832253096168,
          0.8849831369082216,
          0.9567121974591535,
          1.0636454007060971,
          -0.26019855065459574,
          1.287878197860526,
          2.4441011855808656,
          2.1539069751569917,
          1.38335176907626,
          0.7708495299701179,
          1.0270434033558251,
          3.375053809963541,
          1.4507097382440937,
          2.3812435267673715,
          0.08744335730498236,
          1.473670551400869,
          2.0266265224624807,
          2.233830390843914,
          2.3729854288494563,
          1.8022471916654537,
          2.6575400353922953,
          2.11800146978482,
          1.8522145217655515,
          1.5594954568986223,
          2.3129317092207433,
          2.223528434667462,
          -0.16927402279974008,
          0.3689265458773163,
          2.565569348733527,
          1.432741380354257,
          2.1661917693703887,
          2.3769488030818646,
          2.2931286432456295,
          1.1644833215600172,
          2.6799611859896366,
          2.0987317087655395,
          1.7172884693761448,
          2.169353297829285,
          1.3555833880259585,
          2.306234587748328,
          1.4620342902048173,
          1.4182066376337517,
          1.9305680886704708,
          0.7631723136577905,
          2.269415607589675,
          1.9390450494868343,
          3.8717838484072415,
          2.821492374701594,
          1.9289220425669613,
          1.2571410404943943,
          2.2221615507766246,
          1.4089566673657128,
          -0.2533369311683068,
          0.6639668398015728,
          0.618288179485045,
          1.445570498895829,
          2.109997993135228,
          1.266762109157887,
          1.2081435741284852,
          1.9388406603940502,
          1.1502881044421054
         ],
         "z": [
          -4.585064007148198,
          -0.874683112445805,
          -1.6057021863206156,
          -1.7844080104188542,
          -0.00736877734981722,
          0.679357937977536,
          0.5733613020971922,
          -2.031840192867584,
          -1.0697455602477979,
          -0.7070053958009633,
          -1.238276219684864,
          -0.6289979502315926,
          1.952584216606193,
          0.08033222861543464,
          3.3743939622397505,
          0.45828002739955764,
          -1.5633331789503762,
          -2.449386348303736,
          -0.22730690232730413,
          -1.1842245173752395,
          1.7944662945426553,
          -0.3574700555394651,
          -0.3630117731639608,
          1.335743176284864,
          0.4742513927691467,
          0.6100935756921066,
          -0.2547234039695496,
          0.7728557971982636,
          2.3076114040119995,
          0.9592533076886535,
          0.849126897743224,
          -0.04765232084869056,
          0.781067030934631,
          -0.08927467610867716,
          0.11467976874541465,
          0.14244477369872496,
          0.7886969907454761,
          1.3088959318568572,
          -1.0863901738177368,
          -0.2302082437978133,
          0.7488964107708787,
          -1.5681125312755255,
          -1.4989353232010763,
          1.0037131028373543,
          -0.7649208684795124,
          -0.47185000760973866,
          0.9470331744608647,
          -0.48132423474228986,
          0.2871590006956168,
          -0.463574989373953,
          1.7796459547332826,
          0.13927582948819076,
          0.07867055304723325,
          1.9995965104868532,
          1.0613389675926654,
          1.323938072376692,
          1.3442712233930711,
          -0.30263978453064033,
          0.6901482425075104,
          -1.9030274044113475,
          -0.35622883021253576,
          1.1253454920042358,
          5.345388179195736,
          3.0102218879464235,
          0.4834423663441781,
          1.481236974995943,
          0.4348261156167878,
          0.6875779128728089,
          3.361175555386424,
          1.2965075188296684,
          0.7828001731822631
         ]
        },
        {
         "customdata": [
          [
           "class_2"
          ],
          [
           "class_2"
          ],
          [
           "class_2"
          ],
          [
           "class_2"
          ],
          [
           "class_2"
          ],
          [
           "class_2"
          ],
          [
           "class_2"
          ],
          [
           "class_2"
          ],
          [
           "class_2"
          ],
          [
           "class_2"
          ],
          [
           "class_2"
          ],
          [
           "class_2"
          ],
          [
           "class_2"
          ],
          [
           "class_2"
          ],
          [
           "class_2"
          ],
          [
           "class_2"
          ],
          [
           "class_2"
          ],
          [
           "class_2"
          ],
          [
           "class_2"
          ],
          [
           "class_2"
          ],
          [
           "class_2"
          ],
          [
           "class_2"
          ],
          [
           "class_2"
          ],
          [
           "class_2"
          ],
          [
           "class_2"
          ],
          [
           "class_2"
          ],
          [
           "class_2"
          ],
          [
           "class_2"
          ],
          [
           "class_2"
          ],
          [
           "class_2"
          ],
          [
           "class_2"
          ],
          [
           "class_2"
          ],
          [
           "class_2"
          ],
          [
           "class_2"
          ],
          [
           "class_2"
          ],
          [
           "class_2"
          ],
          [
           "class_2"
          ],
          [
           "class_2"
          ],
          [
           "class_2"
          ],
          [
           "class_2"
          ],
          [
           "class_2"
          ],
          [
           "class_2"
          ],
          [
           "class_2"
          ],
          [
           "class_2"
          ],
          [
           "class_2"
          ],
          [
           "class_2"
          ],
          [
           "class_2"
          ],
          [
           "class_2"
          ]
         ],
         "hovertemplate": "Wine Type=%{customdata[0]}<br>Principal Component 1=%{x}<br>Principal Component 2=%{y}<br>Principal Component 3=%{z}<extra></extra>",
         "legendgroup": "class_2",
         "marker": {
          "color": "#00cc96",
          "size": 5,
          "symbol": "circle"
         },
         "mode": "markers",
         "name": "class_2",
         "scene": "scene",
         "showlegend": true,
         "type": "scatter3d",
         "x": [
          -1.3271016561416034,
          -2.384500834743531,
          -2.936940102146615,
          -2.146811133816065,
          -2.3698694883330442,
          -3.0638415687203566,
          -3.9157537837118928,
          -3.9364633907159643,
          -3.094276117762276,
          -2.374471628006924,
          -2.778812947632516,
          -2.286561284738471,
          -2.9856334874494674,
          -2.3751946982271073,
          -2.2098655255958723,
          -2.625621004692721,
          -4.2806387787510864,
          -3.582641372001106,
          -2.8070637200816595,
          -2.8996593330239113,
          -2.3207369765492047,
          -2.549830947226138,
          -1.8125412848422997,
          -2.7601446419239513,
          -2.7371505006679935,
          -3.604868868183425,
          -2.889825996873506,
          -3.392156076835723,
          -1.0481818968536776,
          -1.6099122828479366,
          -3.1431309667439757,
          -2.2401568962695433,
          -2.8476737761195214,
          -2.5974970566487645,
          -2.949299373134845,
          -3.5300322663493118,
          -2.406110540478553,
          -2.9290847269674574,
          -2.181412778812621,
          -2.380927787135639,
          -3.21161721504125,
          -3.67791872097382,
          -2.465555798040449,
          -3.370524145442859,
          -2.6019558512247385,
          -2.677839460864502,
          -2.387017091279721,
          -3.208758164198022
         ],
         "y": [
          -0.17038923204902903,
          -0.3745826055246948,
          -0.2638618300683819,
          -0.3682549518864624,
          0.4596348092311647,
          -0.3534128354584059,
          -0.15458251944173504,
          -0.659687233409784,
          -0.34884275927379643,
          -0.29198035155999563,
          -0.28680487288217565,
          -0.37250784468529974,
          -0.489217908347013,
          -0.48233371724487734,
          -1.1600525041576466,
          -0.5631607642108357,
          -0.6496709640237058,
          -1.2727027497273036,
          -1.5705337870412004,
          -2.041057007938467,
          -2.356366075556677,
          -2.045283091019528,
          -1.5276459462687528,
          -2.1389323476426156,
          -0.4098862708817943,
          -1.80238421758397,
          -1.9252186131303446,
          -1.3118763884736002,
          -3.5150896912197336,
          -2.406638159574332,
          -0.7381610441758003,
          -1.1754652881188654,
          -0.5560439658826752,
          -0.6979655372009212,
          -1.5553089642839855,
          -0.8825267962042364,
          -2.592356175042401,
          -1.2744469479044855,
          -2.0775373127345182,
          -2.5886674324185934,
          0.2512491044255896,
          -0.8477478441497666,
          -2.193798303654096,
          -2.216289139861139,
          -1.7572293509792778,
          -2.7608991316745506,
          -2.297346679712823,
          -2.7689195660475767
         ],
         "z": [
          -1.1800133553094831,
          -0.7238225948116621,
          -0.16763981598372152,
          -0.45330130146918646,
          -1.1013997885920535,
          -1.099124104115337,
          0.22182779984104797,
          1.7122154192145327,
          -1.0268314134224492,
          1.2419143328305617,
          0.6096701239723721,
          -0.9716430323608531,
          0.9469529317999684,
          -0.2528839940533344,
          -1.2451252259210637,
          -0.8559610818033758,
          -1.4581969616385668,
          -0.110784037624728,
          -0.4725279345720864,
          -0.49595981023509383,
          0.43768174361875983,
          -0.31226799865093174,
          1.362589781587868,
          -0.9646286882006779,
          -1.1904046839669824,
          -0.09403686133597339,
          -0.7823225555084478,
          1.6020259689000198,
          1.1600385659132246,
          0.5485596972407094,
          -0.09099872392222293,
          -0.10137693249612138,
          0.8042152181010277,
          -0.8849395211306315,
          -0.9834007272249412,
          -0.466029127778541,
          0.4282262107995752,
          -1.2133582715051479,
          0.7637825515581171,
          1.418044029496809,
          -0.8471291521284995,
          -1.3394202310855148,
          -0.9187809604264895,
          -0.34256951241432393,
          0.20758135498124983,
          -0.9409418766769944,
          -0.5506961970110856,
          1.0139136641131112
         ]
        }
       ],
       "layout": {
        "height": 800,
        "legend": {
         "title": {
          "text": "Wine Type"
         },
         "tracegroupgap": 0
        },
        "scene": {
         "aspectmode": "auto",
         "aspectratio": {
          "x": 1.0022303568114697,
          "y": 0.8615134125566926,
          "z": 1.1581649131251075
         },
         "camera": {
          "center": {
           "x": 0,
           "y": 0,
           "z": 0
          },
          "eye": {
           "x": 0.9327863439429532,
           "y": 0.924672292698293,
           "z": 0.7459752055385312
          },
          "projection": {
           "type": "perspective"
          },
          "up": {
           "x": 0,
           "y": 0,
           "z": 1
          }
         },
         "domain": {
          "x": [
           0,
           1
          ],
          "y": [
           0,
           1
          ]
         },
         "xaxis": {
          "title": {
           "text": "Principal Component 1"
          },
          "type": "linear"
         },
         "yaxis": {
          "title": {
           "text": "Principal Component 2"
          },
          "type": "linear"
         },
         "zaxis": {
          "title": {
           "text": "Principal Component 3"
          },
          "type": "linear"
         }
        },
        "template": {
         "data": {
          "bar": [
           {
            "error_x": {
             "color": "#2a3f5f"
            },
            "error_y": {
             "color": "#2a3f5f"
            },
            "marker": {
             "line": {
              "color": "#E5ECF6",
              "width": 0.5
             },
             "pattern": {
              "fillmode": "overlay",
              "size": 10,
              "solidity": 0.2
             }
            },
            "type": "bar"
           }
          ],
          "barpolar": [
           {
            "marker": {
             "line": {
              "color": "#E5ECF6",
              "width": 0.5
             },
             "pattern": {
              "fillmode": "overlay",
              "size": 10,
              "solidity": 0.2
             }
            },
            "type": "barpolar"
           }
          ],
          "carpet": [
           {
            "aaxis": {
             "endlinecolor": "#2a3f5f",
             "gridcolor": "white",
             "linecolor": "white",
             "minorgridcolor": "white",
             "startlinecolor": "#2a3f5f"
            },
            "baxis": {
             "endlinecolor": "#2a3f5f",
             "gridcolor": "white",
             "linecolor": "white",
             "minorgridcolor": "white",
             "startlinecolor": "#2a3f5f"
            },
            "type": "carpet"
           }
          ],
          "choropleth": [
           {
            "colorbar": {
             "outlinewidth": 0,
             "ticks": ""
            },
            "type": "choropleth"
           }
          ],
          "contour": [
           {
            "colorbar": {
             "outlinewidth": 0,
             "ticks": ""
            },
            "colorscale": [
             [
              0,
              "#0d0887"
             ],
             [
              0.1111111111111111,
              "#46039f"
             ],
             [
              0.2222222222222222,
              "#7201a8"
             ],
             [
              0.3333333333333333,
              "#9c179e"
             ],
             [
              0.4444444444444444,
              "#bd3786"
             ],
             [
              0.5555555555555556,
              "#d8576b"
             ],
             [
              0.6666666666666666,
              "#ed7953"
             ],
             [
              0.7777777777777778,
              "#fb9f3a"
             ],
             [
              0.8888888888888888,
              "#fdca26"
             ],
             [
              1,
              "#f0f921"
             ]
            ],
            "type": "contour"
           }
          ],
          "contourcarpet": [
           {
            "colorbar": {
             "outlinewidth": 0,
             "ticks": ""
            },
            "type": "contourcarpet"
           }
          ],
          "heatmap": [
           {
            "colorbar": {
             "outlinewidth": 0,
             "ticks": ""
            },
            "colorscale": [
             [
              0,
              "#0d0887"
             ],
             [
              0.1111111111111111,
              "#46039f"
             ],
             [
              0.2222222222222222,
              "#7201a8"
             ],
             [
              0.3333333333333333,
              "#9c179e"
             ],
             [
              0.4444444444444444,
              "#bd3786"
             ],
             [
              0.5555555555555556,
              "#d8576b"
             ],
             [
              0.6666666666666666,
              "#ed7953"
             ],
             [
              0.7777777777777778,
              "#fb9f3a"
             ],
             [
              0.8888888888888888,
              "#fdca26"
             ],
             [
              1,
              "#f0f921"
             ]
            ],
            "type": "heatmap"
           }
          ],
          "heatmapgl": [
           {
            "colorbar": {
             "outlinewidth": 0,
             "ticks": ""
            },
            "colorscale": [
             [
              0,
              "#0d0887"
             ],
             [
              0.1111111111111111,
              "#46039f"
             ],
             [
              0.2222222222222222,
              "#7201a8"
             ],
             [
              0.3333333333333333,
              "#9c179e"
             ],
             [
              0.4444444444444444,
              "#bd3786"
             ],
             [
              0.5555555555555556,
              "#d8576b"
             ],
             [
              0.6666666666666666,
              "#ed7953"
             ],
             [
              0.7777777777777778,
              "#fb9f3a"
             ],
             [
              0.8888888888888888,
              "#fdca26"
             ],
             [
              1,
              "#f0f921"
             ]
            ],
            "type": "heatmapgl"
           }
          ],
          "histogram": [
           {
            "marker": {
             "pattern": {
              "fillmode": "overlay",
              "size": 10,
              "solidity": 0.2
             }
            },
            "type": "histogram"
           }
          ],
          "histogram2d": [
           {
            "colorbar": {
             "outlinewidth": 0,
             "ticks": ""
            },
            "colorscale": [
             [
              0,
              "#0d0887"
             ],
             [
              0.1111111111111111,
              "#46039f"
             ],
             [
              0.2222222222222222,
              "#7201a8"
             ],
             [
              0.3333333333333333,
              "#9c179e"
             ],
             [
              0.4444444444444444,
              "#bd3786"
             ],
             [
              0.5555555555555556,
              "#d8576b"
             ],
             [
              0.6666666666666666,
              "#ed7953"
             ],
             [
              0.7777777777777778,
              "#fb9f3a"
             ],
             [
              0.8888888888888888,
              "#fdca26"
             ],
             [
              1,
              "#f0f921"
             ]
            ],
            "type": "histogram2d"
           }
          ],
          "histogram2dcontour": [
           {
            "colorbar": {
             "outlinewidth": 0,
             "ticks": ""
            },
            "colorscale": [
             [
              0,
              "#0d0887"
             ],
             [
              0.1111111111111111,
              "#46039f"
             ],
             [
              0.2222222222222222,
              "#7201a8"
             ],
             [
              0.3333333333333333,
              "#9c179e"
             ],
             [
              0.4444444444444444,
              "#bd3786"
             ],
             [
              0.5555555555555556,
              "#d8576b"
             ],
             [
              0.6666666666666666,
              "#ed7953"
             ],
             [
              0.7777777777777778,
              "#fb9f3a"
             ],
             [
              0.8888888888888888,
              "#fdca26"
             ],
             [
              1,
              "#f0f921"
             ]
            ],
            "type": "histogram2dcontour"
           }
          ],
          "mesh3d": [
           {
            "colorbar": {
             "outlinewidth": 0,
             "ticks": ""
            },
            "type": "mesh3d"
           }
          ],
          "parcoords": [
           {
            "line": {
             "colorbar": {
              "outlinewidth": 0,
              "ticks": ""
             }
            },
            "type": "parcoords"
           }
          ],
          "pie": [
           {
            "automargin": true,
            "type": "pie"
           }
          ],
          "scatter": [
           {
            "fillpattern": {
             "fillmode": "overlay",
             "size": 10,
             "solidity": 0.2
            },
            "type": "scatter"
           }
          ],
          "scatter3d": [
           {
            "line": {
             "colorbar": {
              "outlinewidth": 0,
              "ticks": ""
             }
            },
            "marker": {
             "colorbar": {
              "outlinewidth": 0,
              "ticks": ""
             }
            },
            "type": "scatter3d"
           }
          ],
          "scattercarpet": [
           {
            "marker": {
             "colorbar": {
              "outlinewidth": 0,
              "ticks": ""
             }
            },
            "type": "scattercarpet"
           }
          ],
          "scattergeo": [
           {
            "marker": {
             "colorbar": {
              "outlinewidth": 0,
              "ticks": ""
             }
            },
            "type": "scattergeo"
           }
          ],
          "scattergl": [
           {
            "marker": {
             "colorbar": {
              "outlinewidth": 0,
              "ticks": ""
             }
            },
            "type": "scattergl"
           }
          ],
          "scattermapbox": [
           {
            "marker": {
             "colorbar": {
              "outlinewidth": 0,
              "ticks": ""
             }
            },
            "type": "scattermapbox"
           }
          ],
          "scatterpolar": [
           {
            "marker": {
             "colorbar": {
              "outlinewidth": 0,
              "ticks": ""
             }
            },
            "type": "scatterpolar"
           }
          ],
          "scatterpolargl": [
           {
            "marker": {
             "colorbar": {
              "outlinewidth": 0,
              "ticks": ""
             }
            },
            "type": "scatterpolargl"
           }
          ],
          "scatterternary": [
           {
            "marker": {
             "colorbar": {
              "outlinewidth": 0,
              "ticks": ""
             }
            },
            "type": "scatterternary"
           }
          ],
          "surface": [
           {
            "colorbar": {
             "outlinewidth": 0,
             "ticks": ""
            },
            "colorscale": [
             [
              0,
              "#0d0887"
             ],
             [
              0.1111111111111111,
              "#46039f"
             ],
             [
              0.2222222222222222,
              "#7201a8"
             ],
             [
              0.3333333333333333,
              "#9c179e"
             ],
             [
              0.4444444444444444,
              "#bd3786"
             ],
             [
              0.5555555555555556,
              "#d8576b"
             ],
             [
              0.6666666666666666,
              "#ed7953"
             ],
             [
              0.7777777777777778,
              "#fb9f3a"
             ],
             [
              0.8888888888888888,
              "#fdca26"
             ],
             [
              1,
              "#f0f921"
             ]
            ],
            "type": "surface"
           }
          ],
          "table": [
           {
            "cells": {
             "fill": {
              "color": "#EBF0F8"
             },
             "line": {
              "color": "white"
             }
            },
            "header": {
             "fill": {
              "color": "#C8D4E3"
             },
             "line": {
              "color": "white"
             }
            },
            "type": "table"
           }
          ]
         },
         "layout": {
          "annotationdefaults": {
           "arrowcolor": "#2a3f5f",
           "arrowhead": 0,
           "arrowwidth": 1
          },
          "autotypenumbers": "strict",
          "coloraxis": {
           "colorbar": {
            "outlinewidth": 0,
            "ticks": ""
           }
          },
          "colorscale": {
           "diverging": [
            [
             0,
             "#8e0152"
            ],
            [
             0.1,
             "#c51b7d"
            ],
            [
             0.2,
             "#de77ae"
            ],
            [
             0.3,
             "#f1b6da"
            ],
            [
             0.4,
             "#fde0ef"
            ],
            [
             0.5,
             "#f7f7f7"
            ],
            [
             0.6,
             "#e6f5d0"
            ],
            [
             0.7,
             "#b8e186"
            ],
            [
             0.8,
             "#7fbc41"
            ],
            [
             0.9,
             "#4d9221"
            ],
            [
             1,
             "#276419"
            ]
           ],
           "sequential": [
            [
             0,
             "#0d0887"
            ],
            [
             0.1111111111111111,
             "#46039f"
            ],
            [
             0.2222222222222222,
             "#7201a8"
            ],
            [
             0.3333333333333333,
             "#9c179e"
            ],
            [
             0.4444444444444444,
             "#bd3786"
            ],
            [
             0.5555555555555556,
             "#d8576b"
            ],
            [
             0.6666666666666666,
             "#ed7953"
            ],
            [
             0.7777777777777778,
             "#fb9f3a"
            ],
            [
             0.8888888888888888,
             "#fdca26"
            ],
            [
             1,
             "#f0f921"
            ]
           ],
           "sequentialminus": [
            [
             0,
             "#0d0887"
            ],
            [
             0.1111111111111111,
             "#46039f"
            ],
            [
             0.2222222222222222,
             "#7201a8"
            ],
            [
             0.3333333333333333,
             "#9c179e"
            ],
            [
             0.4444444444444444,
             "#bd3786"
            ],
            [
             0.5555555555555556,
             "#d8576b"
            ],
            [
             0.6666666666666666,
             "#ed7953"
            ],
            [
             0.7777777777777778,
             "#fb9f3a"
            ],
            [
             0.8888888888888888,
             "#fdca26"
            ],
            [
             1,
             "#f0f921"
            ]
           ]
          },
          "colorway": [
           "#636efa",
           "#EF553B",
           "#00cc96",
           "#ab63fa",
           "#FFA15A",
           "#19d3f3",
           "#FF6692",
           "#B6E880",
           "#FF97FF",
           "#FECB52"
          ],
          "font": {
           "color": "#2a3f5f"
          },
          "geo": {
           "bgcolor": "white",
           "lakecolor": "white",
           "landcolor": "#E5ECF6",
           "showlakes": true,
           "showland": true,
           "subunitcolor": "white"
          },
          "hoverlabel": {
           "align": "left"
          },
          "hovermode": "closest",
          "mapbox": {
           "style": "light"
          },
          "paper_bgcolor": "white",
          "plot_bgcolor": "#E5ECF6",
          "polar": {
           "angularaxis": {
            "gridcolor": "white",
            "linecolor": "white",
            "ticks": ""
           },
           "bgcolor": "#E5ECF6",
           "radialaxis": {
            "gridcolor": "white",
            "linecolor": "white",
            "ticks": ""
           }
          },
          "scene": {
           "xaxis": {
            "backgroundcolor": "#E5ECF6",
            "gridcolor": "white",
            "gridwidth": 2,
            "linecolor": "white",
            "showbackground": true,
            "ticks": "",
            "zerolinecolor": "white"
           },
           "yaxis": {
            "backgroundcolor": "#E5ECF6",
            "gridcolor": "white",
            "gridwidth": 2,
            "linecolor": "white",
            "showbackground": true,
            "ticks": "",
            "zerolinecolor": "white"
           },
           "zaxis": {
            "backgroundcolor": "#E5ECF6",
            "gridcolor": "white",
            "gridwidth": 2,
            "linecolor": "white",
            "showbackground": true,
            "ticks": "",
            "zerolinecolor": "white"
           }
          },
          "shapedefaults": {
           "line": {
            "color": "#2a3f5f"
           }
          },
          "ternary": {
           "aaxis": {
            "gridcolor": "white",
            "linecolor": "white",
            "ticks": ""
           },
           "baxis": {
            "gridcolor": "white",
            "linecolor": "white",
            "ticks": ""
           },
           "bgcolor": "#E5ECF6",
           "caxis": {
            "gridcolor": "white",
            "linecolor": "white",
            "ticks": ""
           }
          },
          "title": {
           "x": 0.05
          },
          "xaxis": {
           "automargin": true,
           "gridcolor": "white",
           "linecolor": "white",
           "ticks": "",
           "title": {
            "standoff": 15
           },
           "zerolinecolor": "white",
           "zerolinewidth": 2
          },
          "yaxis": {
           "automargin": true,
           "gridcolor": "white",
           "linecolor": "white",
           "ticks": "",
           "title": {
            "standoff": 15
           },
           "zerolinecolor": "white",
           "zerolinewidth": 2
          }
         }
        },
        "title": {
         "text": "3D PCA of Wine Dataset"
        },
        "width": 1000
       }
      },
      "image/png": "[encoded data removed]",
      "text/html": [
       "<div>                            <div id=\"370943ae-2436-4ab6-b894-7feec67c83b8\" class=\"plotly-graph-div\" style=\"height:800px; width:1000px;\"></div>            <script type=\"text/javascript\">                require([\"plotly\"], function(Plotly) {                    window.PLOTLYENV=window.PLOTLYENV || {};                                    if (document.getElementById(\"370943ae-2436-4ab6-b894-7feec67c83b8\")) {                    Plotly.newPlot(                        \"370943ae-2436-4ab6-b894-7feec67c83b8\",                        [{\"customdata\":[[\"class_0\"],[\"class_0\"],[\"class_0\"],[\"class_0\"],[\"class_0\"],[\"class_0\"],[\"class_0\"],[\"class_0\"],[\"class_0\"],[\"class_0\"],[\"class_0\"],[\"class_0\"],[\"class_0\"],[\"class_0\"],[\"class_0\"],[\"class_0\"],[\"class_0\"],[\"class_0\"],[\"class_0\"],[\"class_0\"],[\"class_0\"],[\"class_0\"],[\"class_0\"],[\"class_0\"],[\"class_0\"],[\"class_0\"],[\"class_0\"],[\"class_0\"],[\"class_0\"],[\"class_0\"],[\"class_0\"],[\"class_0\"],[\"class_0\"],[\"class_0\"],[\"class_0\"],[\"class_0\"],[\"class_0\"],[\"class_0\"],[\"class_0\"],[\"class_0\"],[\"class_0\"],[\"class_0\"],[\"class_0\"],[\"class_0\"],[\"class_0\"],[\"class_0\"],[\"class_0\"],[\"class_0\"],[\"class_0\"],[\"class_0\"],[\"class_0\"],[\"class_0\"],[\"class_0\"],[\"class_0\"],[\"class_0\"],[\"class_0\"],[\"class_0\"],[\"class_0\"],[\"class_0\"]],\"hovertemplate\":\"Wine Type=%{customdata[0]}\\u003cbr\\u003ePrincipal Component 1=%{x}\\u003cbr\\u003ePrincipal Component 2=%{y}\\u003cbr\\u003ePrincipal Component 3=%{z}\\u003cextra\\u003e\\u003c\\u002fextra\\u003e\",\"legendgroup\":\"class_0\",\"marker\":{\"color\":\"#636efa\",\"symbol\":\"circle\",\"size\":5},\"mode\":\"markers\",\"name\":\"class_0\",\"scene\":\"scene\",\"showlegend\":true,\"x\":[3.3167508122147797,2.209464916918852,2.516740146610387,3.7570656097732082,1.0089084937957162,3.050253922418082,2.449089669596236,2.059436871437916,2.510874297398991,2.753628187633912,3.479736682731214,1.7547529012945906,2.113462340315097,3.458156819336726,4.312783906765565,2.305188200827973,2.1719552737415153,1.8989711765627624,3.541985081943471,2.084522204730315,3.124402535167204,1.086570068332242,2.5352240799037165,1.64498834125447,1.7615758722693018,0.9900791016088567,1.77527762811337,1.2354239643099063,2.188406334451964,2.2561089812837096,2.5002200257894276,2.677411047444016,1.6285791164309205,1.9026908622381498,1.410388526595408,1.9038262321944877,1.3848622303748401,1.1222074104413104,1.5021945006181925,2.529801092371815,2.5880954258544047,0.6684819937541889,3.0708069904120108,0.462209137516009,2.101351930538017,1.1361661775610212,2.726600963640807,2.8213392741922516,2.0098508509123607,2.7074913042663957,3.2149174747738245,2.8589598267172955,3.505604355923225,2.2247913805321744,2.146987823563869,2.4693294837977904,2.7415179142774546,2.173740920965309,3.1393801518289974],\"y\":[-1.4434626343180055,0.3333928870803005,-1.0311512962743206,-2.756371913710714,-0.8698308214172036,-2.122401114634192,-1.174850131649472,-1.6089630683635086,-0.9180709573337756,-0.7894376738336062,-1.3023332371235954,-0.6119772287456314,-0.675706339142619,-1.1306298761729359,-2.0959755753412628,-1.6625517299890575,-2.327305336191421,-1.631368878642839,-2.518343669306649,-1.0611379935838592,-0.7868971056508928,-0.24174355133283906,0.09184062072088252,0.5162789300672357,0.31714893268438343,-0.9406673381906346,-0.6861751342850246,0.08980704136063963,-0.6895696206616231,-0.19146193688666324,-1.2408338348969437,-1.4718736461032509,-0.052704450575322394,-1.6330604347699842,-0.6979343246113568,-0.17671095109545518,-0.6586398536611495,-0.11410976029688866,0.7694320064310095,-1.8030019760618263,-0.7796163041925068,-0.16996094061987482,-1.1559189566098829,-0.33074213219227433,0.07100892095406727,-1.777107392977638,-1.191334691957182,-0.6462585991417028,-1.24702946067876,-1.751967407206339,-0.16699199499679113,-0.745278803989588,-1.6127338560350122,-1.8751679995630268,-1.01675153775766,-1.3290083106496229,-1.4365487835125137,-1.212199840697796,-1.731579115992514],\"z\":[-0.1657390446144193,-2.026457373807533,0.9828186702120624,-0.17619184219949208,2.026688219235406,-0.6293958270439104,-0.9770948907141945,0.1462818830615587,-1.7709690272289396,-0.9842474895182355,-0.4227352165808468,-1.1908783196301729,-0.8650864256166526,-1.2042763525381865,-1.2639127523579963,0.21790261559595814,0.8317298659860072,0.79491379238107,-0.4854585076662908,-0.1647466784994746,-0.3648870829888464,0.9369615996106418,-0.31193265934796977,0.14388509467079508,0.8902856474056868,3.820908008194833,-0.08670040648876158,-1.3868965448964337,1.394566880850358,-1.0926572575082927,1.386017854715677,-0.33226172837509316,-0.16712870624533308,1.172082119175345,0.4797430251686617,0.45083504003720704,0.45843858085206357,-0.03910727668974772,-1.4261773458904583,-0.34315238897969175,-0.11847746611373543,-0.7833625480611459,-0.31275808393415344,-0.2014764962567724,-0.6558494150434333,0.02870573578475024,-0.5397732611476731,-1.1555524107274064,-0.0572939879399227,-0.643113612000794,-1.9735716799013696,0.0047195021646970585,-0.5207745300761728,0.33954985035420965,-0.957762761950326,0.5134374530359681,-0.6124733957169578,0.26177959277079127,-0.28566141261644806],\"type\":\"scatter3d\"},{\"customdata\":[[\"class_1\"],[\"class_1\"],[\"class_1\"],[\"class_1\"],[\"class_1\"],[\"class_1\"],[\"class_1\"],[\"class_1\"],[\"class_1\"],[\"class_1\"],[\"class_1\"],[\"class_1\"],[\"class_1\"],[\"class_1\"],[\"class_1\"],[\"class_1\"],[\"class_1\"],[\"class_1\"],[\"class_1\"],[\"class_1\"],[\"class_1\"],[\"class_1\"],[\"class_1\"],[\"class_1\"],[\"class_1\"],[\"class_1\"],[\"class_1\"],[\"class_1\"],[\"class_1\"],[\"class_1\"],[\"class_1\"],[\"class_1\"],[\"class_1\"],[\"class_1\"],[\"class_1\"],[\"class_1\"],[\"class_1\"],[\"class_1\"],[\"class_1\"],[\"class_1\"],[\"class_1\"],[\"class_1\"],[\"class_1\"],[\"class_1\"],[\"class_1\"],[\"class_1\"],[\"class_1\"],[\"class_1\"],[\"class_1\"],[\"class_1\"],[\"class_1\"],[\"class_1\"],[\"class_1\"],[\"class_1\"],[\"class_1\"],[\"class_1\"],[\"class_1\"],[\"class_1\"],[\"class_1\"],[\"class_1\"],[\"class_1\"],[\"class_1\"],[\"class_1\"],[\"class_1\"],[\"class_1\"],[\"class_1\"],[\"class_1\"],[\"class_1\"],[\"class_1\"],[\"class_1\"],[\"class_1\"]],\"hovertemplate\":\"Wine Type=%{customdata[0]}\\u003cbr\\u003ePrincipal Component 1=%{x}\\u003cbr\\u003ePrincipal Component 2=%{y}\\u003cbr\\u003ePrincipal Component 3=%{z}\\u003cextra\\u003e\\u003c\\u002fextra\\u003e\",\"legendgroup\":\"class_1\",\"marker\":{\"color\":\"#EF553B\",\"symbol\":\"circle\",\"size\":5},\"mode\":\"markers\",\"name\":\"class_1\",\"scene\":\"scene\",\"showlegend\":true,\"x\":[-0.9285819689218573,-1.5424801378968829,-1.8362497634669428,0.030606834086679215,2.050261607576315,-0.6096808271776245,0.9002278387071425,2.2485071907983945,0.1833840266847537,-0.8128050273520729,1.9756204987985533,-1.5722162196263016,1.6576818088332894,-0.7253723880353569,2.5622271731703608,1.8325675700495467,-0.867992903195415,0.37001440429478155,-1.4573770449061407,1.262930849728498,0.37615037193424194,0.7620639041095967,1.0345779671651871,-0.49487675568033007,-2.538977084295121,0.8353201453942959,0.7879046149897084,-0.8068321559655406,-0.5580426248756849,-1.1151110419194488,-0.5557228299517037,-1.3492852824437327,-1.5644826057199082,-1.9325556106314654,0.7466659419884496,0.9574553638036393,2.5438651841995537,-0.5439525887762299,1.0310497503881475,2.2519094221481244,1.41021601533746,0.79771979269304,-0.549531726649466,-0.16117373994854606,-0.6597949416843624,0.39235440818508155,-1.7724990779600358,-0.3662673573520661,-1.6206725727874804,0.08253578349332594,1.5782750709323805,1.4205692478240175,-0.2787027536488551,-1.3031449662482821,-0.4570718656526274,-0.4941858470443772,0.4820744097730904,-0.2528888776532025,-0.10722763772912498,-2.433012602550219,-0.5510895391746508,0.7396219285682206,1.3363217334183293,-1.177086996247772,-0.4623350080196768,0.9784740793566488,-0.0968097263159869,0.03848714594902431,-1.5971585012074743,-0.4795649160831269,-1.7928334730311444],\"y\":[3.073486163188931,1.3814435080942284,0.8299841230557172,1.2627861442114057,1.925032604650105,1.9080588050851894,0.7639114736096096,1.8845924845501367,2.4271461147035738,0.22051398690226923,1.4032832253096168,0.8849831369082216,0.9567121974591535,1.0636454007060971,-0.26019855065459574,1.287878197860526,2.4441011855808656,2.1539069751569917,1.38335176907626,0.7708495299701179,1.0270434033558251,3.375053809963541,1.4507097382440937,2.3812435267673715,0.08744335730498236,1.473670551400869,2.0266265224624807,2.233830390843914,2.3729854288494563,1.8022471916654537,2.6575400353922953,2.11800146978482,1.8522145217655515,1.5594954568986223,2.3129317092207433,2.223528434667462,-0.16927402279974008,0.3689265458773163,2.565569348733527,1.432741380354257,2.1661917693703887,2.3769488030818646,2.2931286432456295,1.1644833215600172,2.6799611859896366,2.0987317087655395,1.7172884693761448,2.169353297829285,1.3555833880259585,2.306234587748328,1.4620342902048173,1.4182066376337517,1.9305680886704708,0.7631723136577905,2.269415607589675,1.9390450494868343,3.8717838484072415,2.821492374701594,1.9289220425669613,1.2571410404943943,2.2221615507766246,1.4089566673657128,-0.2533369311683068,0.6639668398015728,0.618288179485045,1.445570498895829,2.109997993135228,1.266762109157887,1.2081435741284852,1.9388406603940502,1.1502881044421054],\"z\":[-4.585064007148198,-0.874683112445805,-1.6057021863206156,-1.7844080104188542,-0.00736877734981722,0.679357937977536,0.5733613020971922,-2.031840192867584,-1.0697455602477979,-0.7070053958009633,-1.238276219684864,-0.6289979502315926,1.952584216606193,0.08033222861543464,3.3743939622397505,0.45828002739955764,-1.5633331789503762,-2.449386348303736,-0.22730690232730413,-1.1842245173752395,1.7944662945426553,-0.3574700555394651,-0.3630117731639608,1.335743176284864,0.4742513927691467,0.6100935756921066,-0.2547234039695496,0.7728557971982636,2.3076114040119995,0.9592533076886535,0.849126897743224,-0.04765232084869056,0.781067030934631,-0.08927467610867716,0.11467976874541465,0.14244477369872496,0.7886969907454761,1.3088959318568572,-1.0863901738177368,-0.2302082437978133,0.7488964107708787,-1.5681125312755255,-1.4989353232010763,1.0037131028373543,-0.7649208684795124,-0.47185000760973866,0.9470331744608647,-0.48132423474228986,0.2871590006956168,-0.463574989373953,1.7796459547332826,0.13927582948819076,0.07867055304723325,1.9995965104868532,1.0613389675926654,1.323938072376692,1.3442712233930711,-0.30263978453064033,0.6901482425075104,-1.9030274044113475,-0.35622883021253576,1.1253454920042358,5.345388179195736,3.0102218879464235,0.4834423663441781,1.481236974995943,0.4348261156167878,0.6875779128728089,3.361175555386424,1.2965075188296684,0.7828001731822631],\"type\":\"scatter3d\"},{\"customdata\":[[\"class_2\"],[\"class_2\"],[\"class_2\"],[\"class_2\"],[\"class_2\"],[\"class_2\"],[\"class_2\"],[\"class_2\"],[\"class_2\"],[\"class_2\"],[\"class_2\"],[\"class_2\"],[\"class_2\"],[\"class_2\"],[\"class_2\"],[\"class_2\"],[\"class_2\"],[\"class_2\"],[\"class_2\"],[\"class_2\"],[\"class_2\"],[\"class_2\"],[\"class_2\"],[\"class_2\"],[\"class_2\"],[\"class_2\"],[\"class_2\"],[\"class_2\"],[\"class_2\"],[\"class_2\"],[\"class_2\"],[\"class_2\"],[\"class_2\"],[\"class_2\"],[\"class_2\"],[\"class_2\"],[\"class_2\"],[\"class_2\"],[\"class_2\"],[\"class_2\"],[\"class_2\"],[\"class_2\"],[\"class_2\"],[\"class_2\"],[\"class_2\"],[\"class_2\"],[\"class_2\"],[\"class_2\"]],\"hovertemplate\":\"Wine Type=%{customdata[0]}\\u003cbr\\u003ePrincipal Component 1=%{x}\\u003cbr\\u003ePrincipal Component 2=%{y}\\u003cbr\\u003ePrincipal Component 3=%{z}\\u003cextra\\u003e\\u003c\\u002fextra\\u003e\",\"legendgroup\":\"class_2\",\"marker\":{\"color\":\"#00cc96\",\"symbol\":\"circle\",\"size\":5},\"mode\":\"markers\",\"name\":\"class_2\",\"scene\":\"scene\",\"showlegend\":true,\"x\":[-1.3271016561416034,-2.384500834743531,-2.936940102146615,-2.146811133816065,-2.3698694883330442,-3.0638415687203566,-3.9157537837118928,-3.9364633907159643,-3.094276117762276,-2.374471628006924,-2.778812947632516,-2.286561284738471,-2.9856334874494674,-2.3751946982271073,-2.2098655255958723,-2.625621004692721,-4.2806387787510864,-3.582641372001106,-2.8070637200816595,-2.8996593330239113,-2.3207369765492047,-2.549830947226138,-1.8125412848422997,-2.7601446419239513,-2.7371505006679935,-3.604868868183425,-2.889825996873506,-3.392156076835723,-1.0481818968536776,-1.6099122828479366,-3.1431309667439757,-2.2401568962695433,-2.8476737761195214,-2.5974970566487645,-2.949299373134845,-3.5300322663493118,-2.406110540478553,-2.9290847269674574,-2.181412778812621,-2.380927787135639,-3.21161721504125,-3.67791872097382,-2.465555798040449,-3.370524145442859,-2.6019558512247385,-2.677839460864502,-2.387017091279721,-3.208758164198022],\"y\":[-0.17038923204902903,-0.3745826055246948,-0.2638618300683819,-0.3682549518864624,0.4596348092311647,-0.3534128354584059,-0.15458251944173504,-0.659687233409784,-0.34884275927379643,-0.29198035155999563,-0.28680487288217565,-0.37250784468529974,-0.489217908347013,-0.48233371724487734,-1.1600525041576466,-0.5631607642108357,-0.6496709640237058,-1.2727027497273036,-1.5705337870412004,-2.041057007938467,-2.356366075556677,-2.045283091019528,-1.5276459462687528,-2.1389323476426156,-0.4098862708817943,-1.80238421758397,-1.9252186131303446,-1.3118763884736002,-3.5150896912197336,-2.406638159574332,-0.7381610441758003,-1.1754652881188654,-0.5560439658826752,-0.6979655372009212,-1.5553089642839855,-0.8825267962042364,-2.592356175042401,-1.2744469479044855,-2.0775373127345182,-2.5886674324185934,0.2512491044255896,-0.8477478441497666,-2.193798303654096,-2.216289139861139,-1.7572293509792778,-2.7608991316745506,-2.297346679712823,-2.7689195660475767],\"z\":[-1.1800133553094831,-0.7238225948116621,-0.16763981598372152,-0.45330130146918646,-1.1013997885920535,-1.099124104115337,0.22182779984104797,1.7122154192145327,-1.0268314134224492,1.2419143328305617,0.6096701239723721,-0.9716430323608531,0.9469529317999684,-0.2528839940533344,-1.2451252259210637,-0.8559610818033758,-1.4581969616385668,-0.110784037624728,-0.4725279345720864,-0.49595981023509383,0.43768174361875983,-0.31226799865093174,1.362589781587868,-0.9646286882006779,-1.1904046839669824,-0.09403686133597339,-0.7823225555084478,1.6020259689000198,1.1600385659132246,0.5485596972407094,-0.09099872392222293,-0.10137693249612138,0.8042152181010277,-0.8849395211306315,-0.9834007272249412,-0.466029127778541,0.4282262107995752,-1.2133582715051479,0.7637825515581171,1.418044029496809,-0.8471291521284995,-1.3394202310855148,-0.9187809604264895,-0.34256951241432393,0.20758135498124983,-0.9409418766769944,-0.5506961970110856,1.0139136641131112],\"type\":\"scatter3d\"}],                        {\"template\":{\"data\":{\"histogram2dcontour\":[{\"type\":\"histogram2dcontour\",\"colorbar\":{\"outlinewidth\":0,\"ticks\":\"\"},\"colorscale\":[[0.0,\"#0d0887\"],[0.1111111111111111,\"#46039f\"],[0.2222222222222222,\"#7201a8\"],[0.3333333333333333,\"#9c179e\"],[0.4444444444444444,\"#bd3786\"],[0.5555555555555556,\"#d8576b\"],[0.6666666666666666,\"#ed7953\"],[0.7777777777777778,\"#fb9f3a\"],[0.8888888888888888,\"#fdca26\"],[1.0,\"#f0f921\"]]}],\"choropleth\":[{\"type\":\"choropleth\",\"colorbar\":{\"outlinewidth\":0,\"ticks\":\"\"}}],\"histogram2d\":[{\"type\":\"histogram2d\",\"colorbar\":{\"outlinewidth\":0,\"ticks\":\"\"},\"colorscale\":[[0.0,\"#0d0887\"],[0.1111111111111111,\"#46039f\"],[0.2222222222222222,\"#7201a8\"],[0.3333333333333333,\"#9c179e\"],[0.4444444444444444,\"#bd3786\"],[0.5555555555555556,\"#d8576b\"],[0.6666666666666666,\"#ed7953\"],[0.7777777777777778,\"#fb9f3a\"],[0.8888888888888888,\"#fdca26\"],[1.0,\"#f0f921\"]]}],\"heatmap\":[{\"type\":\"heatmap\",\"colorbar\":{\"outlinewidth\":0,\"ticks\":\"\"},\"colorscale\":[[0.0,\"#0d0887\"],[0.1111111111111111,\"#46039f\"],[0.2222222222222222,\"#7201a8\"],[0.3333333333333333,\"#9c179e\"],[0.4444444444444444,\"#bd3786\"],[0.5555555555555556,\"#d8576b\"],[0.6666666666666666,\"#ed7953\"],[0.7777777777777778,\"#fb9f3a\"],[0.8888888888888888,\"#fdca26\"],[1.0,\"#f0f921\"]]}],\"heatmapgl\":[{\"type\":\"heatmapgl\",\"colorbar\":{\"outlinewidth\":0,\"ticks\":\"\"},\"colorscale\":[[0.0,\"#0d0887\"],[0.1111111111111111,\"#46039f\"],[0.2222222222222222,\"#7201a8\"],[0.3333333333333333,\"#9c179e\"],[0.4444444444444444,\"#bd3786\"],[0.5555555555555556,\"#d8576b\"],[0.6666666666666666,\"#ed7953\"],[0.7777777777777778,\"#fb9f3a\"],[0.8888888888888888,\"#fdca26\"],[1.0,\"#f0f921\"]]}],\"contourcarpet\":[{\"type\":\"contourcarpet\",\"colorbar\":{\"outlinewidth\":0,\"ticks\":\"\"}}],\"contour\":[{\"type\":\"contour\",\"colorbar\":{\"outlinewidth\":0,\"ticks\":\"\"},\"colorscale\":[[0.0,\"#0d0887\"],[0.1111111111111111,\"#46039f\"],[0.2222222222222222,\"#7201a8\"],[0.3333333333333333,\"#9c179e\"],[0.4444444444444444,\"#bd3786\"],[0.5555555555555556,\"#d8576b\"],[0.6666666666666666,\"#ed7953\"],[0.7777777777777778,\"#fb9f3a\"],[0.8888888888888888,\"#fdca26\"],[1.0,\"#f0f921\"]]}],\"surface\":[{\"type\":\"surface\",\"colorbar\":{\"outlinewidth\":0,\"ticks\":\"\"},\"colorscale\":[[0.0,\"#0d0887\"],[0.1111111111111111,\"#46039f\"],[0.2222222222222222,\"#7201a8\"],[0.3333333333333333,\"#9c179e\"],[0.4444444444444444,\"#bd3786\"],[0.5555555555555556,\"#d8576b\"],[0.6666666666666666,\"#ed7953\"],[0.7777777777777778,\"#fb9f3a\"],[0.8888888888888888,\"#fdca26\"],[1.0,\"#f0f921\"]]}],\"mesh3d\":[{\"type\":\"mesh3d\",\"colorbar\":{\"outlinewidth\":0,\"ticks\":\"\"}}],\"scatter\":[{\"fillpattern\":{\"fillmode\":\"overlay\",\"size\":10,\"solidity\":0.2},\"type\":\"scatter\"}],\"parcoords\":[{\"type\":\"parcoords\",\"line\":{\"colorbar\":{\"outlinewidth\":0,\"ticks\":\"\"}}}],\"scatterpolargl\":[{\"type\":\"scatterpolargl\",\"marker\":{\"colorbar\":{\"outlinewidth\":0,\"ticks\":\"\"}}}],\"bar\":[{\"error_x\":{\"color\":\"#2a3f5f\"},\"error_y\":{\"color\":\"#2a3f5f\"},\"marker\":{\"line\":{\"color\":\"#E5ECF6\",\"width\":0.5},\"pattern\":{\"fillmode\":\"overlay\",\"size\":10,\"solidity\":0.2}},\"type\":\"bar\"}],\"scattergeo\":[{\"type\":\"scattergeo\",\"marker\":{\"colorbar\":{\"outlinewidth\":0,\"ticks\":\"\"}}}],\"scatterpolar\":[{\"type\":\"scatterpolar\",\"marker\":{\"colorbar\":{\"outlinewidth\":0,\"ticks\":\"\"}}}],\"histogram\":[{\"marker\":{\"pattern\":{\"fillmode\":\"overlay\",\"size\":10,\"solidity\":0.2}},\"type\":\"histogram\"}],\"scattergl\":[{\"type\":\"scattergl\",\"marker\":{\"colorbar\":{\"outlinewidth\":0,\"ticks\":\"\"}}}],\"scatter3d\":[{\"type\":\"scatter3d\",\"line\":{\"colorbar\":{\"outlinewidth\":0,\"ticks\":\"\"}},\"marker\":{\"colorbar\":{\"outlinewidth\":0,\"ticks\":\"\"}}}],\"scattermapbox\":[{\"type\":\"scattermapbox\",\"marker\":{\"colorbar\":{\"outlinewidth\":0,\"ticks\":\"\"}}}],\"scatterternary\":[{\"type\":\"scatterternary\",\"marker\":{\"colorbar\":{\"outlinewidth\":0,\"ticks\":\"\"}}}],\"scattercarpet\":[{\"type\":\"scattercarpet\",\"marker\":{\"colorbar\":{\"outlinewidth\":0,\"ticks\":\"\"}}}],\"carpet\":[{\"aaxis\":{\"endlinecolor\":\"#2a3f5f\",\"gridcolor\":\"white\",\"linecolor\":\"white\",\"minorgridcolor\":\"white\",\"startlinecolor\":\"#2a3f5f\"},\"baxis\":{\"endlinecolor\":\"#2a3f5f\",\"gridcolor\":\"white\",\"linecolor\":\"white\",\"minorgridcolor\":\"white\",\"startlinecolor\":\"#2a3f5f\"},\"type\":\"carpet\"}],\"table\":[{\"cells\":{\"fill\":{\"color\":\"#EBF0F8\"},\"line\":{\"color\":\"white\"}},\"header\":{\"fill\":{\"color\":\"#C8D4E3\"},\"line\":{\"color\":\"white\"}},\"type\":\"table\"}],\"barpolar\":[{\"marker\":{\"line\":{\"color\":\"#E5ECF6\",\"width\":0.5},\"pattern\":{\"fillmode\":\"overlay\",\"size\":10,\"solidity\":0.2}},\"type\":\"barpolar\"}],\"pie\":[{\"automargin\":true,\"type\":\"pie\"}]},\"layout\":{\"autotypenumbers\":\"strict\",\"colorway\":[\"#636efa\",\"#EF553B\",\"#00cc96\",\"#ab63fa\",\"#FFA15A\",\"#19d3f3\",\"#FF6692\",\"#B6E880\",\"#FF97FF\",\"#FECB52\"],\"font\":{\"color\":\"#2a3f5f\"},\"hovermode\":\"closest\",\"hoverlabel\":{\"align\":\"left\"},\"paper_bgcolor\":\"white\",\"plot_bgcolor\":\"#E5ECF6\",\"polar\":{\"bgcolor\":\"#E5ECF6\",\"angularaxis\":{\"gridcolor\":\"white\",\"linecolor\":\"white\",\"ticks\":\"\"},\"radialaxis\":{\"gridcolor\":\"white\",\"linecolor\":\"white\",\"ticks\":\"\"}},\"ternary\":{\"bgcolor\":\"#E5ECF6\",\"aaxis\":{\"gridcolor\":\"white\",\"linecolor\":\"white\",\"ticks\":\"\"},\"baxis\":{\"gridcolor\":\"white\",\"linecolor\":\"white\",\"ticks\":\"\"},\"caxis\":{\"gridcolor\":\"white\",\"linecolor\":\"white\",\"ticks\":\"\"}},\"coloraxis\":{\"colorbar\":{\"outlinewidth\":0,\"ticks\":\"\"}},\"colorscale\":{\"sequential\":[[0.0,\"#0d0887\"],[0.1111111111111111,\"#46039f\"],[0.2222222222222222,\"#7201a8\"],[0.3333333333333333,\"#9c179e\"],[0.4444444444444444,\"#bd3786\"],[0.5555555555555556,\"#d8576b\"],[0.6666666666666666,\"#ed7953\"],[0.7777777777777778,\"#fb9f3a\"],[0.8888888888888888,\"#fdca26\"],[1.0,\"#f0f921\"]],\"sequentialminus\":[[0.0,\"#0d0887\"],[0.1111111111111111,\"#46039f\"],[0.2222222222222222,\"#7201a8\"],[0.3333333333333333,\"#9c179e\"],[0.4444444444444444,\"#bd3786\"],[0.5555555555555556,\"#d8576b\"],[0.6666666666666666,\"#ed7953\"],[0.7777777777777778,\"#fb9f3a\"],[0.8888888888888888,\"#fdca26\"],[1.0,\"#f0f921\"]],\"diverging\":[[0,\"#8e0152\"],[0.1,\"#c51b7d\"],[0.2,\"#de77ae\"],[0.3,\"#f1b6da\"],[0.4,\"#fde0ef\"],[0.5,\"#f7f7f7\"],[0.6,\"#e6f5d0\"],[0.7,\"#b8e186\"],[0.8,\"#7fbc41\"],[0.9,\"#4d9221\"],[1,\"#276419\"]]},\"xaxis\":{\"gridcolor\":\"white\",\"linecolor\":\"white\",\"ticks\":\"\",\"title\":{\"standoff\":15},\"zerolinecolor\":\"white\",\"automargin\":true,\"zerolinewidth\":2},\"yaxis\":{\"gridcolor\":\"white\",\"linecolor\":\"white\",\"ticks\":\"\",\"title\":{\"standoff\":15},\"zerolinecolor\":\"white\",\"automargin\":true,\"zerolinewidth\":2},\"scene\":{\"xaxis\":{\"backgroundcolor\":\"#E5ECF6\",\"gridcolor\":\"white\",\"linecolor\":\"white\",\"showbackground\":true,\"ticks\":\"\",\"zerolinecolor\":\"white\",\"gridwidth\":2},\"yaxis\":{\"backgroundcolor\":\"#E5ECF6\",\"gridcolor\":\"white\",\"linecolor\":\"white\",\"showbackground\":true,\"ticks\":\"\",\"zerolinecolor\":\"white\",\"gridwidth\":2},\"zaxis\":{\"backgroundcolor\":\"#E5ECF6\",\"gridcolor\":\"white\",\"linecolor\":\"white\",\"showbackground\":true,\"ticks\":\"\",\"zerolinecolor\":\"white\",\"gridwidth\":2}},\"shapedefaults\":{\"line\":{\"color\":\"#2a3f5f\"}},\"annotationdefaults\":{\"arrowcolor\":\"#2a3f5f\",\"arrowhead\":0,\"arrowwidth\":1},\"geo\":{\"bgcolor\":\"white\",\"landcolor\":\"#E5ECF6\",\"subunitcolor\":\"white\",\"showland\":true,\"showlakes\":true,\"lakecolor\":\"white\"},\"title\":{\"x\":0.05},\"mapbox\":{\"style\":\"light\"}}},\"scene\":{\"domain\":{\"x\":[0.0,1.0],\"y\":[0.0,1.0]},\"xaxis\":{\"title\":{\"text\":\"Principal Component 1\"}},\"yaxis\":{\"title\":{\"text\":\"Principal Component 2\"}},\"zaxis\":{\"title\":{\"text\":\"Principal Component 3\"}}},\"legend\":{\"title\":{\"text\":\"Wine Type\"},\"tracegroupgap\":0},\"title\":{\"text\":\"3D PCA of Wine Dataset\"},\"width\":1000,\"height\":800},                        {\"responsive\": true}                    ).then(function(){\n",
       "                            \n",
       "var gd = document.getElementById('370943ae-2436-4ab6-b894-7feec67c83b8');\n",
       "var x = new MutationObserver(function (mutations, observer) {{\n",
       "        var display = window.getComputedStyle(gd).display;\n",
       "        if (!display || display === 'none') {{\n",
       "            console.log([gd, 'removed!']);\n",
       "            Plotly.purge(gd);\n",
       "            observer.disconnect();\n",
       "        }}\n",
       "}});\n",
       "\n",
       "// Listen for the removal of the full notebook cells\n",
       "var notebookContainer = gd.closest('#notebook-container');\n",
       "if (notebookContainer) {{\n",
       "    x.observe(notebookContainer, {childList: true});\n",
       "}}\n",
       "\n",
       "// Listen for the clearing of the current output cell\n",
       "var outputEl = gd.closest('.output');\n",
       "if (outputEl) {{\n",
       "    x.observe(outputEl, {childList: true});\n",
       "}}\n",
       "\n",
       "                        })                };                });            </script>        </div>"
      ]
     },
     "metadata": {},
     "output_type": "display_data"
    }
   ],
   "source": [
    "# Create a DataFrame for easier plotting\n",
    "pca_df = pd.DataFrame(data=X_pca, columns=['PC1', 'PC2', 'PC3'])\n",
    "pca_df['Wine Type'] = [wine.target_names[i] for i in y]\n",
    "\n",
    "# Plotting the 3D scatter plot\n",
    "fig = px.scatter_3d(pca_df, x='PC1', y='PC2', z='PC3', color='Wine Type',\n",
    "                     title='3D PCA of Wine Dataset',\n",
    "                     labels={'PC1': 'Principal Component 1', 'PC2': 'Principal Component 2', 'PC3': 'Principal Component 3'},\n",
    "                     hover_data={'Wine Type': True})\n",
    "fig.update_traces(marker=dict(size=5))\n",
    "fig.update_layout(width=1000, height=800)  # Increased dimensions\n",
    "fig.show()\n"
   ]
  },
  {
   "cell_type": "markdown",
   "id": "f3e3aff1-ce68-4826-b789-da161b395d93",
   "metadata": {},
   "source": [
    "## Interpretación de los Resultados\n",
    "\n",
    "El diagrama de dispersión de los tres primeros componentes principales revela cómo el PCA ha logrado capturar la varianza y agrupar los vinos basado en sus composiciones químicas. Los diferentes tipos de vino son claramente separables hasta cierto punto, lo que sugiere que estos componentes capturan diferencias clave entre ellos.\n"
   ]
  },
  {
   "cell_type": "markdown",
   "id": "6b10c983-2035-40da-99eb-9b2bce911ed5",
   "metadata": {},
   "source": [
    "## Conclusión\n",
    "\n",
    "Este análisis de PCA del conjunto de datos del vino ha reducido exitosamente la dimensionalidad de 13 propiedades químicas a solo 2 componentes principales, capturando una varianza significativa y revelando agrupaciones que corresponden bien con los tipos de vino. Este método resulta efectivo para el análisis exploratorio de datos y ayuda a entender relaciones complejas en los datos.\n"
   ]
  }
 ],
 "metadata": {
  "kernelspec": {
   "display_name": "Python 3 (ipykernel)",
   "language": "python",
   "name": "python3"
  },
  "language_info": {
   "codemirror_mode": {
    "name": "ipython",
    "version": 3
   },
   "file_extension": ".py",
   "mimetype": "text/x-python",
   "name": "python",
   "nbconvert_exporter": "python",
   "pygments_lexer": "ipython3",
   "version": "3.11.9"
  }
 },
 "nbformat": 4,
 "nbformat_minor": 5
}
