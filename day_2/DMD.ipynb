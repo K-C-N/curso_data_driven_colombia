{
  "nbformat": 4,
  "nbformat_minor": 0,
  "metadata": {
    "colab": {
      "provenance": []
    },
    "kernelspec": {
      "name": "python3",
      "display_name": "Python 3"
    },
    "language_info": {
      "name": "python"
    }
  },
  "cells": [
    {
      "cell_type": "markdown",
      "source": [
        "Dynamic Mode Decomposition (DMD)"
      ],
      "metadata": {
        "id": "P2jos69upqmr"
      }
    },
    {
      "cell_type": "code",
      "execution_count": 1,
      "metadata": {
        "id": "-WjWxjBEpZtJ"
      },
      "outputs": [],
      "source": [
        "import numpy as np\n",
        "from scipy.linalg import svd, eig\n",
        "\n",
        "def DMD(X, Xprime, r):\n",
        "    U, Sigma, Vh = svd(X, full_matrices=False)\n",
        "    Ur = U[:, :r]\n",
        "    Sigmar = np.diag(Sigma)[:r, :r]\n",
        "    Vr = Vh[:, :r]\n",
        "\n",
        "    # Paso 1: Calcular A tilde\n",
        "    Atilde= Ur.T @ Xprime @ Vr @ np.linalg.inv(Sigmar)\n",
        "\n",
        "\n",
        "    # Paso 2: Calcular W y Lambda\n",
        "    Lambda, W = np.linalg.eig(Atilde)\n",
        "    D=np.diag(Lambda)\n",
        "\n",
        "\n",
        "    # Paso 4: Calcular Phi\n",
        "    Phi = Xprime @ Vr @ np.linalg.inv(Sigmar) @ W\n",
        "\n",
        "\n",
        "    # Calcular b\n",
        "    L=Vr[0,np.newaxis]\n",
        "    alpha1 = Sigmar @ L.T\n",
        "\n",
        "    b = np.linalg.solve(W @ D, alpha1)\n",
        "\n",
        "    return Phi, Lambda, b\n",
        "\n"
      ]
    },
    {
      "cell_type": "code",
      "source": [
        "# Ejemplo de uso\n",
        "X = np.random.rand(100, 10)\n",
        "Xprime = np.random.rand(100, 10)\n",
        "r = 3\n",
        "Phi, Lambda, b = DMD(X, Xprime, r)"
      ],
      "metadata": {
        "id": "rR8TmBOpqi6p"
      },
      "execution_count": 2,
      "outputs": []
    },
    {
      "cell_type": "code",
      "source": [],
      "metadata": {
        "id": "1NH1CR8IqwWb"
      },
      "execution_count": null,
      "outputs": []
    }
  ]
}