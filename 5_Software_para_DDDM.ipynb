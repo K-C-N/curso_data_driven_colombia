{
  "nbformat": 4,
  "nbformat_minor": 0,
  "metadata": {
    "colab": {
      "provenance": []
    },
    "kernelspec": {
      "name": "python3",
      "display_name": "Python 3"
    },
    "language_info": {
      "name": "python"
    }
  },
  "cells": [
    {
      "cell_type": "markdown",
      "source": [
        "![Colab logo](https://ciencias.cayetano.edu.pe/wp-content/uploads/sites/28/2024/04/ivencuentro-1024x375.jpg)"
      ],
      "metadata": {
        "id": "W4le3971dp05"
      }
    },
    {
      "cell_type": "markdown",
      "source": [
        "# **Introducción a Data Driven**\n",
        "\n",
        "## **Instructor**\n",
        "\n",
        "> Dr. Pastor E Pérez Estigarribia\n",
        "\n",
        "\n",
        "- [scholar.google](https://bit.ly/352EvtP)\n",
        "\n",
        "- [researchgate](https://bit.ly/3tJ6TLD)\n"
      ],
      "metadata": {
        "id": "2JUvn1NVd2Yj"
      }
    },
    {
      "cell_type": "markdown",
      "source": [
        "# [**Agenda de hoy**](https://colab.research.google.com/drive/12Dej0Q6M-XGM3VIFhuqTNFbnyqgXNlUV?usp=sharing)\n",
        "\n",
        "1. [Data Driven](https://colab.research.google.com/drive/1VXo-8FxheqRjodT-bN_QJT6ldKydRlt6?usp=sharing)\n",
        "\n",
        "    1.1. ¿Qué es Data Driven?\n",
        "\n",
        "    1.2. Modelado y aprendizaje basados en datos en ciencia e ingeniería\n",
        "\n",
        "    1.3. Ventajas del Toma de Decisiones Basada en Datos (DDDM)\n",
        "\n",
        "    1.4. Proceso de DDDM\n",
        "\n",
        "    1.5. Ejemplos de DDDM: de supuestos a presupuestos\n",
        "\n",
        "    1.6. Review en data-driven science\n",
        "\n",
        "2. [La Ciencia y Ciencia de Datos](https://colab.research.google.com/drive/1wQdq0qgMyEGNXZqQaWenv6X6wrA4kEfH?usp=sharing)\n",
        "\n",
        "    2.1. El método científico\n",
        "\n",
        "    2.2. Modelos para simular la realidad\n",
        "\n",
        "    2.3. La Ciencia y sus teorías de decisión ¿Cuál es el mejor modelo?\n",
        "\n",
        "    2.4. Agregar valor a los datos y grados de evidencia\n",
        "\n",
        "3. [Ingeniería de datos (Teoría y Práctica)](https://colab.research.google.com/drive/1JCHoXNnb_v7vvBUi2m7c5fSbDYEEbeSE?usp=sharing)\n",
        "\n",
        "    3.1. Data Engineer\n",
        "\n",
        "    3.2. Arquitectura de canalización de datos\n",
        "\n",
        "    3.3. Extract, Transform, Load (ETL)\n",
        "\n",
        "    3.4. Clean & Tidy data\n",
        "\n",
        "    3.5. Ingeniería de atributos\n",
        "\n",
        "4. [Analítica de datos (Teoría y Práctica)](https://colab.research.google.com/drive/1pdle5OrgiES8mkta_jJpPFzVvxoK2m-I?usp=sharing)\n",
        "\n",
        "    4.1. Analítica descriptiva (EDA)\n",
        "\n",
        "    4.2. Analítica de diagnóstico (Pruebas de hipótesis)\n",
        "\n",
        "    4.3. Analítica predicativa (Inferencia e IA)\n",
        "\n",
        "    4.4. Analítica prescriptiva\n",
        "\n",
        "5. [Software para DDDM](https://colab.research.google.com/drive/1LayE9WUWA1vxS_v8Z3VQ1m9UR9zvUudB?usp=sharing) ([Dashboard](https://en.wikipedia.org/wiki/Dashboard_(computing) [web app](https://en.wikipedia.org/wiki/Web_application) Ejemplo en salud pública)\n",
        "\n",
        "    5.1. [EpyGraph](http://epygraph-demo.uaa.edu.py/es/)\n",
        "\n",
        "    5.3. [Riesgo de reborte](https://dgvs.mspbs.gov.py/riesgo-de-rebrote-covid-19/)  \n",
        "\n",
        "    5.2. [EpyModel 1.0](http://epymodel.uaa.edu.py/)\n",
        "\n",
        "    5.2. [EpyModel 1.1](http://epymodel.uaa.edu.py:3000/)\n",
        "    \n",
        "  \n",
        "\n"
      ],
      "metadata": {
        "id": "zf_cvvGeeCHJ"
      }
    },
    {
      "cell_type": "markdown",
      "source": [
        "# 5. [Software para DDDM](https://colab.research.google.com/drive/1LayE9WUWA1vxS_v8Z3VQ1m9UR9zvUudB?usp=sharing) ([Dashboard](https://en.wikipedia.org/wiki/Dashboard_(computing) [web app](https://en.wikipedia.org/wiki/Web_application) Ejemplo en salud pública)\n",
        "\n"
      ],
      "metadata": {
        "id": "n4uBUiWHPA-S"
      }
    },
    {
      "cell_type": "markdown",
      "source": [
        "##     5.1. [EpyGraph](http://epygraph-demo.uaa.edu.py/es/)\n",
        "\n",
        "- [Graph-based system for predictive epidemiological surveillance](https://europepmc.org/article/ppr/ppr514104)\n",
        "    "
      ],
      "metadata": {
        "id": "OyMO7CfDPFHb"
      }
    },
    {
      "cell_type": "markdown",
      "source": [
        "##     5.3. [Riesgo de reborte](https://dgvs.mspbs.gov.py/riesgo-de-rebrote-covid-19/)  \n",
        "\n",
        "\n",
        "- [Capitulo III: Proyecciones covid-19 e indicadores de seguimiento de la pandemia en Paraguay. Informe epidemiológico pandemia covid-19. Paraguay, años 2020-2021](https://www.researchgate.net/publication/369196884_Capitulo_III_Proyecciones_covid-19_e_indicadores_de_seguimiento_de_la_pandemia_en_Paraguay_Informe_epidemiologico_pandemia_covid-19_Paraguay_anos_2020-2021)"
      ],
      "metadata": {
        "id": "8YQz-rkZPMdA"
      }
    },
    {
      "cell_type": "markdown",
      "source": [
        "##      5.2. [EpyModel 1.0](http://epymodel.uaa.edu.py/)\n",
        "\n",
        "- [Epymodel: A User-Friendly Web Application for Visualising COVID-19 Projections for Paraguay Including Under-Reporting and Vaccination](https://link.springer.com/chapter/10.1007/978-3-031-36357-3_5)\n",
        "\n",
        "- [A Mathematical Model for COVID-19 with Variable Transmissibility and Hospitalizations: A Case Study in Paraguay](https://www.mdpi.com/2076-3417/11/20/9726)\n",
        "\n"
      ],
      "metadata": {
        "id": "rLBeoV6vPPEm"
      }
    },
    {
      "cell_type": "markdown",
      "source": [
        "##     5.2. [EpyModel 1.1](http://epymodel.uaa.edu.py:3000/)"
      ],
      "metadata": {
        "id": "kBPM9rMjPR4_"
      }
    }
  ]
}